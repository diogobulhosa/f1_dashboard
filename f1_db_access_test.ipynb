{
 "cells": [
  {
   "cell_type": "code",
   "execution_count": 211,
   "metadata": {},
   "outputs": [],
   "source": [
    "import pandas as pd\n",
    "import plotly.graph_objs as go"
   ]
  },
  {
   "cell_type": "code",
   "execution_count": 212,
   "metadata": {},
   "outputs": [],
   "source": [
    "df_circuits = pd.read_csv('./data/circuits.csv', header = 0)\n",
    "df_drivers = pd.read_csv('./data/drivers.csv',header = 0)\n",
    "df_races = pd.read_csv('./data/races.csv',header = 0, delimiter = ';')\n",
    "df_results = pd.read_csv('./data/results.csv',header = 0)\n",
    "#df_circuits = pd.read_csv('./data/circuits.csv')\n",
    "\n",
    "df_races.set_index('raceId', inplace=True)\n",
    "df_results.set_index('resultId', inplace=True)\n",
    "df_drivers.set_index('driverId', inplace=True)"
   ]
  },
  {
   "cell_type": "code",
   "execution_count": 228,
   "metadata": {},
   "outputs": [],
   "source": [
    "df_final = pd.read_excel('./data/circuits_drivers_races_results.xlsx')"
   ]
  },
  {
   "cell_type": "code",
   "execution_count": null,
   "metadata": {},
   "outputs": [],
   "source": [
    "drivers_list = df_results[(df_results['raceId'].isin(race_list)) & (df_results['positionText'] == '1')].groupby('driverId')['driverId'].count().sort_values(ascending = False).index.tolist()\n",
    "# get the number of wins by each driver \n",
    "winning_list = df_results[(df_results['raceId'].isin(race_list)) & (df_results['positionText'] == '1')].groupby('driverId')['driverId'].count().sort_values(ascending = False).tolist()\n",
    "    "
   ]
  },
  {
   "cell_type": "code",
   "execution_count": 263,
   "metadata": {},
   "outputs": [],
   "source": [
    "circuit_name = 'Bahrain International Circuit'"
   ]
  },
  {
   "cell_type": "code",
   "execution_count": 264,
   "metadata": {},
   "outputs": [
    {
     "data": {
      "text/plain": [
       "['Hamilton',\n",
       " 'Vettel',\n",
       " 'Alonso',\n",
       " 'Massa',\n",
       " 'Button',\n",
       " 'Leclerc',\n",
       " 'Pérez',\n",
       " 'Rosberg',\n",
       " 'Schumacher']"
      ]
     },
     "execution_count": 264,
     "metadata": {},
     "output_type": "execute_result"
    }
   ],
   "source": [
    "df_final[(df_final['circuits.name'] == circuit_name) & (df_final['positionText'] == 1)].groupby('drivers.surname')['drivers.surname'].count().sort_values(ascending = False).index.tolist()"
   ]
  },
  {
   "cell_type": "code",
   "execution_count": 214,
   "metadata": {},
   "outputs": [],
   "source": [
    "def get_circuit_id(circuit_name):\n",
    "    for index,circuit in enumerate(df_circuits): \n",
    "        if df_circuits['name'][index] == circuit_name:\n",
    "            id_circuit = df_circuits['circuitId'][index]\n",
    "\n",
    "    return id_circuit"
   ]
  },
  {
   "cell_type": "code",
   "execution_count": 215,
   "metadata": {},
   "outputs": [],
   "source": [
    "def get_driver_name(driver_id):\n",
    "    for driver in df_drivers.index: \n",
    "        if driver == driver_id:\n",
    "            driver_name = df_drivers['forename'][driver] + ' '+ df_drivers['surname'][driver]\n",
    "\n",
    "    return driver_name"
   ]
  },
  {
   "cell_type": "code",
   "execution_count": 219,
   "metadata": {},
   "outputs": [],
   "source": [
    "def best_pilot_circuit(circuit): \n",
    "    # get the races in the circuit \n",
    "    race_list = df_races[df_races.circuitId == get_circuit_id(circuit_name)].index.tolist()\n",
    "    # get the winning drivers from that circuit\n",
    "    drivers_list = df_results[(df_results['raceId'].isin(race_list)) & (df_results['positionText'] == '1')].groupby('driverId')['driverId'].count().sort_values(ascending = False).index.tolist()\n",
    "    # get the number of wins by each driver \n",
    "    winning_list = df_results[(df_results['raceId'].isin(race_list)) & (df_results['positionText'] == '1')].groupby('driverId')['driverId'].count().sort_values(ascending = False).tolist()\n",
    "    \n",
    "    # convert drivers id into names\n",
    "    drivers_names = []\n",
    "    for driver_id in drivers_list: \n",
    "        drivers_names.append(get_driver_name(driver_id))\n",
    "\n",
    "    d = {'Drivers':drivers_names,'Wins':winning_list}\n",
    "    df_wins = pd.DataFrame(d)\n",
    "\n",
    "    fig = px.histogram(df, x=\"day\", category_orders=dict(day=[\"Thur\", \"Fri\", \"Sat\", \"Sun\"]))\n",
    "    fig.show()\n",
    "    "
   ]
  },
  {
   "cell_type": "code",
   "execution_count": 220,
   "metadata": {},
   "outputs": [
    {
     "ename": "TypeError",
     "evalue": "'module' object is not callable",
     "output_type": "error",
     "traceback": [
      "\u001b[1;31m---------------------------------------------------------------------------\u001b[0m",
      "\u001b[1;31mTypeError\u001b[0m                                 Traceback (most recent call last)",
      "\u001b[1;32m~\\AppData\\Local\\Temp/ipykernel_5020/922122643.py\u001b[0m in \u001b[0;36m<module>\u001b[1;34m\u001b[0m\n\u001b[1;32m----> 1\u001b[1;33m \u001b[0mbest_pilot_circuit\u001b[0m\u001b[1;33m(\u001b[0m\u001b[0mcircuit_name\u001b[0m\u001b[1;33m)\u001b[0m\u001b[1;33m\u001b[0m\u001b[1;33m\u001b[0m\u001b[0m\n\u001b[0m",
      "\u001b[1;32m~\\AppData\\Local\\Temp/ipykernel_5020/2600396883.py\u001b[0m in \u001b[0;36mbest_pilot_circuit\u001b[1;34m(circuit)\u001b[0m\n\u001b[0;32m     15\u001b[0m     \u001b[0mdf_wins\u001b[0m \u001b[1;33m=\u001b[0m \u001b[0mpd\u001b[0m\u001b[1;33m.\u001b[0m\u001b[0mDataFrame\u001b[0m\u001b[1;33m(\u001b[0m\u001b[0md\u001b[0m\u001b[1;33m)\u001b[0m\u001b[1;33m\u001b[0m\u001b[1;33m\u001b[0m\u001b[0m\n\u001b[0;32m     16\u001b[0m \u001b[1;33m\u001b[0m\u001b[0m\n\u001b[1;32m---> 17\u001b[1;33m     \u001b[0mfig\u001b[0m \u001b[1;33m=\u001b[0m \u001b[0mgo\u001b[0m\u001b[1;33m.\u001b[0m\u001b[0mhistogram\u001b[0m\u001b[1;33m(\u001b[0m\u001b[0mdf_wins\u001b[0m\u001b[1;33m,\u001b[0m \u001b[0mx\u001b[0m\u001b[1;33m=\u001b[0m\u001b[1;34m\"Drivers\"\u001b[0m\u001b[1;33m)\u001b[0m\u001b[1;33m\u001b[0m\u001b[1;33m\u001b[0m\u001b[0m\n\u001b[0m\u001b[0;32m     18\u001b[0m     \u001b[0mfig\u001b[0m\u001b[1;33m.\u001b[0m\u001b[0mupdate_layout\u001b[0m\u001b[1;33m(\u001b[0m\u001b[0mbargap\u001b[0m\u001b[1;33m=\u001b[0m\u001b[1;36m0.2\u001b[0m\u001b[1;33m)\u001b[0m\u001b[1;33m\u001b[0m\u001b[1;33m\u001b[0m\u001b[0m\n\u001b[0;32m     19\u001b[0m     \u001b[0mfig\u001b[0m\u001b[1;33m.\u001b[0m\u001b[0mshow\u001b[0m\u001b[1;33m(\u001b[0m\u001b[1;33m)\u001b[0m\u001b[1;33m\u001b[0m\u001b[1;33m\u001b[0m\u001b[0m\n",
      "\u001b[1;31mTypeError\u001b[0m: 'module' object is not callable"
     ]
    }
   ],
   "source": [
    "best_pilot_circuit(circuit_name)"
   ]
  },
  {
   "cell_type": "code",
   "execution_count": null,
   "metadata": {},
   "outputs": [],
   "source": []
  }
 ],
 "metadata": {
  "interpreter": {
   "hash": "7c5bc60f1b709cc28d984b044e46a36e86d71fb0a6f2e3589923fa1d0135e80a"
  },
  "kernelspec": {
   "display_name": "Python 3.8.12 ('ML')",
   "language": "python",
   "name": "python3"
  },
  "language_info": {
   "codemirror_mode": {
    "name": "ipython",
    "version": 3
   },
   "file_extension": ".py",
   "mimetype": "text/x-python",
   "name": "python",
   "nbconvert_exporter": "python",
   "pygments_lexer": "ipython3",
   "version": "3.8.12"
  },
  "orig_nbformat": 4
 },
 "nbformat": 4,
 "nbformat_minor": 2
}
