{
 "cells": [
  {
   "cell_type": "code",
   "execution_count": 1,
   "metadata": {},
   "outputs": [],
   "source": [
    "import pandas as pd\n",
    "import plotly.graph_objs as go"
   ]
  },
  {
   "cell_type": "code",
   "execution_count": 56,
   "metadata": {},
   "outputs": [],
   "source": [
    "df_circuits = pd.read_csv('./data/circuits.csv', header = 0)\n",
    "df_drivers = pd.read_csv('./data/drivers.csv',header = 0)\n",
    "df_races = pd.read_csv('./data/races.csv',header = 0, delimiter = ';')\n",
    "df_results = pd.read_csv('./data/results.csv',header = 0)\n",
    "#df_circuits = pd.read_csv('./data/circuits.csv')\n",
    "df_laps = pd.read_csv('./data/lap_times.csv',header = 0)\n",
    "\n",
    "df_races.set_index('raceId', inplace=True)\n",
    "df_results.set_index('resultId', inplace=True)\n",
    "df_drivers.set_index('driverId', inplace=True)"
   ]
  },
  {
   "cell_type": "code",
   "execution_count": 3,
   "metadata": {},
   "outputs": [],
   "source": [
    "df_final = pd.read_excel('./data/circuits_drivers_races_constructors_results.xlsx')"
   ]
  },
  {
   "cell_type": "code",
   "execution_count": 5,
   "metadata": {},
   "outputs": [],
   "source": [
    "circuit_name = 'Bahrain International Circuit'"
   ]
  },
  {
   "cell_type": "markdown",
   "metadata": {},
   "source": [
    "### Circuit Information"
   ]
  },
  {
   "cell_type": "code",
   "execution_count": 172,
   "metadata": {},
   "outputs": [],
   "source": [
    "circuit_name = 'Silverstone Circuit'"
   ]
  },
  {
   "cell_type": "code",
   "execution_count": 173,
   "metadata": {},
   "outputs": [],
   "source": [
    "df_final_circuit =  df_final.loc[(df_final['circuits.name'] == str(circuit_name))]\n"
   ]
  },
  {
   "cell_type": "code",
   "execution_count": 174,
   "metadata": {},
   "outputs": [
    {
     "data": {
      "text/plain": [
       "Index(['resultId', 'raceId', 'driverId', 'positionText', 'positionOrder',\n",
       "       'races.raceId', 'races.year', 'races.circuitId', 'races.name',\n",
       "       'drivers.forename', 'drivers.surname', 'drivers.nationality',\n",
       "       'circuits.name', 'circuits.location', 'circuits.country',\n",
       "       'circuits.lat', 'circuits.lng', 'constructors.constructorRef',\n",
       "       'constructors.name', 'constructors.nationality', 'constructorId'],\n",
       "      dtype='object')"
      ]
     },
     "execution_count": 174,
     "metadata": {},
     "output_type": "execute_result"
    }
   ],
   "source": [
    "df_final_circuit.columns"
   ]
  },
  {
   "cell_type": "code",
   "execution_count": 175,
   "metadata": {},
   "outputs": [
    {
     "name": "stderr",
     "output_type": "stream",
     "text": [
      "C:\\Users\\Admin\\AppData\\Local\\Temp/ipykernel_9412/3853478060.py:1: SettingWithCopyWarning:\n",
      "\n",
      "\n",
      "A value is trying to be set on a copy of a slice from a DataFrame.\n",
      "Try using .loc[row_indexer,col_indexer] = value instead\n",
      "\n",
      "See the caveats in the documentation: https://pandas.pydata.org/pandas-docs/stable/user_guide/indexing.html#returning-a-view-versus-a-copy\n",
      "\n"
     ]
    }
   ],
   "source": [
    "df_final_circuit['drivers.fullname'] = df_final_circuit[['drivers.forename','drivers.surname']].apply(lambda x: ' '.join(x), axis=1)"
   ]
  },
  {
   "cell_type": "code",
   "execution_count": 176,
   "metadata": {},
   "outputs": [],
   "source": [
    "city = df_final_circuit['circuits.location'].unique()[0]\n",
    "country = df_final_circuit['circuits.country'].unique()[0]"
   ]
  },
  {
   "cell_type": "code",
   "execution_count": 177,
   "metadata": {},
   "outputs": [],
   "source": [
    "best_driver = df_final_circuit[(df_final_circuit['circuits.name'] == circuit_name) & (df_final_circuit['positionText'] == 1)].groupby('drivers.fullname')['drivers.fullname'].count().sort_values(ascending = False).index.tolist()[0]"
   ]
  },
  {
   "cell_type": "code",
   "execution_count": 178,
   "metadata": {},
   "outputs": [],
   "source": [
    "best_constructor = df_final_circuit[(df_final_circuit['circuits.name'] == circuit_name) & (df_final_circuit['positionText'] == 1)].groupby('constructors.name')['constructors.name'].count().sort_values(ascending = False).index.tolist()[0]"
   ]
  },
  {
   "cell_type": "code",
   "execution_count": 179,
   "metadata": {},
   "outputs": [],
   "source": [
    "number_ret = len(df_final_circuit[df_final_circuit['positionText'] == 'R'])"
   ]
  },
  {
   "cell_type": "code",
   "execution_count": 197,
   "metadata": {},
   "outputs": [],
   "source": [
    "# erro possivel aqui --- averiguar\n",
    "recent_driver_win, year_win = df_final_circuit[(df_final_circuit['circuits.name'] == circuit_name) & (df_final_circuit['positionText'] == 1)].groupby(['drivers.fullname','races.year'])['drivers.fullname'].count().sort_values(ascending = False).index.tolist()[0]"
   ]
  },
  {
   "cell_type": "code",
   "execution_count": 187,
   "metadata": {},
   "outputs": [
    {
     "data": {
      "text/plain": [
       "('Alain Prost', 1983)"
      ]
     },
     "execution_count": 187,
     "metadata": {},
     "output_type": "execute_result"
    }
   ],
   "source": [
    "recent_driver_win, year_win"
   ]
  },
  {
   "cell_type": "markdown",
   "metadata": {},
   "source": [
    "### No race result vs finished race"
   ]
  },
  {
   "cell_type": "code",
   "execution_count": 188,
   "metadata": {},
   "outputs": [],
   "source": [
    "circuit_name = 'Silverstone Circuit'"
   ]
  },
  {
   "cell_type": "code",
   "execution_count": 189,
   "metadata": {},
   "outputs": [],
   "source": [
    "ret_list = ['R', 'F', 'W', 'N', 'D','E']"
   ]
  },
  {
   "cell_type": "code",
   "execution_count": 190,
   "metadata": {},
   "outputs": [],
   "source": [
    "# plot de dnfs por equipa\n",
    "plot_df_ret = df_final_circuit[(df_final_circuit['circuits.name'] == circuit_name) & (df_final_circuit['positionText'].isin(ret_list))].groupby('constructors.name').count()\n",
    "plot_df_ret.reset_index(inplace=True)\n",
    "bad_list = plot_df_ret['constructors.name'].unique()"
   ]
  },
  {
   "cell_type": "code",
   "execution_count": 191,
   "metadata": {},
   "outputs": [],
   "source": [
    "# plot de corridas acabadas por equipa \n",
    "plot_df_fin = df_final_circuit[(df_final_circuit['circuits.name'] == circuit_name) & (df_final_circuit['constructors.name'].isin(bad_list))].groupby('constructors.name').count()\n",
    "plot_df_fin.reset_index(inplace=True)"
   ]
  },
  {
   "cell_type": "code",
   "execution_count": 192,
   "metadata": {},
   "outputs": [],
   "source": [
    "# NÃO ESQUECER QUE PODE HAVER CIRCUITOS SEM DNFS"
   ]
  },
  {
   "cell_type": "code",
   "execution_count": 193,
   "metadata": {},
   "outputs": [],
   "source": [
    "plot_percentages = pd.DataFrame(columns=['constructor.names','dnf','nraces'])"
   ]
  },
  {
   "cell_type": "code",
   "execution_count": 194,
   "metadata": {},
   "outputs": [
    {
     "data": {
      "text/plain": [
       "Index(['constructors.name', 'resultId', 'raceId', 'driverId', 'positionText',\n",
       "       'positionOrder', 'races.raceId', 'races.year', 'races.circuitId',\n",
       "       'races.name', 'drivers.forename', 'drivers.surname',\n",
       "       'drivers.nationality', 'circuits.name', 'circuits.location',\n",
       "       'circuits.country', 'circuits.lat', 'circuits.lng',\n",
       "       'constructors.constructorRef', 'constructors.nationality',\n",
       "       'constructorId', 'drivers.fullname'],\n",
       "      dtype='object')"
      ]
     },
     "execution_count": 194,
     "metadata": {},
     "output_type": "execute_result"
    }
   ],
   "source": [
    "plot_df_ret.columns"
   ]
  },
  {
   "cell_type": "code",
   "execution_count": 195,
   "metadata": {},
   "outputs": [],
   "source": [
    "plot_percentages['constructor.names'] = plot_df_ret['constructors.name']\n",
    "plot_percentages['dnf'] = plot_df_ret['resultId'] / plot_df_fin['resultId']\n",
    "plot_percentages['nraces'] = 1-plot_percentages['dnf']"
   ]
  },
  {
   "cell_type": "code",
   "execution_count": 196,
   "metadata": {},
   "outputs": [
    {
     "data": {
      "application/vnd.plotly.v1+json": {
       "config": {
        "plotlyServerURL": "https://plot.ly"
       },
       "data": [
        {
         "name": "DNF",
         "type": "bar",
         "x": [
          "AGS",
          "ATS",
          "Alfa Romeo",
          "AlphaTauri",
          "Alta",
          "Andrea Moda",
          "Arrows",
          "Aston Butterworth",
          "Aston Martin",
          "BAR",
          "BMW Sauber",
          "BRM",
          "BRP",
          "Benetton",
          "Brabham",
          "Brabham-Alfa Romeo",
          "Brabham-Climax",
          "Caterham",
          "Coloni",
          "Connaught",
          "Cooper",
          "Cooper-ATS",
          "Cooper-Climax",
          "Cooper-Ford",
          "Cooper-Maserati",
          "Dallara",
          "De Tomaso",
          "ERA",
          "Eagle-Weslake",
          "Emeryson",
          "Ensign",
          "Euro Brun",
          "Ferrari",
          "Fittipaldi",
          "Fondmetal",
          "Footwork",
          "Force India",
          "Forti",
          "Gilby",
          "Gordini",
          "HWM",
          "Haas F1 Team",
          "Hesketh",
          "Honda",
          "Iso Marlboro",
          "Jaguar",
          "Jordan",
          "LEC",
          "Lambo",
          "Larrousse",
          "Leyton House",
          "Life",
          "Ligier",
          "Lola",
          "Lotus",
          "Lotus F1",
          "Lotus-BRM",
          "Lotus-Climax",
          "Lotus-Ford",
          "Lotus-Pratt &amp; Whitney",
          "Maki",
          "Manor Marussia",
          "March",
          "March-Alfa Romeo",
          "March-Ford",
          "Maserati",
          "Matra",
          "McGuire",
          "McLaren",
          "McLaren-Ford",
          "Mercedes",
          "Merzario",
          "Minardi",
          "Onyx",
          "Osella",
          "Pacific",
          "Prost",
          "RAM",
          "Racing Point",
          "Red Bull",
          "Renault",
          "Rial",
          "Sauber",
          "Scirocco",
          "Shadow",
          "Shadow-Ford",
          "Spirit",
          "Spyker",
          "Stewart",
          "Super Aguri",
          "Surtees",
          "Talbot-Lago",
          "Team Lotus",
          "Tecno",
          "Theodore",
          "Toleman",
          "Toro Rosso",
          "Toyota",
          "Tyrrell",
          "Vanwall",
          "Virgin",
          "Williams",
          "Wolf",
          "Zakspeed"
         ],
         "y": [
          0.875,
          0.8,
          0.2727272727272727,
          0.16666666666666666,
          0.75,
          1,
          0.5357142857142857,
          1,
          0.5,
          0.2857142857142857,
          0.125,
          0.4482758620689655,
          1,
          0.2,
          0.6428571428571429,
          1,
          0.6666666666666666,
          0.3333333333333333,
          1,
          0.5263157894736842,
          0.42857142857142855,
          1,
          0.4666666666666667,
          1,
          0.625,
          0.3333333333333333,
          1,
          0.5,
          1,
          1,
          0.6666666666666666,
          0.8,
          0.25396825396825395,
          0.8,
          0.6666666666666666,
          0.5833333333333334,
          0.13636363636363635,
          1,
          1,
          0.7272727272727273,
          0.875,
          0.42857142857142855,
          0.5,
          0.375,
          0.5,
          0.2,
          0.4,
          1,
          1,
          0.5384615384615384,
          1,
          1,
          0.4482758620689655,
          0.5714285714285714,
          0.5,
          0.25,
          0.4,
          0.3333333333333333,
          0.3333333333333333,
          1,
          1,
          0.5,
          0.6956521739130435,
          1,
          0.25,
          0.5681818181818182,
          0.5,
          1,
          0.25806451612903225,
          0.5,
          0.03571428571428571,
          1,
          0.39473684210526316,
          0.75,
          0.8,
          0.75,
          0.4,
          1,
          0.16666666666666666,
          0.16666666666666666,
          0.3170731707317073,
          1,
          0.29545454545454547,
          1,
          0.5714285714285714,
          0.5,
          1,
          0.5,
          0.6666666666666666,
          0.25,
          0.45454545454545453,
          0.2222222222222222,
          0.41025641025641024,
          1,
          0.3333333333333333,
          1,
          0.39285714285714285,
          0.375,
          0.4,
          0.7142857142857143,
          0.25,
          0.19753086419753085,
          1,
          1
         ]
        },
        {
         "name": "Nº OF RACES",
         "type": "bar",
         "x": [
          "AGS",
          "ATS",
          "Alfa Romeo",
          "AlphaTauri",
          "Alta",
          "Andrea Moda",
          "Arrows",
          "Aston Butterworth",
          "Aston Martin",
          "BAR",
          "BMW Sauber",
          "BRM",
          "BRP",
          "Benetton",
          "Brabham",
          "Brabham-Alfa Romeo",
          "Brabham-Climax",
          "Caterham",
          "Coloni",
          "Connaught",
          "Cooper",
          "Cooper-ATS",
          "Cooper-Climax",
          "Cooper-Ford",
          "Cooper-Maserati",
          "Dallara",
          "De Tomaso",
          "ERA",
          "Eagle-Weslake",
          "Emeryson",
          "Ensign",
          "Euro Brun",
          "Ferrari",
          "Fittipaldi",
          "Fondmetal",
          "Footwork",
          "Force India",
          "Forti",
          "Gilby",
          "Gordini",
          "HWM",
          "Haas F1 Team",
          "Hesketh",
          "Honda",
          "Iso Marlboro",
          "Jaguar",
          "Jordan",
          "LEC",
          "Lambo",
          "Larrousse",
          "Leyton House",
          "Life",
          "Ligier",
          "Lola",
          "Lotus",
          "Lotus F1",
          "Lotus-BRM",
          "Lotus-Climax",
          "Lotus-Ford",
          "Lotus-Pratt &amp; Whitney",
          "Maki",
          "Manor Marussia",
          "March",
          "March-Alfa Romeo",
          "March-Ford",
          "Maserati",
          "Matra",
          "McGuire",
          "McLaren",
          "McLaren-Ford",
          "Mercedes",
          "Merzario",
          "Minardi",
          "Onyx",
          "Osella",
          "Pacific",
          "Prost",
          "RAM",
          "Racing Point",
          "Red Bull",
          "Renault",
          "Rial",
          "Sauber",
          "Scirocco",
          "Shadow",
          "Shadow-Ford",
          "Spirit",
          "Spyker",
          "Stewart",
          "Super Aguri",
          "Surtees",
          "Talbot-Lago",
          "Team Lotus",
          "Tecno",
          "Theodore",
          "Toleman",
          "Toro Rosso",
          "Toyota",
          "Tyrrell",
          "Vanwall",
          "Virgin",
          "Williams",
          "Wolf",
          "Zakspeed"
         ],
         "y": [
          0.125,
          0.19999999999999996,
          0.7272727272727273,
          0.8333333333333334,
          0.25,
          0,
          0.4642857142857143,
          0,
          0.5,
          0.7142857142857143,
          0.875,
          0.5517241379310345,
          0,
          0.8,
          0.3571428571428571,
          0,
          0.33333333333333337,
          0.6666666666666667,
          0,
          0.4736842105263158,
          0.5714285714285714,
          0,
          0.5333333333333333,
          0,
          0.375,
          0.6666666666666667,
          0,
          0.5,
          0,
          0,
          0.33333333333333337,
          0.19999999999999996,
          0.746031746031746,
          0.19999999999999996,
          0.33333333333333337,
          0.41666666666666663,
          0.8636363636363636,
          0,
          0,
          0.2727272727272727,
          0.125,
          0.5714285714285714,
          0.5,
          0.625,
          0.5,
          0.8,
          0.6,
          0,
          0,
          0.46153846153846156,
          0,
          0,
          0.5517241379310345,
          0.4285714285714286,
          0.5,
          0.75,
          0.6,
          0.6666666666666667,
          0.6666666666666667,
          0,
          0,
          0.5,
          0.30434782608695654,
          0,
          0.75,
          0.43181818181818177,
          0.5,
          0,
          0.7419354838709677,
          0.5,
          0.9642857142857143,
          0,
          0.6052631578947368,
          0.25,
          0.19999999999999996,
          0.25,
          0.6,
          0,
          0.8333333333333334,
          0.8333333333333334,
          0.6829268292682926,
          0,
          0.7045454545454546,
          0,
          0.4285714285714286,
          0.5,
          0,
          0.5,
          0.33333333333333337,
          0.75,
          0.5454545454545454,
          0.7777777777777778,
          0.5897435897435898,
          0,
          0.6666666666666667,
          0,
          0.6071428571428572,
          0.625,
          0.6,
          0.2857142857142857,
          0.75,
          0.8024691358024691,
          0,
          0
         ]
        }
       ],
       "layout": {
        "barmode": "stack",
        "template": {
         "data": {
          "bar": [
           {
            "error_x": {
             "color": "#2a3f5f"
            },
            "error_y": {
             "color": "#2a3f5f"
            },
            "marker": {
             "line": {
              "color": "#E5ECF6",
              "width": 0.5
             }
            },
            "type": "bar"
           }
          ],
          "barpolar": [
           {
            "marker": {
             "line": {
              "color": "#E5ECF6",
              "width": 0.5
             }
            },
            "type": "barpolar"
           }
          ],
          "carpet": [
           {
            "aaxis": {
             "endlinecolor": "#2a3f5f",
             "gridcolor": "white",
             "linecolor": "white",
             "minorgridcolor": "white",
             "startlinecolor": "#2a3f5f"
            },
            "baxis": {
             "endlinecolor": "#2a3f5f",
             "gridcolor": "white",
             "linecolor": "white",
             "minorgridcolor": "white",
             "startlinecolor": "#2a3f5f"
            },
            "type": "carpet"
           }
          ],
          "choropleth": [
           {
            "colorbar": {
             "outlinewidth": 0,
             "ticks": ""
            },
            "type": "choropleth"
           }
          ],
          "contour": [
           {
            "colorbar": {
             "outlinewidth": 0,
             "ticks": ""
            },
            "colorscale": [
             [
              0,
              "#0d0887"
             ],
             [
              0.1111111111111111,
              "#46039f"
             ],
             [
              0.2222222222222222,
              "#7201a8"
             ],
             [
              0.3333333333333333,
              "#9c179e"
             ],
             [
              0.4444444444444444,
              "#bd3786"
             ],
             [
              0.5555555555555556,
              "#d8576b"
             ],
             [
              0.6666666666666666,
              "#ed7953"
             ],
             [
              0.7777777777777778,
              "#fb9f3a"
             ],
             [
              0.8888888888888888,
              "#fdca26"
             ],
             [
              1,
              "#f0f921"
             ]
            ],
            "type": "contour"
           }
          ],
          "contourcarpet": [
           {
            "colorbar": {
             "outlinewidth": 0,
             "ticks": ""
            },
            "type": "contourcarpet"
           }
          ],
          "heatmap": [
           {
            "colorbar": {
             "outlinewidth": 0,
             "ticks": ""
            },
            "colorscale": [
             [
              0,
              "#0d0887"
             ],
             [
              0.1111111111111111,
              "#46039f"
             ],
             [
              0.2222222222222222,
              "#7201a8"
             ],
             [
              0.3333333333333333,
              "#9c179e"
             ],
             [
              0.4444444444444444,
              "#bd3786"
             ],
             [
              0.5555555555555556,
              "#d8576b"
             ],
             [
              0.6666666666666666,
              "#ed7953"
             ],
             [
              0.7777777777777778,
              "#fb9f3a"
             ],
             [
              0.8888888888888888,
              "#fdca26"
             ],
             [
              1,
              "#f0f921"
             ]
            ],
            "type": "heatmap"
           }
          ],
          "heatmapgl": [
           {
            "colorbar": {
             "outlinewidth": 0,
             "ticks": ""
            },
            "colorscale": [
             [
              0,
              "#0d0887"
             ],
             [
              0.1111111111111111,
              "#46039f"
             ],
             [
              0.2222222222222222,
              "#7201a8"
             ],
             [
              0.3333333333333333,
              "#9c179e"
             ],
             [
              0.4444444444444444,
              "#bd3786"
             ],
             [
              0.5555555555555556,
              "#d8576b"
             ],
             [
              0.6666666666666666,
              "#ed7953"
             ],
             [
              0.7777777777777778,
              "#fb9f3a"
             ],
             [
              0.8888888888888888,
              "#fdca26"
             ],
             [
              1,
              "#f0f921"
             ]
            ],
            "type": "heatmapgl"
           }
          ],
          "histogram": [
           {
            "marker": {
             "colorbar": {
              "outlinewidth": 0,
              "ticks": ""
             }
            },
            "type": "histogram"
           }
          ],
          "histogram2d": [
           {
            "colorbar": {
             "outlinewidth": 0,
             "ticks": ""
            },
            "colorscale": [
             [
              0,
              "#0d0887"
             ],
             [
              0.1111111111111111,
              "#46039f"
             ],
             [
              0.2222222222222222,
              "#7201a8"
             ],
             [
              0.3333333333333333,
              "#9c179e"
             ],
             [
              0.4444444444444444,
              "#bd3786"
             ],
             [
              0.5555555555555556,
              "#d8576b"
             ],
             [
              0.6666666666666666,
              "#ed7953"
             ],
             [
              0.7777777777777778,
              "#fb9f3a"
             ],
             [
              0.8888888888888888,
              "#fdca26"
             ],
             [
              1,
              "#f0f921"
             ]
            ],
            "type": "histogram2d"
           }
          ],
          "histogram2dcontour": [
           {
            "colorbar": {
             "outlinewidth": 0,
             "ticks": ""
            },
            "colorscale": [
             [
              0,
              "#0d0887"
             ],
             [
              0.1111111111111111,
              "#46039f"
             ],
             [
              0.2222222222222222,
              "#7201a8"
             ],
             [
              0.3333333333333333,
              "#9c179e"
             ],
             [
              0.4444444444444444,
              "#bd3786"
             ],
             [
              0.5555555555555556,
              "#d8576b"
             ],
             [
              0.6666666666666666,
              "#ed7953"
             ],
             [
              0.7777777777777778,
              "#fb9f3a"
             ],
             [
              0.8888888888888888,
              "#fdca26"
             ],
             [
              1,
              "#f0f921"
             ]
            ],
            "type": "histogram2dcontour"
           }
          ],
          "mesh3d": [
           {
            "colorbar": {
             "outlinewidth": 0,
             "ticks": ""
            },
            "type": "mesh3d"
           }
          ],
          "parcoords": [
           {
            "line": {
             "colorbar": {
              "outlinewidth": 0,
              "ticks": ""
             }
            },
            "type": "parcoords"
           }
          ],
          "pie": [
           {
            "automargin": true,
            "type": "pie"
           }
          ],
          "scatter": [
           {
            "marker": {
             "colorbar": {
              "outlinewidth": 0,
              "ticks": ""
             }
            },
            "type": "scatter"
           }
          ],
          "scatter3d": [
           {
            "line": {
             "colorbar": {
              "outlinewidth": 0,
              "ticks": ""
             }
            },
            "marker": {
             "colorbar": {
              "outlinewidth": 0,
              "ticks": ""
             }
            },
            "type": "scatter3d"
           }
          ],
          "scattercarpet": [
           {
            "marker": {
             "colorbar": {
              "outlinewidth": 0,
              "ticks": ""
             }
            },
            "type": "scattercarpet"
           }
          ],
          "scattergeo": [
           {
            "marker": {
             "colorbar": {
              "outlinewidth": 0,
              "ticks": ""
             }
            },
            "type": "scattergeo"
           }
          ],
          "scattergl": [
           {
            "marker": {
             "colorbar": {
              "outlinewidth": 0,
              "ticks": ""
             }
            },
            "type": "scattergl"
           }
          ],
          "scattermapbox": [
           {
            "marker": {
             "colorbar": {
              "outlinewidth": 0,
              "ticks": ""
             }
            },
            "type": "scattermapbox"
           }
          ],
          "scatterpolar": [
           {
            "marker": {
             "colorbar": {
              "outlinewidth": 0,
              "ticks": ""
             }
            },
            "type": "scatterpolar"
           }
          ],
          "scatterpolargl": [
           {
            "marker": {
             "colorbar": {
              "outlinewidth": 0,
              "ticks": ""
             }
            },
            "type": "scatterpolargl"
           }
          ],
          "scatterternary": [
           {
            "marker": {
             "colorbar": {
              "outlinewidth": 0,
              "ticks": ""
             }
            },
            "type": "scatterternary"
           }
          ],
          "surface": [
           {
            "colorbar": {
             "outlinewidth": 0,
             "ticks": ""
            },
            "colorscale": [
             [
              0,
              "#0d0887"
             ],
             [
              0.1111111111111111,
              "#46039f"
             ],
             [
              0.2222222222222222,
              "#7201a8"
             ],
             [
              0.3333333333333333,
              "#9c179e"
             ],
             [
              0.4444444444444444,
              "#bd3786"
             ],
             [
              0.5555555555555556,
              "#d8576b"
             ],
             [
              0.6666666666666666,
              "#ed7953"
             ],
             [
              0.7777777777777778,
              "#fb9f3a"
             ],
             [
              0.8888888888888888,
              "#fdca26"
             ],
             [
              1,
              "#f0f921"
             ]
            ],
            "type": "surface"
           }
          ],
          "table": [
           {
            "cells": {
             "fill": {
              "color": "#EBF0F8"
             },
             "line": {
              "color": "white"
             }
            },
            "header": {
             "fill": {
              "color": "#C8D4E3"
             },
             "line": {
              "color": "white"
             }
            },
            "type": "table"
           }
          ]
         },
         "layout": {
          "annotationdefaults": {
           "arrowcolor": "#2a3f5f",
           "arrowhead": 0,
           "arrowwidth": 1
          },
          "autotypenumbers": "strict",
          "coloraxis": {
           "colorbar": {
            "outlinewidth": 0,
            "ticks": ""
           }
          },
          "colorscale": {
           "diverging": [
            [
             0,
             "#8e0152"
            ],
            [
             0.1,
             "#c51b7d"
            ],
            [
             0.2,
             "#de77ae"
            ],
            [
             0.3,
             "#f1b6da"
            ],
            [
             0.4,
             "#fde0ef"
            ],
            [
             0.5,
             "#f7f7f7"
            ],
            [
             0.6,
             "#e6f5d0"
            ],
            [
             0.7,
             "#b8e186"
            ],
            [
             0.8,
             "#7fbc41"
            ],
            [
             0.9,
             "#4d9221"
            ],
            [
             1,
             "#276419"
            ]
           ],
           "sequential": [
            [
             0,
             "#0d0887"
            ],
            [
             0.1111111111111111,
             "#46039f"
            ],
            [
             0.2222222222222222,
             "#7201a8"
            ],
            [
             0.3333333333333333,
             "#9c179e"
            ],
            [
             0.4444444444444444,
             "#bd3786"
            ],
            [
             0.5555555555555556,
             "#d8576b"
            ],
            [
             0.6666666666666666,
             "#ed7953"
            ],
            [
             0.7777777777777778,
             "#fb9f3a"
            ],
            [
             0.8888888888888888,
             "#fdca26"
            ],
            [
             1,
             "#f0f921"
            ]
           ],
           "sequentialminus": [
            [
             0,
             "#0d0887"
            ],
            [
             0.1111111111111111,
             "#46039f"
            ],
            [
             0.2222222222222222,
             "#7201a8"
            ],
            [
             0.3333333333333333,
             "#9c179e"
            ],
            [
             0.4444444444444444,
             "#bd3786"
            ],
            [
             0.5555555555555556,
             "#d8576b"
            ],
            [
             0.6666666666666666,
             "#ed7953"
            ],
            [
             0.7777777777777778,
             "#fb9f3a"
            ],
            [
             0.8888888888888888,
             "#fdca26"
            ],
            [
             1,
             "#f0f921"
            ]
           ]
          },
          "colorway": [
           "#636efa",
           "#EF553B",
           "#00cc96",
           "#ab63fa",
           "#FFA15A",
           "#19d3f3",
           "#FF6692",
           "#B6E880",
           "#FF97FF",
           "#FECB52"
          ],
          "font": {
           "color": "#2a3f5f"
          },
          "geo": {
           "bgcolor": "white",
           "lakecolor": "white",
           "landcolor": "#E5ECF6",
           "showlakes": true,
           "showland": true,
           "subunitcolor": "white"
          },
          "hoverlabel": {
           "align": "left"
          },
          "hovermode": "closest",
          "mapbox": {
           "style": "light"
          },
          "paper_bgcolor": "white",
          "plot_bgcolor": "#E5ECF6",
          "polar": {
           "angularaxis": {
            "gridcolor": "white",
            "linecolor": "white",
            "ticks": ""
           },
           "bgcolor": "#E5ECF6",
           "radialaxis": {
            "gridcolor": "white",
            "linecolor": "white",
            "ticks": ""
           }
          },
          "scene": {
           "xaxis": {
            "backgroundcolor": "#E5ECF6",
            "gridcolor": "white",
            "gridwidth": 2,
            "linecolor": "white",
            "showbackground": true,
            "ticks": "",
            "zerolinecolor": "white"
           },
           "yaxis": {
            "backgroundcolor": "#E5ECF6",
            "gridcolor": "white",
            "gridwidth": 2,
            "linecolor": "white",
            "showbackground": true,
            "ticks": "",
            "zerolinecolor": "white"
           },
           "zaxis": {
            "backgroundcolor": "#E5ECF6",
            "gridcolor": "white",
            "gridwidth": 2,
            "linecolor": "white",
            "showbackground": true,
            "ticks": "",
            "zerolinecolor": "white"
           }
          },
          "shapedefaults": {
           "line": {
            "color": "#2a3f5f"
           }
          },
          "ternary": {
           "aaxis": {
            "gridcolor": "white",
            "linecolor": "white",
            "ticks": ""
           },
           "baxis": {
            "gridcolor": "white",
            "linecolor": "white",
            "ticks": ""
           },
           "bgcolor": "#E5ECF6",
           "caxis": {
            "gridcolor": "white",
            "linecolor": "white",
            "ticks": ""
           }
          },
          "title": {
           "x": 0.05
          },
          "xaxis": {
           "automargin": true,
           "gridcolor": "white",
           "linecolor": "white",
           "ticks": "",
           "title": {
            "standoff": 15
           },
           "zerolinecolor": "white",
           "zerolinewidth": 2
          },
          "yaxis": {
           "automargin": true,
           "gridcolor": "white",
           "linecolor": "white",
           "ticks": "",
           "title": {
            "standoff": 15
           },
           "zerolinecolor": "white",
           "zerolinewidth": 2
          }
         }
        }
       }
      }
     },
     "metadata": {},
     "output_type": "display_data"
    }
   ],
   "source": [
    "fig = go.Figure(data=[\n",
    "    go.Bar(name='DNF', x=plot_percentages['constructor.names'], y=plot_percentages['dnf'] ),\n",
    "    go.Bar(name='Nº OF RACES', x=plot_percentages['constructor.names'], y=plot_percentages['nraces'])\n",
    "])\n",
    "# Change the bar mode\n",
    "fig.update_layout(barmode='stack')\n",
    "fig.show()"
   ]
  },
  {
   "cell_type": "markdown",
   "metadata": {},
   "source": [
    "### Lap times"
   ]
  },
  {
   "cell_type": "code",
   "execution_count": 77,
   "metadata": {},
   "outputs": [],
   "source": [
    "races_list = df_final_circuit['raceId'].unique()"
   ]
  },
  {
   "cell_type": "code",
   "execution_count": 61,
   "metadata": {},
   "outputs": [],
   "source": [
    "df_laps_circuit = df_laps.loc[(df_laps['raceId'].isin(races_list))]"
   ]
  },
  {
   "cell_type": "code",
   "execution_count": 67,
   "metadata": {},
   "outputs": [
    {
     "name": "stderr",
     "output_type": "stream",
     "text": [
      "C:\\Users\\Admin\\anaconda3\\envs\\ML\\lib\\site-packages\\pandas\\core\\frame.py:3641: SettingWithCopyWarning: \n",
      "A value is trying to be set on a copy of a slice from a DataFrame.\n",
      "Try using .loc[row_indexer,col_indexer] = value instead\n",
      "\n",
      "See the caveats in the documentation: https://pandas.pydata.org/pandas-docs/stable/user_guide/indexing.html#returning-a-view-versus-a-copy\n",
      "  self[k1] = value[k2]\n"
     ]
    }
   ],
   "source": [
    "df_laps_circuit[['minute', 'seconds']] = df_laps_circuit['time'].str.split(':', expand=True)"
   ]
  },
  {
   "cell_type": "code",
   "execution_count": 76,
   "metadata": {},
   "outputs": [
    {
     "data": {
      "text/html": [
       "<div>\n",
       "<style scoped>\n",
       "    .dataframe tbody tr th:only-of-type {\n",
       "        vertical-align: middle;\n",
       "    }\n",
       "\n",
       "    .dataframe tbody tr th {\n",
       "        vertical-align: top;\n",
       "    }\n",
       "\n",
       "    .dataframe thead th {\n",
       "        text-align: right;\n",
       "    }\n",
       "</style>\n",
       "<table border=\"1\" class=\"dataframe\">\n",
       "  <thead>\n",
       "    <tr style=\"text-align: right;\">\n",
       "      <th></th>\n",
       "      <th>resultId</th>\n",
       "      <th>raceId</th>\n",
       "      <th>driverId</th>\n",
       "      <th>positionText</th>\n",
       "      <th>positionOrder</th>\n",
       "      <th>races.raceId</th>\n",
       "      <th>races.year</th>\n",
       "      <th>races.circuitId</th>\n",
       "      <th>races.name</th>\n",
       "      <th>drivers.forename</th>\n",
       "      <th>...</th>\n",
       "      <th>circuits.name</th>\n",
       "      <th>circuits.location</th>\n",
       "      <th>circuits.country</th>\n",
       "      <th>circuits.lat</th>\n",
       "      <th>circuits.lng</th>\n",
       "      <th>constructors.constructorRef</th>\n",
       "      <th>constructors.name</th>\n",
       "      <th>constructors.nationality</th>\n",
       "      <th>constructorId</th>\n",
       "      <th>drivers.fullname</th>\n",
       "    </tr>\n",
       "  </thead>\n",
       "  <tbody>\n",
       "    <tr>\n",
       "      <th>4056</th>\n",
       "      <td>21326</td>\n",
       "      <td>863</td>\n",
       "      <td>813</td>\n",
       "      <td>R</td>\n",
       "      <td>23</td>\n",
       "      <td>863</td>\n",
       "      <td>2012</td>\n",
       "      <td>3</td>\n",
       "      <td>Bahrain Grand Prix</td>\n",
       "      <td>Pastor</td>\n",
       "      <td>...</td>\n",
       "      <td>Bahrain International Circuit</td>\n",
       "      <td>Sakhir</td>\n",
       "      <td>Bahrain</td>\n",
       "      <td>26.0325</td>\n",
       "      <td>50.5106</td>\n",
       "      <td>williams</td>\n",
       "      <td>Williams</td>\n",
       "      <td>British</td>\n",
       "      <td>3</td>\n",
       "      <td>Pastor Maldonado</td>\n",
       "    </tr>\n",
       "    <tr>\n",
       "      <th>5373</th>\n",
       "      <td>21305</td>\n",
       "      <td>863</td>\n",
       "      <td>8</td>\n",
       "      <td>2</td>\n",
       "      <td>2</td>\n",
       "      <td>863</td>\n",
       "      <td>2012</td>\n",
       "      <td>3</td>\n",
       "      <td>Bahrain Grand Prix</td>\n",
       "      <td>Kimi</td>\n",
       "      <td>...</td>\n",
       "      <td>Bahrain International Circuit</td>\n",
       "      <td>Sakhir</td>\n",
       "      <td>Bahrain</td>\n",
       "      <td>26.0325</td>\n",
       "      <td>50.5106</td>\n",
       "      <td>lotus_f1</td>\n",
       "      <td>Lotus F1</td>\n",
       "      <td>British</td>\n",
       "      <td>208</td>\n",
       "      <td>Kimi Räikkönen</td>\n",
       "    </tr>\n",
       "    <tr>\n",
       "      <th>6378</th>\n",
       "      <td>21306</td>\n",
       "      <td>863</td>\n",
       "      <td>154</td>\n",
       "      <td>3</td>\n",
       "      <td>3</td>\n",
       "      <td>863</td>\n",
       "      <td>2012</td>\n",
       "      <td>3</td>\n",
       "      <td>Bahrain Grand Prix</td>\n",
       "      <td>Romain</td>\n",
       "      <td>...</td>\n",
       "      <td>Bahrain International Circuit</td>\n",
       "      <td>Sakhir</td>\n",
       "      <td>Bahrain</td>\n",
       "      <td>26.0325</td>\n",
       "      <td>50.5106</td>\n",
       "      <td>lotus_f1</td>\n",
       "      <td>Lotus F1</td>\n",
       "      <td>British</td>\n",
       "      <td>208</td>\n",
       "      <td>Romain Grosjean</td>\n",
       "    </tr>\n",
       "    <tr>\n",
       "      <th>8957</th>\n",
       "      <td>21325</td>\n",
       "      <td>863</td>\n",
       "      <td>811</td>\n",
       "      <td>22</td>\n",
       "      <td>22</td>\n",
       "      <td>863</td>\n",
       "      <td>2012</td>\n",
       "      <td>3</td>\n",
       "      <td>Bahrain Grand Prix</td>\n",
       "      <td>Bruno</td>\n",
       "      <td>...</td>\n",
       "      <td>Bahrain International Circuit</td>\n",
       "      <td>Sakhir</td>\n",
       "      <td>Bahrain</td>\n",
       "      <td>26.0325</td>\n",
       "      <td>50.5106</td>\n",
       "      <td>williams</td>\n",
       "      <td>Williams</td>\n",
       "      <td>British</td>\n",
       "      <td>3</td>\n",
       "      <td>Bruno Senna</td>\n",
       "    </tr>\n",
       "    <tr>\n",
       "      <th>10092</th>\n",
       "      <td>21311</td>\n",
       "      <td>863</td>\n",
       "      <td>1</td>\n",
       "      <td>8</td>\n",
       "      <td>8</td>\n",
       "      <td>863</td>\n",
       "      <td>2012</td>\n",
       "      <td>3</td>\n",
       "      <td>Bahrain Grand Prix</td>\n",
       "      <td>Lewis</td>\n",
       "      <td>...</td>\n",
       "      <td>Bahrain International Circuit</td>\n",
       "      <td>Sakhir</td>\n",
       "      <td>Bahrain</td>\n",
       "      <td>26.0325</td>\n",
       "      <td>50.5106</td>\n",
       "      <td>mclaren</td>\n",
       "      <td>McLaren</td>\n",
       "      <td>British</td>\n",
       "      <td>1</td>\n",
       "      <td>Lewis Hamilton</td>\n",
       "    </tr>\n",
       "    <tr>\n",
       "      <th>10247</th>\n",
       "      <td>21321</td>\n",
       "      <td>863</td>\n",
       "      <td>18</td>\n",
       "      <td>18</td>\n",
       "      <td>18</td>\n",
       "      <td>863</td>\n",
       "      <td>2012</td>\n",
       "      <td>3</td>\n",
       "      <td>Bahrain Grand Prix</td>\n",
       "      <td>Jenson</td>\n",
       "      <td>...</td>\n",
       "      <td>Bahrain International Circuit</td>\n",
       "      <td>Sakhir</td>\n",
       "      <td>Bahrain</td>\n",
       "      <td>26.0325</td>\n",
       "      <td>50.5106</td>\n",
       "      <td>mclaren</td>\n",
       "      <td>McLaren</td>\n",
       "      <td>British</td>\n",
       "      <td>1</td>\n",
       "      <td>Jenson Button</td>\n",
       "    </tr>\n",
       "    <tr>\n",
       "      <th>13567</th>\n",
       "      <td>21318</td>\n",
       "      <td>863</td>\n",
       "      <td>817</td>\n",
       "      <td>15</td>\n",
       "      <td>15</td>\n",
       "      <td>863</td>\n",
       "      <td>2012</td>\n",
       "      <td>3</td>\n",
       "      <td>Bahrain Grand Prix</td>\n",
       "      <td>Daniel</td>\n",
       "      <td>...</td>\n",
       "      <td>Bahrain International Circuit</td>\n",
       "      <td>Sakhir</td>\n",
       "      <td>Bahrain</td>\n",
       "      <td>26.0325</td>\n",
       "      <td>50.5106</td>\n",
       "      <td>toro_rosso</td>\n",
       "      <td>Toro Rosso</td>\n",
       "      <td>Italian</td>\n",
       "      <td>5</td>\n",
       "      <td>Daniel Ricciardo</td>\n",
       "    </tr>\n",
       "    <tr>\n",
       "      <th>13762</th>\n",
       "      <td>21317</td>\n",
       "      <td>863</td>\n",
       "      <td>818</td>\n",
       "      <td>14</td>\n",
       "      <td>14</td>\n",
       "      <td>863</td>\n",
       "      <td>2012</td>\n",
       "      <td>3</td>\n",
       "      <td>Bahrain Grand Prix</td>\n",
       "      <td>Jean-Éric</td>\n",
       "      <td>...</td>\n",
       "      <td>Bahrain International Circuit</td>\n",
       "      <td>Sakhir</td>\n",
       "      <td>Bahrain</td>\n",
       "      <td>26.0325</td>\n",
       "      <td>50.5106</td>\n",
       "      <td>toro_rosso</td>\n",
       "      <td>Toro Rosso</td>\n",
       "      <td>Italian</td>\n",
       "      <td>5</td>\n",
       "      <td>Jean-Éric Vergne</td>\n",
       "    </tr>\n",
       "    <tr>\n",
       "      <th>16860</th>\n",
       "      <td>21310</td>\n",
       "      <td>863</td>\n",
       "      <td>4</td>\n",
       "      <td>7</td>\n",
       "      <td>7</td>\n",
       "      <td>863</td>\n",
       "      <td>2012</td>\n",
       "      <td>3</td>\n",
       "      <td>Bahrain Grand Prix</td>\n",
       "      <td>Fernando</td>\n",
       "      <td>...</td>\n",
       "      <td>Bahrain International Circuit</td>\n",
       "      <td>Sakhir</td>\n",
       "      <td>Bahrain</td>\n",
       "      <td>26.0325</td>\n",
       "      <td>50.5106</td>\n",
       "      <td>ferrari</td>\n",
       "      <td>Ferrari</td>\n",
       "      <td>Italian</td>\n",
       "      <td>6</td>\n",
       "      <td>Fernando Alonso</td>\n",
       "    </tr>\n",
       "    <tr>\n",
       "      <th>17094</th>\n",
       "      <td>21312</td>\n",
       "      <td>863</td>\n",
       "      <td>13</td>\n",
       "      <td>9</td>\n",
       "      <td>9</td>\n",
       "      <td>863</td>\n",
       "      <td>2012</td>\n",
       "      <td>3</td>\n",
       "      <td>Bahrain Grand Prix</td>\n",
       "      <td>Felipe</td>\n",
       "      <td>...</td>\n",
       "      <td>Bahrain International Circuit</td>\n",
       "      <td>Sakhir</td>\n",
       "      <td>Bahrain</td>\n",
       "      <td>26.0325</td>\n",
       "      <td>50.5106</td>\n",
       "      <td>ferrari</td>\n",
       "      <td>Ferrari</td>\n",
       "      <td>Italian</td>\n",
       "      <td>6</td>\n",
       "      <td>Felipe Massa</td>\n",
       "    </tr>\n",
       "    <tr>\n",
       "      <th>19674</th>\n",
       "      <td>21319</td>\n",
       "      <td>863</td>\n",
       "      <td>808</td>\n",
       "      <td>16</td>\n",
       "      <td>16</td>\n",
       "      <td>863</td>\n",
       "      <td>2012</td>\n",
       "      <td>3</td>\n",
       "      <td>Bahrain Grand Prix</td>\n",
       "      <td>Vitaly</td>\n",
       "      <td>...</td>\n",
       "      <td>Bahrain International Circuit</td>\n",
       "      <td>Sakhir</td>\n",
       "      <td>Bahrain</td>\n",
       "      <td>26.0325</td>\n",
       "      <td>50.5106</td>\n",
       "      <td>caterham</td>\n",
       "      <td>Caterham</td>\n",
       "      <td>Malaysian</td>\n",
       "      <td>207</td>\n",
       "      <td>Vitaly Petrov</td>\n",
       "    </tr>\n",
       "    <tr>\n",
       "      <th>19675</th>\n",
       "      <td>21323</td>\n",
       "      <td>863</td>\n",
       "      <td>37</td>\n",
       "      <td>20</td>\n",
       "      <td>20</td>\n",
       "      <td>863</td>\n",
       "      <td>2012</td>\n",
       "      <td>3</td>\n",
       "      <td>Bahrain Grand Prix</td>\n",
       "      <td>Pedro</td>\n",
       "      <td>...</td>\n",
       "      <td>Bahrain International Circuit</td>\n",
       "      <td>Sakhir</td>\n",
       "      <td>Bahrain</td>\n",
       "      <td>26.0325</td>\n",
       "      <td>50.5106</td>\n",
       "      <td>hrt</td>\n",
       "      <td>HRT</td>\n",
       "      <td>Spanish</td>\n",
       "      <td>164</td>\n",
       "      <td>Pedro de la Rosa</td>\n",
       "    </tr>\n",
       "    <tr>\n",
       "      <th>19676</th>\n",
       "      <td>21324</td>\n",
       "      <td>863</td>\n",
       "      <td>39</td>\n",
       "      <td>21</td>\n",
       "      <td>21</td>\n",
       "      <td>863</td>\n",
       "      <td>2012</td>\n",
       "      <td>3</td>\n",
       "      <td>Bahrain Grand Prix</td>\n",
       "      <td>Narain</td>\n",
       "      <td>...</td>\n",
       "      <td>Bahrain International Circuit</td>\n",
       "      <td>Sakhir</td>\n",
       "      <td>Bahrain</td>\n",
       "      <td>26.0325</td>\n",
       "      <td>50.5106</td>\n",
       "      <td>hrt</td>\n",
       "      <td>HRT</td>\n",
       "      <td>Spanish</td>\n",
       "      <td>164</td>\n",
       "      <td>Narain Karthikeyan</td>\n",
       "    </tr>\n",
       "    <tr>\n",
       "      <th>20254</th>\n",
       "      <td>21320</td>\n",
       "      <td>863</td>\n",
       "      <td>5</td>\n",
       "      <td>17</td>\n",
       "      <td>17</td>\n",
       "      <td>863</td>\n",
       "      <td>2012</td>\n",
       "      <td>3</td>\n",
       "      <td>Bahrain Grand Prix</td>\n",
       "      <td>Heikki</td>\n",
       "      <td>...</td>\n",
       "      <td>Bahrain International Circuit</td>\n",
       "      <td>Sakhir</td>\n",
       "      <td>Bahrain</td>\n",
       "      <td>26.0325</td>\n",
       "      <td>50.5106</td>\n",
       "      <td>caterham</td>\n",
       "      <td>Caterham</td>\n",
       "      <td>Malaysian</td>\n",
       "      <td>207</td>\n",
       "      <td>Heikki Kovalainen</td>\n",
       "    </tr>\n",
       "    <tr>\n",
       "      <th>20971</th>\n",
       "      <td>21309</td>\n",
       "      <td>863</td>\n",
       "      <td>814</td>\n",
       "      <td>6</td>\n",
       "      <td>6</td>\n",
       "      <td>863</td>\n",
       "      <td>2012</td>\n",
       "      <td>3</td>\n",
       "      <td>Bahrain Grand Prix</td>\n",
       "      <td>Paul</td>\n",
       "      <td>...</td>\n",
       "      <td>Bahrain International Circuit</td>\n",
       "      <td>Sakhir</td>\n",
       "      <td>Bahrain</td>\n",
       "      <td>26.0325</td>\n",
       "      <td>50.5106</td>\n",
       "      <td>force_india</td>\n",
       "      <td>Force India</td>\n",
       "      <td>Indian</td>\n",
       "      <td>10</td>\n",
       "      <td>Paul di Resta</td>\n",
       "    </tr>\n",
       "    <tr>\n",
       "      <th>21423</th>\n",
       "      <td>21314</td>\n",
       "      <td>863</td>\n",
       "      <td>815</td>\n",
       "      <td>11</td>\n",
       "      <td>11</td>\n",
       "      <td>863</td>\n",
       "      <td>2012</td>\n",
       "      <td>3</td>\n",
       "      <td>Bahrain Grand Prix</td>\n",
       "      <td>Sergio</td>\n",
       "      <td>...</td>\n",
       "      <td>Bahrain International Circuit</td>\n",
       "      <td>Sakhir</td>\n",
       "      <td>Bahrain</td>\n",
       "      <td>26.0325</td>\n",
       "      <td>50.5106</td>\n",
       "      <td>sauber</td>\n",
       "      <td>Sauber</td>\n",
       "      <td>Swiss</td>\n",
       "      <td>15</td>\n",
       "      <td>Sergio Pérez</td>\n",
       "    </tr>\n",
       "    <tr>\n",
       "      <th>21424</th>\n",
       "      <td>21316</td>\n",
       "      <td>863</td>\n",
       "      <td>155</td>\n",
       "      <td>13</td>\n",
       "      <td>13</td>\n",
       "      <td>863</td>\n",
       "      <td>2012</td>\n",
       "      <td>3</td>\n",
       "      <td>Bahrain Grand Prix</td>\n",
       "      <td>Kamui</td>\n",
       "      <td>...</td>\n",
       "      <td>Bahrain International Circuit</td>\n",
       "      <td>Sakhir</td>\n",
       "      <td>Bahrain</td>\n",
       "      <td>26.0325</td>\n",
       "      <td>50.5106</td>\n",
       "      <td>sauber</td>\n",
       "      <td>Sauber</td>\n",
       "      <td>Swiss</td>\n",
       "      <td>15</td>\n",
       "      <td>Kamui Kobayashi</td>\n",
       "    </tr>\n",
       "    <tr>\n",
       "      <th>21960</th>\n",
       "      <td>21307</td>\n",
       "      <td>863</td>\n",
       "      <td>17</td>\n",
       "      <td>4</td>\n",
       "      <td>4</td>\n",
       "      <td>863</td>\n",
       "      <td>2012</td>\n",
       "      <td>3</td>\n",
       "      <td>Bahrain Grand Prix</td>\n",
       "      <td>Mark</td>\n",
       "      <td>...</td>\n",
       "      <td>Bahrain International Circuit</td>\n",
       "      <td>Sakhir</td>\n",
       "      <td>Bahrain</td>\n",
       "      <td>26.0325</td>\n",
       "      <td>50.5106</td>\n",
       "      <td>red_bull</td>\n",
       "      <td>Red Bull</td>\n",
       "      <td>Austrian</td>\n",
       "      <td>9</td>\n",
       "      <td>Mark Webber</td>\n",
       "    </tr>\n",
       "    <tr>\n",
       "      <th>22194</th>\n",
       "      <td>21322</td>\n",
       "      <td>863</td>\n",
       "      <td>10</td>\n",
       "      <td>19</td>\n",
       "      <td>19</td>\n",
       "      <td>863</td>\n",
       "      <td>2012</td>\n",
       "      <td>3</td>\n",
       "      <td>Bahrain Grand Prix</td>\n",
       "      <td>Timo</td>\n",
       "      <td>...</td>\n",
       "      <td>Bahrain International Circuit</td>\n",
       "      <td>Sakhir</td>\n",
       "      <td>Bahrain</td>\n",
       "      <td>26.0325</td>\n",
       "      <td>50.5106</td>\n",
       "      <td>marussia</td>\n",
       "      <td>Marussia</td>\n",
       "      <td>Russian</td>\n",
       "      <td>206</td>\n",
       "      <td>Timo Glock</td>\n",
       "    </tr>\n",
       "    <tr>\n",
       "      <th>22432</th>\n",
       "      <td>21304</td>\n",
       "      <td>863</td>\n",
       "      <td>20</td>\n",
       "      <td>1</td>\n",
       "      <td>1</td>\n",
       "      <td>863</td>\n",
       "      <td>2012</td>\n",
       "      <td>3</td>\n",
       "      <td>Bahrain Grand Prix</td>\n",
       "      <td>Sebastian</td>\n",
       "      <td>...</td>\n",
       "      <td>Bahrain International Circuit</td>\n",
       "      <td>Sakhir</td>\n",
       "      <td>Bahrain</td>\n",
       "      <td>26.0325</td>\n",
       "      <td>50.5106</td>\n",
       "      <td>red_bull</td>\n",
       "      <td>Red Bull</td>\n",
       "      <td>Austrian</td>\n",
       "      <td>9</td>\n",
       "      <td>Sebastian Vettel</td>\n",
       "    </tr>\n",
       "    <tr>\n",
       "      <th>22684</th>\n",
       "      <td>21313</td>\n",
       "      <td>863</td>\n",
       "      <td>30</td>\n",
       "      <td>10</td>\n",
       "      <td>10</td>\n",
       "      <td>863</td>\n",
       "      <td>2012</td>\n",
       "      <td>3</td>\n",
       "      <td>Bahrain Grand Prix</td>\n",
       "      <td>Michael</td>\n",
       "      <td>...</td>\n",
       "      <td>Bahrain International Circuit</td>\n",
       "      <td>Sakhir</td>\n",
       "      <td>Bahrain</td>\n",
       "      <td>26.0325</td>\n",
       "      <td>50.5106</td>\n",
       "      <td>mercedes</td>\n",
       "      <td>Mercedes</td>\n",
       "      <td>German</td>\n",
       "      <td>131</td>\n",
       "      <td>Michael Schumacher</td>\n",
       "    </tr>\n",
       "    <tr>\n",
       "      <th>22736</th>\n",
       "      <td>21315</td>\n",
       "      <td>863</td>\n",
       "      <td>807</td>\n",
       "      <td>12</td>\n",
       "      <td>12</td>\n",
       "      <td>863</td>\n",
       "      <td>2012</td>\n",
       "      <td>3</td>\n",
       "      <td>Bahrain Grand Prix</td>\n",
       "      <td>Nico</td>\n",
       "      <td>...</td>\n",
       "      <td>Bahrain International Circuit</td>\n",
       "      <td>Sakhir</td>\n",
       "      <td>Bahrain</td>\n",
       "      <td>26.0325</td>\n",
       "      <td>50.5106</td>\n",
       "      <td>force_india</td>\n",
       "      <td>Force India</td>\n",
       "      <td>Indian</td>\n",
       "      <td>10</td>\n",
       "      <td>Nico Hülkenberg</td>\n",
       "    </tr>\n",
       "    <tr>\n",
       "      <th>22836</th>\n",
       "      <td>21308</td>\n",
       "      <td>863</td>\n",
       "      <td>3</td>\n",
       "      <td>5</td>\n",
       "      <td>5</td>\n",
       "      <td>863</td>\n",
       "      <td>2012</td>\n",
       "      <td>3</td>\n",
       "      <td>Bahrain Grand Prix</td>\n",
       "      <td>Nico</td>\n",
       "      <td>...</td>\n",
       "      <td>Bahrain International Circuit</td>\n",
       "      <td>Sakhir</td>\n",
       "      <td>Bahrain</td>\n",
       "      <td>26.0325</td>\n",
       "      <td>50.5106</td>\n",
       "      <td>mercedes</td>\n",
       "      <td>Mercedes</td>\n",
       "      <td>German</td>\n",
       "      <td>131</td>\n",
       "      <td>Nico Rosberg</td>\n",
       "    </tr>\n",
       "    <tr>\n",
       "      <th>23254</th>\n",
       "      <td>21327</td>\n",
       "      <td>863</td>\n",
       "      <td>819</td>\n",
       "      <td>R</td>\n",
       "      <td>24</td>\n",
       "      <td>863</td>\n",
       "      <td>2012</td>\n",
       "      <td>3</td>\n",
       "      <td>Bahrain Grand Prix</td>\n",
       "      <td>Charles</td>\n",
       "      <td>...</td>\n",
       "      <td>Bahrain International Circuit</td>\n",
       "      <td>Sakhir</td>\n",
       "      <td>Bahrain</td>\n",
       "      <td>26.0325</td>\n",
       "      <td>50.5106</td>\n",
       "      <td>marussia</td>\n",
       "      <td>Marussia</td>\n",
       "      <td>Russian</td>\n",
       "      <td>206</td>\n",
       "      <td>Charles Pic</td>\n",
       "    </tr>\n",
       "  </tbody>\n",
       "</table>\n",
       "<p>24 rows × 22 columns</p>\n",
       "</div>"
      ],
      "text/plain": [
       "       resultId  raceId  driverId positionText  positionOrder  races.raceId  \\\n",
       "4056      21326     863       813            R             23           863   \n",
       "5373      21305     863         8            2              2           863   \n",
       "6378      21306     863       154            3              3           863   \n",
       "8957      21325     863       811           22             22           863   \n",
       "10092     21311     863         1            8              8           863   \n",
       "10247     21321     863        18           18             18           863   \n",
       "13567     21318     863       817           15             15           863   \n",
       "13762     21317     863       818           14             14           863   \n",
       "16860     21310     863         4            7              7           863   \n",
       "17094     21312     863        13            9              9           863   \n",
       "19674     21319     863       808           16             16           863   \n",
       "19675     21323     863        37           20             20           863   \n",
       "19676     21324     863        39           21             21           863   \n",
       "20254     21320     863         5           17             17           863   \n",
       "20971     21309     863       814            6              6           863   \n",
       "21423     21314     863       815           11             11           863   \n",
       "21424     21316     863       155           13             13           863   \n",
       "21960     21307     863        17            4              4           863   \n",
       "22194     21322     863        10           19             19           863   \n",
       "22432     21304     863        20            1              1           863   \n",
       "22684     21313     863        30           10             10           863   \n",
       "22736     21315     863       807           12             12           863   \n",
       "22836     21308     863         3            5              5           863   \n",
       "23254     21327     863       819            R             24           863   \n",
       "\n",
       "       races.year  races.circuitId          races.name drivers.forename  ...  \\\n",
       "4056         2012                3  Bahrain Grand Prix           Pastor  ...   \n",
       "5373         2012                3  Bahrain Grand Prix             Kimi  ...   \n",
       "6378         2012                3  Bahrain Grand Prix           Romain  ...   \n",
       "8957         2012                3  Bahrain Grand Prix            Bruno  ...   \n",
       "10092        2012                3  Bahrain Grand Prix            Lewis  ...   \n",
       "10247        2012                3  Bahrain Grand Prix           Jenson  ...   \n",
       "13567        2012                3  Bahrain Grand Prix           Daniel  ...   \n",
       "13762        2012                3  Bahrain Grand Prix        Jean-Éric  ...   \n",
       "16860        2012                3  Bahrain Grand Prix         Fernando  ...   \n",
       "17094        2012                3  Bahrain Grand Prix           Felipe  ...   \n",
       "19674        2012                3  Bahrain Grand Prix           Vitaly  ...   \n",
       "19675        2012                3  Bahrain Grand Prix            Pedro  ...   \n",
       "19676        2012                3  Bahrain Grand Prix           Narain  ...   \n",
       "20254        2012                3  Bahrain Grand Prix           Heikki  ...   \n",
       "20971        2012                3  Bahrain Grand Prix             Paul  ...   \n",
       "21423        2012                3  Bahrain Grand Prix           Sergio  ...   \n",
       "21424        2012                3  Bahrain Grand Prix            Kamui  ...   \n",
       "21960        2012                3  Bahrain Grand Prix             Mark  ...   \n",
       "22194        2012                3  Bahrain Grand Prix             Timo  ...   \n",
       "22432        2012                3  Bahrain Grand Prix        Sebastian  ...   \n",
       "22684        2012                3  Bahrain Grand Prix          Michael  ...   \n",
       "22736        2012                3  Bahrain Grand Prix             Nico  ...   \n",
       "22836        2012                3  Bahrain Grand Prix             Nico  ...   \n",
       "23254        2012                3  Bahrain Grand Prix          Charles  ...   \n",
       "\n",
       "                       circuits.name circuits.location circuits.country  \\\n",
       "4056   Bahrain International Circuit            Sakhir          Bahrain   \n",
       "5373   Bahrain International Circuit            Sakhir          Bahrain   \n",
       "6378   Bahrain International Circuit            Sakhir          Bahrain   \n",
       "8957   Bahrain International Circuit            Sakhir          Bahrain   \n",
       "10092  Bahrain International Circuit            Sakhir          Bahrain   \n",
       "10247  Bahrain International Circuit            Sakhir          Bahrain   \n",
       "13567  Bahrain International Circuit            Sakhir          Bahrain   \n",
       "13762  Bahrain International Circuit            Sakhir          Bahrain   \n",
       "16860  Bahrain International Circuit            Sakhir          Bahrain   \n",
       "17094  Bahrain International Circuit            Sakhir          Bahrain   \n",
       "19674  Bahrain International Circuit            Sakhir          Bahrain   \n",
       "19675  Bahrain International Circuit            Sakhir          Bahrain   \n",
       "19676  Bahrain International Circuit            Sakhir          Bahrain   \n",
       "20254  Bahrain International Circuit            Sakhir          Bahrain   \n",
       "20971  Bahrain International Circuit            Sakhir          Bahrain   \n",
       "21423  Bahrain International Circuit            Sakhir          Bahrain   \n",
       "21424  Bahrain International Circuit            Sakhir          Bahrain   \n",
       "21960  Bahrain International Circuit            Sakhir          Bahrain   \n",
       "22194  Bahrain International Circuit            Sakhir          Bahrain   \n",
       "22432  Bahrain International Circuit            Sakhir          Bahrain   \n",
       "22684  Bahrain International Circuit            Sakhir          Bahrain   \n",
       "22736  Bahrain International Circuit            Sakhir          Bahrain   \n",
       "22836  Bahrain International Circuit            Sakhir          Bahrain   \n",
       "23254  Bahrain International Circuit            Sakhir          Bahrain   \n",
       "\n",
       "      circuits.lat circuits.lng  constructors.constructorRef  \\\n",
       "4056       26.0325      50.5106                     williams   \n",
       "5373       26.0325      50.5106                     lotus_f1   \n",
       "6378       26.0325      50.5106                     lotus_f1   \n",
       "8957       26.0325      50.5106                     williams   \n",
       "10092      26.0325      50.5106                      mclaren   \n",
       "10247      26.0325      50.5106                      mclaren   \n",
       "13567      26.0325      50.5106                   toro_rosso   \n",
       "13762      26.0325      50.5106                   toro_rosso   \n",
       "16860      26.0325      50.5106                      ferrari   \n",
       "17094      26.0325      50.5106                      ferrari   \n",
       "19674      26.0325      50.5106                     caterham   \n",
       "19675      26.0325      50.5106                          hrt   \n",
       "19676      26.0325      50.5106                          hrt   \n",
       "20254      26.0325      50.5106                     caterham   \n",
       "20971      26.0325      50.5106                  force_india   \n",
       "21423      26.0325      50.5106                       sauber   \n",
       "21424      26.0325      50.5106                       sauber   \n",
       "21960      26.0325      50.5106                     red_bull   \n",
       "22194      26.0325      50.5106                     marussia   \n",
       "22432      26.0325      50.5106                     red_bull   \n",
       "22684      26.0325      50.5106                     mercedes   \n",
       "22736      26.0325      50.5106                  force_india   \n",
       "22836      26.0325      50.5106                     mercedes   \n",
       "23254      26.0325      50.5106                     marussia   \n",
       "\n",
       "       constructors.name constructors.nationality constructorId  \\\n",
       "4056            Williams                  British             3   \n",
       "5373            Lotus F1                  British           208   \n",
       "6378            Lotus F1                  British           208   \n",
       "8957            Williams                  British             3   \n",
       "10092            McLaren                  British             1   \n",
       "10247            McLaren                  British             1   \n",
       "13567         Toro Rosso                  Italian             5   \n",
       "13762         Toro Rosso                  Italian             5   \n",
       "16860            Ferrari                  Italian             6   \n",
       "17094            Ferrari                  Italian             6   \n",
       "19674           Caterham                Malaysian           207   \n",
       "19675                HRT                  Spanish           164   \n",
       "19676                HRT                  Spanish           164   \n",
       "20254           Caterham                Malaysian           207   \n",
       "20971        Force India                   Indian            10   \n",
       "21423             Sauber                    Swiss            15   \n",
       "21424             Sauber                    Swiss            15   \n",
       "21960           Red Bull                 Austrian             9   \n",
       "22194           Marussia                  Russian           206   \n",
       "22432           Red Bull                 Austrian             9   \n",
       "22684           Mercedes                   German           131   \n",
       "22736        Force India                   Indian            10   \n",
       "22836           Mercedes                   German           131   \n",
       "23254           Marussia                  Russian           206   \n",
       "\n",
       "         drivers.fullname  \n",
       "4056     Pastor Maldonado  \n",
       "5373       Kimi Räikkönen  \n",
       "6378      Romain Grosjean  \n",
       "8957          Bruno Senna  \n",
       "10092      Lewis Hamilton  \n",
       "10247       Jenson Button  \n",
       "13567    Daniel Ricciardo  \n",
       "13762    Jean-Éric Vergne  \n",
       "16860     Fernando Alonso  \n",
       "17094        Felipe Massa  \n",
       "19674       Vitaly Petrov  \n",
       "19675    Pedro de la Rosa  \n",
       "19676  Narain Karthikeyan  \n",
       "20254   Heikki Kovalainen  \n",
       "20971       Paul di Resta  \n",
       "21423        Sergio Pérez  \n",
       "21424     Kamui Kobayashi  \n",
       "21960         Mark Webber  \n",
       "22194          Timo Glock  \n",
       "22432    Sebastian Vettel  \n",
       "22684  Michael Schumacher  \n",
       "22736     Nico Hülkenberg  \n",
       "22836        Nico Rosberg  \n",
       "23254         Charles Pic  \n",
       "\n",
       "[24 rows x 22 columns]"
      ]
     },
     "execution_count": 76,
     "metadata": {},
     "output_type": "execute_result"
    }
   ],
   "source": [
    "df_final_circuit[df_final_circuit['raceId'] == 863]"
   ]
  },
  {
   "cell_type": "code",
   "execution_count": 75,
   "metadata": {},
   "outputs": [
    {
     "data": {
      "text/html": [
       "<div>\n",
       "<style scoped>\n",
       "    .dataframe tbody tr th:only-of-type {\n",
       "        vertical-align: middle;\n",
       "    }\n",
       "\n",
       "    .dataframe tbody tr th {\n",
       "        vertical-align: top;\n",
       "    }\n",
       "\n",
       "    .dataframe thead th {\n",
       "        text-align: right;\n",
       "    }\n",
       "</style>\n",
       "<table border=\"1\" class=\"dataframe\">\n",
       "  <thead>\n",
       "    <tr style=\"text-align: right;\">\n",
       "      <th></th>\n",
       "      <th>raceId</th>\n",
       "      <th>driverId</th>\n",
       "      <th>lap</th>\n",
       "      <th>position</th>\n",
       "      <th>time</th>\n",
       "      <th>milliseconds</th>\n",
       "      <th>minute</th>\n",
       "      <th>seconds</th>\n",
       "    </tr>\n",
       "  </thead>\n",
       "  <tbody>\n",
       "    <tr>\n",
       "      <th>27590</th>\n",
       "      <td>863</td>\n",
       "      <td>20</td>\n",
       "      <td>1</td>\n",
       "      <td>1</td>\n",
       "      <td>1:41.605</td>\n",
       "      <td>101605</td>\n",
       "      <td>1</td>\n",
       "      <td>41.605</td>\n",
       "    </tr>\n",
       "    <tr>\n",
       "      <th>27591</th>\n",
       "      <td>863</td>\n",
       "      <td>20</td>\n",
       "      <td>2</td>\n",
       "      <td>1</td>\n",
       "      <td>1:40.201</td>\n",
       "      <td>100201</td>\n",
       "      <td>1</td>\n",
       "      <td>40.201</td>\n",
       "    </tr>\n",
       "    <tr>\n",
       "      <th>27592</th>\n",
       "      <td>863</td>\n",
       "      <td>20</td>\n",
       "      <td>3</td>\n",
       "      <td>1</td>\n",
       "      <td>1:40.344</td>\n",
       "      <td>100344</td>\n",
       "      <td>1</td>\n",
       "      <td>40.344</td>\n",
       "    </tr>\n",
       "    <tr>\n",
       "      <th>27593</th>\n",
       "      <td>863</td>\n",
       "      <td>20</td>\n",
       "      <td>4</td>\n",
       "      <td>1</td>\n",
       "      <td>1:40.336</td>\n",
       "      <td>100336</td>\n",
       "      <td>1</td>\n",
       "      <td>40.336</td>\n",
       "    </tr>\n",
       "    <tr>\n",
       "      <th>27594</th>\n",
       "      <td>863</td>\n",
       "      <td>20</td>\n",
       "      <td>5</td>\n",
       "      <td>1</td>\n",
       "      <td>1:40.457</td>\n",
       "      <td>100457</td>\n",
       "      <td>1</td>\n",
       "      <td>40.457</td>\n",
       "    </tr>\n",
       "    <tr>\n",
       "      <th>...</th>\n",
       "      <td>...</td>\n",
       "      <td>...</td>\n",
       "      <td>...</td>\n",
       "      <td>...</td>\n",
       "      <td>...</td>\n",
       "      <td>...</td>\n",
       "      <td>...</td>\n",
       "      <td>...</td>\n",
       "    </tr>\n",
       "    <tr>\n",
       "      <th>515710</th>\n",
       "      <td>1074</td>\n",
       "      <td>817</td>\n",
       "      <td>53</td>\n",
       "      <td>16</td>\n",
       "      <td>1:37.671</td>\n",
       "      <td>97671</td>\n",
       "      <td>1</td>\n",
       "      <td>37.671</td>\n",
       "    </tr>\n",
       "    <tr>\n",
       "      <th>515711</th>\n",
       "      <td>1074</td>\n",
       "      <td>817</td>\n",
       "      <td>54</td>\n",
       "      <td>16</td>\n",
       "      <td>1:38.120</td>\n",
       "      <td>98120</td>\n",
       "      <td>1</td>\n",
       "      <td>38.120</td>\n",
       "    </tr>\n",
       "    <tr>\n",
       "      <th>515712</th>\n",
       "      <td>1074</td>\n",
       "      <td>817</td>\n",
       "      <td>55</td>\n",
       "      <td>15</td>\n",
       "      <td>1:38.639</td>\n",
       "      <td>98639</td>\n",
       "      <td>1</td>\n",
       "      <td>38.639</td>\n",
       "    </tr>\n",
       "    <tr>\n",
       "      <th>515713</th>\n",
       "      <td>1074</td>\n",
       "      <td>817</td>\n",
       "      <td>56</td>\n",
       "      <td>15</td>\n",
       "      <td>1:38.860</td>\n",
       "      <td>98860</td>\n",
       "      <td>1</td>\n",
       "      <td>38.860</td>\n",
       "    </tr>\n",
       "    <tr>\n",
       "      <th>515714</th>\n",
       "      <td>1074</td>\n",
       "      <td>817</td>\n",
       "      <td>57</td>\n",
       "      <td>14</td>\n",
       "      <td>1:40.084</td>\n",
       "      <td>100084</td>\n",
       "      <td>1</td>\n",
       "      <td>40.084</td>\n",
       "    </tr>\n",
       "  </tbody>\n",
       "</table>\n",
       "<p>17582 rows × 8 columns</p>\n",
       "</div>"
      ],
      "text/plain": [
       "        raceId  driverId  lap  position      time  milliseconds minute seconds\n",
       "27590      863        20    1         1  1:41.605        101605      1  41.605\n",
       "27591      863        20    2         1  1:40.201        100201      1  40.201\n",
       "27592      863        20    3         1  1:40.344        100344      1  40.344\n",
       "27593      863        20    4         1  1:40.336        100336      1  40.336\n",
       "27594      863        20    5         1  1:40.457        100457      1  40.457\n",
       "...        ...       ...  ...       ...       ...           ...    ...     ...\n",
       "515710    1074       817   53        16  1:37.671         97671      1  37.671\n",
       "515711    1074       817   54        16  1:38.120         98120      1  38.120\n",
       "515712    1074       817   55        15  1:38.639         98639      1  38.639\n",
       "515713    1074       817   56        15  1:38.860         98860      1  38.860\n",
       "515714    1074       817   57        14  1:40.084        100084      1  40.084\n",
       "\n",
       "[17582 rows x 8 columns]"
      ]
     },
     "execution_count": 75,
     "metadata": {},
     "output_type": "execute_result"
    }
   ],
   "source": [
    "df_laps_circuit[df_laps_circuit['minute']=='1']"
   ]
  },
  {
   "cell_type": "code",
   "execution_count": 65,
   "metadata": {},
   "outputs": [
    {
     "data": {
      "text/plain": [
       "27590     1:41.605\n",
       "27591     1:40.201\n",
       "27592     1:40.344\n",
       "27593     1:40.336\n",
       "27594     1:40.457\n",
       "            ...   \n",
       "515710    1:37.671\n",
       "515711    1:38.120\n",
       "515712    1:38.639\n",
       "515713    1:38.860\n",
       "515714    1:40.084\n",
       "Name: time, Length: 20489, dtype: object"
      ]
     },
     "execution_count": 65,
     "metadata": {},
     "output_type": "execute_result"
    }
   ],
   "source": [
    "df_laps_circuit['time'].split()"
   ]
  },
  {
   "cell_type": "code",
   "execution_count": null,
   "metadata": {},
   "outputs": [],
   "source": [
    "df_final[df_final['.name'] == circuit_name]"
   ]
  },
  {
   "cell_type": "markdown",
   "metadata": {},
   "source": [
    "### Box Plot "
   ]
  },
  {
   "cell_type": "code",
   "execution_count": null,
   "metadata": {},
   "outputs": [
    {
     "data": {
      "text/plain": [
       "['Hamilton',\n",
       " 'Vettel',\n",
       " 'Alonso',\n",
       " 'Massa',\n",
       " 'Button',\n",
       " 'Leclerc',\n",
       " 'Pérez',\n",
       " 'Rosberg',\n",
       " 'Schumacher']"
      ]
     },
     "execution_count": 5,
     "metadata": {},
     "output_type": "execute_result"
    }
   ],
   "source": [
    "df_final[(df_final['circuits.name'] == circuit_name) & (df_final['positionText'] == 1)].groupby('drivers.surname')['drivers.surname'].count().sort_values(ascending = False).index.tolist()"
   ]
  },
  {
   "cell_type": "code",
   "execution_count": null,
   "metadata": {},
   "outputs": [],
   "source": [
    "def get_circuit_id(circuit_name):\n",
    "    for index,circuit in enumerate(df_circuits): \n",
    "        if df_circuits['name'][index] == circuit_name:\n",
    "            id_circuit = df_circuits['circuitId'][index]\n",
    "\n",
    "    return id_circuit"
   ]
  },
  {
   "cell_type": "code",
   "execution_count": null,
   "metadata": {},
   "outputs": [],
   "source": [
    "def get_driver_name(driver_id):\n",
    "    for driver in df_drivers.index: \n",
    "        if driver == driver_id:\n",
    "            driver_name = df_drivers['forename'][driver] + ' '+ df_drivers['surname'][driver]\n",
    "\n",
    "    return driver_name"
   ]
  },
  {
   "cell_type": "code",
   "execution_count": null,
   "metadata": {},
   "outputs": [],
   "source": [
    "def best_pilot_circuit(circuit): \n",
    "    # get the races in the circuit \n",
    "    race_list = df_races[df_races.circuitId == get_circuit_id(circuit_name)].index.tolist()\n",
    "    # get the winning drivers from that circuit\n",
    "    drivers_list = df_results[(df_results['raceId'].isin(race_list)) & (df_results['positionText'] == '1')].groupby('driverId')['driverId'].count().sort_values(ascending = False).index.tolist()\n",
    "    # get the number of wins by each driver \n",
    "    winning_list = df_results[(df_results['raceId'].isin(race_list)) & (df_results['positionText'] == '1')].groupby('driverId')['driverId'].count().sort_values(ascending = False).tolist()\n",
    "    \n",
    "    # convert drivers id into names\n",
    "    drivers_names = []\n",
    "    for driver_id in drivers_list: \n",
    "        drivers_names.append(get_driver_name(driver_id))\n",
    "\n",
    "    d = {'Drivers':drivers_names,'Wins':winning_list}\n",
    "    df_wins = pd.DataFrame(d)\n",
    "\n",
    "    fig = px.histogram(df, x=\"day\", category_orders=dict(day=[\"Thur\", \"Fri\", \"Sat\", \"Sun\"]))\n",
    "    fig.show()\n",
    "    "
   ]
  },
  {
   "cell_type": "markdown",
   "metadata": {},
   "source": [
    "### Pie Chart "
   ]
  },
  {
   "cell_type": "code",
   "execution_count": 100,
   "metadata": {},
   "outputs": [
    {
     "data": {
      "text/plain": [
       "Index(['resultId', 'raceId', 'driverId', 'positionText', 'positionOrder',\n",
       "       'races.raceId', 'races.year', 'races.circuitId', 'races.name',\n",
       "       'drivers.forename', 'drivers.surname', 'drivers.nationality',\n",
       "       'circuits.name', 'circuits.location', 'circuits.country',\n",
       "       'circuits.lat', 'circuits.lng', 'constructors.constructorRef',\n",
       "       'constructors.name', 'constructors.nationality', 'constructorId'],\n",
       "      dtype='object')"
      ]
     },
     "execution_count": 100,
     "metadata": {},
     "output_type": "execute_result"
    }
   ],
   "source": [
    "df_final.columns"
   ]
  },
  {
   "cell_type": "code",
   "execution_count": 101,
   "metadata": {},
   "outputs": [],
   "source": [
    "const_wins = df_final[(df_final['circuits.name'] == circuit_name) & (df_final['positionText'] == 1)].groupby('constructors.name')['constructors.name'].count().sort_values(ascending = False).tolist()"
   ]
  },
  {
   "cell_type": "code",
   "execution_count": 102,
   "metadata": {},
   "outputs": [],
   "source": [
    "const_names = df_final[(df_final['circuits.name'] == circuit_name) & (df_final['positionText'] == 1)].groupby('constructors.name')['constructors.name'].count().sort_values(ascending = False).index.tolist()"
   ]
  },
  {
   "cell_type": "code",
   "execution_count": 103,
   "metadata": {},
   "outputs": [
    {
     "data": {
      "application/vnd.plotly.v1+json": {
       "config": {
        "plotlyServerURL": "https://plot.ly"
       },
       "data": [
        {
         "domain": {
          "x": [
           0,
           1
          ],
          "y": [
           0,
           1
          ]
         },
         "hovertemplate": "label=%{label}<br>value=%{value}<extra></extra>",
         "labels": [
          "Ferrari",
          "Mercedes",
          "Red Bull",
          "Renault",
          "Brawn",
          "Racing Point"
         ],
         "legendgroup": "",
         "name": "",
         "showlegend": true,
         "type": "pie",
         "values": [
          7,
          6,
          2,
          2,
          1,
          1
         ]
        }
       ],
       "layout": {
        "legend": {
         "tracegroupgap": 0
        },
        "margin": {
         "t": 60
        },
        "piecolorway": [
         "rgb(103,0,31)",
         "rgb(178,24,43)",
         "rgb(214,96,77)",
         "rgb(244,165,130)",
         "rgb(253,219,199)",
         "rgb(247,247,247)",
         "rgb(209,229,240)",
         "rgb(146,197,222)",
         "rgb(67,147,195)",
         "rgb(33,102,172)",
         "rgb(5,48,97)"
        ],
        "template": {
         "data": {
          "bar": [
           {
            "error_x": {
             "color": "#2a3f5f"
            },
            "error_y": {
             "color": "#2a3f5f"
            },
            "marker": {
             "line": {
              "color": "#E5ECF6",
              "width": 0.5
             }
            },
            "type": "bar"
           }
          ],
          "barpolar": [
           {
            "marker": {
             "line": {
              "color": "#E5ECF6",
              "width": 0.5
             }
            },
            "type": "barpolar"
           }
          ],
          "carpet": [
           {
            "aaxis": {
             "endlinecolor": "#2a3f5f",
             "gridcolor": "white",
             "linecolor": "white",
             "minorgridcolor": "white",
             "startlinecolor": "#2a3f5f"
            },
            "baxis": {
             "endlinecolor": "#2a3f5f",
             "gridcolor": "white",
             "linecolor": "white",
             "minorgridcolor": "white",
             "startlinecolor": "#2a3f5f"
            },
            "type": "carpet"
           }
          ],
          "choropleth": [
           {
            "colorbar": {
             "outlinewidth": 0,
             "ticks": ""
            },
            "type": "choropleth"
           }
          ],
          "contour": [
           {
            "colorbar": {
             "outlinewidth": 0,
             "ticks": ""
            },
            "colorscale": [
             [
              0,
              "#0d0887"
             ],
             [
              0.1111111111111111,
              "#46039f"
             ],
             [
              0.2222222222222222,
              "#7201a8"
             ],
             [
              0.3333333333333333,
              "#9c179e"
             ],
             [
              0.4444444444444444,
              "#bd3786"
             ],
             [
              0.5555555555555556,
              "#d8576b"
             ],
             [
              0.6666666666666666,
              "#ed7953"
             ],
             [
              0.7777777777777778,
              "#fb9f3a"
             ],
             [
              0.8888888888888888,
              "#fdca26"
             ],
             [
              1,
              "#f0f921"
             ]
            ],
            "type": "contour"
           }
          ],
          "contourcarpet": [
           {
            "colorbar": {
             "outlinewidth": 0,
             "ticks": ""
            },
            "type": "contourcarpet"
           }
          ],
          "heatmap": [
           {
            "colorbar": {
             "outlinewidth": 0,
             "ticks": ""
            },
            "colorscale": [
             [
              0,
              "#0d0887"
             ],
             [
              0.1111111111111111,
              "#46039f"
             ],
             [
              0.2222222222222222,
              "#7201a8"
             ],
             [
              0.3333333333333333,
              "#9c179e"
             ],
             [
              0.4444444444444444,
              "#bd3786"
             ],
             [
              0.5555555555555556,
              "#d8576b"
             ],
             [
              0.6666666666666666,
              "#ed7953"
             ],
             [
              0.7777777777777778,
              "#fb9f3a"
             ],
             [
              0.8888888888888888,
              "#fdca26"
             ],
             [
              1,
              "#f0f921"
             ]
            ],
            "type": "heatmap"
           }
          ],
          "heatmapgl": [
           {
            "colorbar": {
             "outlinewidth": 0,
             "ticks": ""
            },
            "colorscale": [
             [
              0,
              "#0d0887"
             ],
             [
              0.1111111111111111,
              "#46039f"
             ],
             [
              0.2222222222222222,
              "#7201a8"
             ],
             [
              0.3333333333333333,
              "#9c179e"
             ],
             [
              0.4444444444444444,
              "#bd3786"
             ],
             [
              0.5555555555555556,
              "#d8576b"
             ],
             [
              0.6666666666666666,
              "#ed7953"
             ],
             [
              0.7777777777777778,
              "#fb9f3a"
             ],
             [
              0.8888888888888888,
              "#fdca26"
             ],
             [
              1,
              "#f0f921"
             ]
            ],
            "type": "heatmapgl"
           }
          ],
          "histogram": [
           {
            "marker": {
             "colorbar": {
              "outlinewidth": 0,
              "ticks": ""
             }
            },
            "type": "histogram"
           }
          ],
          "histogram2d": [
           {
            "colorbar": {
             "outlinewidth": 0,
             "ticks": ""
            },
            "colorscale": [
             [
              0,
              "#0d0887"
             ],
             [
              0.1111111111111111,
              "#46039f"
             ],
             [
              0.2222222222222222,
              "#7201a8"
             ],
             [
              0.3333333333333333,
              "#9c179e"
             ],
             [
              0.4444444444444444,
              "#bd3786"
             ],
             [
              0.5555555555555556,
              "#d8576b"
             ],
             [
              0.6666666666666666,
              "#ed7953"
             ],
             [
              0.7777777777777778,
              "#fb9f3a"
             ],
             [
              0.8888888888888888,
              "#fdca26"
             ],
             [
              1,
              "#f0f921"
             ]
            ],
            "type": "histogram2d"
           }
          ],
          "histogram2dcontour": [
           {
            "colorbar": {
             "outlinewidth": 0,
             "ticks": ""
            },
            "colorscale": [
             [
              0,
              "#0d0887"
             ],
             [
              0.1111111111111111,
              "#46039f"
             ],
             [
              0.2222222222222222,
              "#7201a8"
             ],
             [
              0.3333333333333333,
              "#9c179e"
             ],
             [
              0.4444444444444444,
              "#bd3786"
             ],
             [
              0.5555555555555556,
              "#d8576b"
             ],
             [
              0.6666666666666666,
              "#ed7953"
             ],
             [
              0.7777777777777778,
              "#fb9f3a"
             ],
             [
              0.8888888888888888,
              "#fdca26"
             ],
             [
              1,
              "#f0f921"
             ]
            ],
            "type": "histogram2dcontour"
           }
          ],
          "mesh3d": [
           {
            "colorbar": {
             "outlinewidth": 0,
             "ticks": ""
            },
            "type": "mesh3d"
           }
          ],
          "parcoords": [
           {
            "line": {
             "colorbar": {
              "outlinewidth": 0,
              "ticks": ""
             }
            },
            "type": "parcoords"
           }
          ],
          "pie": [
           {
            "automargin": true,
            "type": "pie"
           }
          ],
          "scatter": [
           {
            "marker": {
             "colorbar": {
              "outlinewidth": 0,
              "ticks": ""
             }
            },
            "type": "scatter"
           }
          ],
          "scatter3d": [
           {
            "line": {
             "colorbar": {
              "outlinewidth": 0,
              "ticks": ""
             }
            },
            "marker": {
             "colorbar": {
              "outlinewidth": 0,
              "ticks": ""
             }
            },
            "type": "scatter3d"
           }
          ],
          "scattercarpet": [
           {
            "marker": {
             "colorbar": {
              "outlinewidth": 0,
              "ticks": ""
             }
            },
            "type": "scattercarpet"
           }
          ],
          "scattergeo": [
           {
            "marker": {
             "colorbar": {
              "outlinewidth": 0,
              "ticks": ""
             }
            },
            "type": "scattergeo"
           }
          ],
          "scattergl": [
           {
            "marker": {
             "colorbar": {
              "outlinewidth": 0,
              "ticks": ""
             }
            },
            "type": "scattergl"
           }
          ],
          "scattermapbox": [
           {
            "marker": {
             "colorbar": {
              "outlinewidth": 0,
              "ticks": ""
             }
            },
            "type": "scattermapbox"
           }
          ],
          "scatterpolar": [
           {
            "marker": {
             "colorbar": {
              "outlinewidth": 0,
              "ticks": ""
             }
            },
            "type": "scatterpolar"
           }
          ],
          "scatterpolargl": [
           {
            "marker": {
             "colorbar": {
              "outlinewidth": 0,
              "ticks": ""
             }
            },
            "type": "scatterpolargl"
           }
          ],
          "scatterternary": [
           {
            "marker": {
             "colorbar": {
              "outlinewidth": 0,
              "ticks": ""
             }
            },
            "type": "scatterternary"
           }
          ],
          "surface": [
           {
            "colorbar": {
             "outlinewidth": 0,
             "ticks": ""
            },
            "colorscale": [
             [
              0,
              "#0d0887"
             ],
             [
              0.1111111111111111,
              "#46039f"
             ],
             [
              0.2222222222222222,
              "#7201a8"
             ],
             [
              0.3333333333333333,
              "#9c179e"
             ],
             [
              0.4444444444444444,
              "#bd3786"
             ],
             [
              0.5555555555555556,
              "#d8576b"
             ],
             [
              0.6666666666666666,
              "#ed7953"
             ],
             [
              0.7777777777777778,
              "#fb9f3a"
             ],
             [
              0.8888888888888888,
              "#fdca26"
             ],
             [
              1,
              "#f0f921"
             ]
            ],
            "type": "surface"
           }
          ],
          "table": [
           {
            "cells": {
             "fill": {
              "color": "#EBF0F8"
             },
             "line": {
              "color": "white"
             }
            },
            "header": {
             "fill": {
              "color": "#C8D4E3"
             },
             "line": {
              "color": "white"
             }
            },
            "type": "table"
           }
          ]
         },
         "layout": {
          "annotationdefaults": {
           "arrowcolor": "#2a3f5f",
           "arrowhead": 0,
           "arrowwidth": 1
          },
          "autotypenumbers": "strict",
          "coloraxis": {
           "colorbar": {
            "outlinewidth": 0,
            "ticks": ""
           }
          },
          "colorscale": {
           "diverging": [
            [
             0,
             "#8e0152"
            ],
            [
             0.1,
             "#c51b7d"
            ],
            [
             0.2,
             "#de77ae"
            ],
            [
             0.3,
             "#f1b6da"
            ],
            [
             0.4,
             "#fde0ef"
            ],
            [
             0.5,
             "#f7f7f7"
            ],
            [
             0.6,
             "#e6f5d0"
            ],
            [
             0.7,
             "#b8e186"
            ],
            [
             0.8,
             "#7fbc41"
            ],
            [
             0.9,
             "#4d9221"
            ],
            [
             1,
             "#276419"
            ]
           ],
           "sequential": [
            [
             0,
             "#0d0887"
            ],
            [
             0.1111111111111111,
             "#46039f"
            ],
            [
             0.2222222222222222,
             "#7201a8"
            ],
            [
             0.3333333333333333,
             "#9c179e"
            ],
            [
             0.4444444444444444,
             "#bd3786"
            ],
            [
             0.5555555555555556,
             "#d8576b"
            ],
            [
             0.6666666666666666,
             "#ed7953"
            ],
            [
             0.7777777777777778,
             "#fb9f3a"
            ],
            [
             0.8888888888888888,
             "#fdca26"
            ],
            [
             1,
             "#f0f921"
            ]
           ],
           "sequentialminus": [
            [
             0,
             "#0d0887"
            ],
            [
             0.1111111111111111,
             "#46039f"
            ],
            [
             0.2222222222222222,
             "#7201a8"
            ],
            [
             0.3333333333333333,
             "#9c179e"
            ],
            [
             0.4444444444444444,
             "#bd3786"
            ],
            [
             0.5555555555555556,
             "#d8576b"
            ],
            [
             0.6666666666666666,
             "#ed7953"
            ],
            [
             0.7777777777777778,
             "#fb9f3a"
            ],
            [
             0.8888888888888888,
             "#fdca26"
            ],
            [
             1,
             "#f0f921"
            ]
           ]
          },
          "colorway": [
           "#636efa",
           "#EF553B",
           "#00cc96",
           "#ab63fa",
           "#FFA15A",
           "#19d3f3",
           "#FF6692",
           "#B6E880",
           "#FF97FF",
           "#FECB52"
          ],
          "font": {
           "color": "#2a3f5f"
          },
          "geo": {
           "bgcolor": "white",
           "lakecolor": "white",
           "landcolor": "#E5ECF6",
           "showlakes": true,
           "showland": true,
           "subunitcolor": "white"
          },
          "hoverlabel": {
           "align": "left"
          },
          "hovermode": "closest",
          "mapbox": {
           "style": "light"
          },
          "paper_bgcolor": "white",
          "plot_bgcolor": "#E5ECF6",
          "polar": {
           "angularaxis": {
            "gridcolor": "white",
            "linecolor": "white",
            "ticks": ""
           },
           "bgcolor": "#E5ECF6",
           "radialaxis": {
            "gridcolor": "white",
            "linecolor": "white",
            "ticks": ""
           }
          },
          "scene": {
           "xaxis": {
            "backgroundcolor": "#E5ECF6",
            "gridcolor": "white",
            "gridwidth": 2,
            "linecolor": "white",
            "showbackground": true,
            "ticks": "",
            "zerolinecolor": "white"
           },
           "yaxis": {
            "backgroundcolor": "#E5ECF6",
            "gridcolor": "white",
            "gridwidth": 2,
            "linecolor": "white",
            "showbackground": true,
            "ticks": "",
            "zerolinecolor": "white"
           },
           "zaxis": {
            "backgroundcolor": "#E5ECF6",
            "gridcolor": "white",
            "gridwidth": 2,
            "linecolor": "white",
            "showbackground": true,
            "ticks": "",
            "zerolinecolor": "white"
           }
          },
          "shapedefaults": {
           "line": {
            "color": "#2a3f5f"
           }
          },
          "ternary": {
           "aaxis": {
            "gridcolor": "white",
            "linecolor": "white",
            "ticks": ""
           },
           "baxis": {
            "gridcolor": "white",
            "linecolor": "white",
            "ticks": ""
           },
           "bgcolor": "#E5ECF6",
           "caxis": {
            "gridcolor": "white",
            "linecolor": "white",
            "ticks": ""
           }
          },
          "title": {
           "x": 0.05
          },
          "xaxis": {
           "automargin": true,
           "gridcolor": "white",
           "linecolor": "white",
           "ticks": "",
           "title": {
            "standoff": 15
           },
           "zerolinecolor": "white",
           "zerolinewidth": 2
          },
          "yaxis": {
           "automargin": true,
           "gridcolor": "white",
           "linecolor": "white",
           "ticks": "",
           "title": {
            "standoff": 15
           },
           "zerolinecolor": "white",
           "zerolinewidth": 2
          }
         }
        }
       }
      }
     },
     "metadata": {},
     "output_type": "display_data"
    }
   ],
   "source": [
    "import plotly.express as px\n",
    "# This dataframe has 244 lines, but 4 distinct values for `day`\n",
    "\n",
    "fig = px.pie(values=const_wins, names=const_names,color_discrete_sequence=px.colors.sequential.RdBu)\n",
    "fig.show()"
   ]
  },
  {
   "cell_type": "code",
   "execution_count": 104,
   "metadata": {},
   "outputs": [
    {
     "data": {
      "text/plain": [
       "[7, 6, 2, 2, 1, 1]"
      ]
     },
     "execution_count": 104,
     "metadata": {},
     "output_type": "execute_result"
    }
   ],
   "source": [
    "df_final[(df_final['circuits.name'] == circuit_name) & (df_final['positionText'] == 1)].groupby('constructors.name')['constructors.name'].count().sort_values(ascending = False).tolist()"
   ]
  },
  {
   "cell_type": "code",
   "execution_count": 105,
   "metadata": {},
   "outputs": [],
   "source": [
    "df = df_final[(df_final['circuits.name'] == circuit_name) & (df_final['positionText'] == 1)].groupby('constructors.name')['drivers.surname'].count()"
   ]
  },
  {
   "cell_type": "code",
   "execution_count": 106,
   "metadata": {},
   "outputs": [],
   "source": [
    "contructors =df_final[(df_final['circuits.name'] == circuit_name) & (df_final['positionText'] == 1)].groupby(['constructors.name', 'drivers.surname']).agg({'resultId': 'nunique'})"
   ]
  },
  {
   "cell_type": "code",
   "execution_count": 107,
   "metadata": {},
   "outputs": [],
   "source": [
    "only_winners = df_final[(df_final['circuits.name'] == circuit_name) & (df_final['positionText'] == 1)]"
   ]
  },
  {
   "cell_type": "code",
   "execution_count": 108,
   "metadata": {},
   "outputs": [
    {
     "data": {
      "text/html": [
       "<div>\n",
       "<style scoped>\n",
       "    .dataframe tbody tr th:only-of-type {\n",
       "        vertical-align: middle;\n",
       "    }\n",
       "\n",
       "    .dataframe tbody tr th {\n",
       "        vertical-align: top;\n",
       "    }\n",
       "\n",
       "    .dataframe thead th {\n",
       "        text-align: right;\n",
       "    }\n",
       "</style>\n",
       "<table border=\"1\" class=\"dataframe\">\n",
       "  <thead>\n",
       "    <tr style=\"text-align: right;\">\n",
       "      <th></th>\n",
       "      <th>resultId</th>\n",
       "      <th>raceId</th>\n",
       "      <th>driverId</th>\n",
       "      <th>positionText</th>\n",
       "      <th>positionOrder</th>\n",
       "      <th>races.raceId</th>\n",
       "      <th>races.year</th>\n",
       "      <th>races.circuitId</th>\n",
       "      <th>races.name</th>\n",
       "      <th>drivers.forename</th>\n",
       "      <th>...</th>\n",
       "      <th>drivers.nationality</th>\n",
       "      <th>circuits.name</th>\n",
       "      <th>circuits.location</th>\n",
       "      <th>circuits.country</th>\n",
       "      <th>circuits.lat</th>\n",
       "      <th>circuits.lng</th>\n",
       "      <th>constructors.constructorRef</th>\n",
       "      <th>constructors.name</th>\n",
       "      <th>constructors.nationality</th>\n",
       "      <th>constructorId</th>\n",
       "    </tr>\n",
       "  </thead>\n",
       "  <tbody>\n",
       "    <tr>\n",
       "      <th>5519</th>\n",
       "      <td>24926</td>\n",
       "      <td>1046</td>\n",
       "      <td>815</td>\n",
       "      <td>1</td>\n",
       "      <td>1</td>\n",
       "      <td>1046</td>\n",
       "      <td>2020</td>\n",
       "      <td>3</td>\n",
       "      <td>Sakhir Grand Prix</td>\n",
       "      <td>Sergio</td>\n",
       "      <td>...</td>\n",
       "      <td>Mexican</td>\n",
       "      <td>Bahrain International Circuit</td>\n",
       "      <td>Sakhir</td>\n",
       "      <td>Bahrain</td>\n",
       "      <td>26.0325</td>\n",
       "      <td>50.5106</td>\n",
       "      <td>racing_point</td>\n",
       "      <td>Racing Point</td>\n",
       "      <td>British</td>\n",
       "      <td>211</td>\n",
       "    </tr>\n",
       "    <tr>\n",
       "      <th>10907</th>\n",
       "      <td>7614</td>\n",
       "      <td>4</td>\n",
       "      <td>18</td>\n",
       "      <td>1</td>\n",
       "      <td>1</td>\n",
       "      <td>4</td>\n",
       "      <td>2009</td>\n",
       "      <td>3</td>\n",
       "      <td>Bahrain Grand Prix</td>\n",
       "      <td>Jenson</td>\n",
       "      <td>...</td>\n",
       "      <td>British</td>\n",
       "      <td>Bahrain International Circuit</td>\n",
       "      <td>Sakhir</td>\n",
       "      <td>Bahrain</td>\n",
       "      <td>26.0325</td>\n",
       "      <td>50.5106</td>\n",
       "      <td>brawn</td>\n",
       "      <td>Brawn</td>\n",
       "      <td>British</td>\n",
       "      <td>23</td>\n",
       "    </tr>\n",
       "    <tr>\n",
       "      <th>16227</th>\n",
       "      <td>45</td>\n",
       "      <td>20</td>\n",
       "      <td>13</td>\n",
       "      <td>1</td>\n",
       "      <td>1</td>\n",
       "      <td>20</td>\n",
       "      <td>2008</td>\n",
       "      <td>3</td>\n",
       "      <td>Bahrain Grand Prix</td>\n",
       "      <td>Felipe</td>\n",
       "      <td>...</td>\n",
       "      <td>Brazilian</td>\n",
       "      <td>Bahrain International Circuit</td>\n",
       "      <td>Sakhir</td>\n",
       "      <td>Bahrain</td>\n",
       "      <td>26.0325</td>\n",
       "      <td>50.5106</td>\n",
       "      <td>ferrari</td>\n",
       "      <td>Ferrari</td>\n",
       "      <td>Italian</td>\n",
       "      <td>6</td>\n",
       "    </tr>\n",
       "    <tr>\n",
       "      <th>16233</th>\n",
       "      <td>413</td>\n",
       "      <td>38</td>\n",
       "      <td>13</td>\n",
       "      <td>1</td>\n",
       "      <td>1</td>\n",
       "      <td>38</td>\n",
       "      <td>2007</td>\n",
       "      <td>3</td>\n",
       "      <td>Bahrain Grand Prix</td>\n",
       "      <td>Felipe</td>\n",
       "      <td>...</td>\n",
       "      <td>Brazilian</td>\n",
       "      <td>Bahrain International Circuit</td>\n",
       "      <td>Sakhir</td>\n",
       "      <td>Bahrain</td>\n",
       "      <td>26.0325</td>\n",
       "      <td>50.5106</td>\n",
       "      <td>ferrari</td>\n",
       "      <td>Ferrari</td>\n",
       "      <td>Italian</td>\n",
       "      <td>6</td>\n",
       "    </tr>\n",
       "    <tr>\n",
       "      <th>16358</th>\n",
       "      <td>20323</td>\n",
       "      <td>337</td>\n",
       "      <td>4</td>\n",
       "      <td>1</td>\n",
       "      <td>1</td>\n",
       "      <td>337</td>\n",
       "      <td>2010</td>\n",
       "      <td>3</td>\n",
       "      <td>Bahrain Grand Prix</td>\n",
       "      <td>Fernando</td>\n",
       "      <td>...</td>\n",
       "      <td>Spanish</td>\n",
       "      <td>Bahrain International Circuit</td>\n",
       "      <td>Sakhir</td>\n",
       "      <td>Bahrain</td>\n",
       "      <td>26.0325</td>\n",
       "      <td>50.5106</td>\n",
       "      <td>ferrari</td>\n",
       "      <td>Ferrari</td>\n",
       "      <td>Italian</td>\n",
       "      <td>6</td>\n",
       "    </tr>\n",
       "    <tr>\n",
       "      <th>16373</th>\n",
       "      <td>23419</td>\n",
       "      <td>971</td>\n",
       "      <td>20</td>\n",
       "      <td>1</td>\n",
       "      <td>1</td>\n",
       "      <td>971</td>\n",
       "      <td>2017</td>\n",
       "      <td>3</td>\n",
       "      <td>Bahrain Grand Prix</td>\n",
       "      <td>Sebastian</td>\n",
       "      <td>...</td>\n",
       "      <td>German</td>\n",
       "      <td>Bahrain International Circuit</td>\n",
       "      <td>Sakhir</td>\n",
       "      <td>Bahrain</td>\n",
       "      <td>26.0325</td>\n",
       "      <td>50.5106</td>\n",
       "      <td>ferrari</td>\n",
       "      <td>Ferrari</td>\n",
       "      <td>Italian</td>\n",
       "      <td>6</td>\n",
       "    </tr>\n",
       "    <tr>\n",
       "      <th>16378</th>\n",
       "      <td>23802</td>\n",
       "      <td>990</td>\n",
       "      <td>20</td>\n",
       "      <td>1</td>\n",
       "      <td>1</td>\n",
       "      <td>990</td>\n",
       "      <td>2018</td>\n",
       "      <td>3</td>\n",
       "      <td>Bahrain Grand Prix</td>\n",
       "      <td>Sebastian</td>\n",
       "      <td>...</td>\n",
       "      <td>German</td>\n",
       "      <td>Bahrain International Circuit</td>\n",
       "      <td>Sakhir</td>\n",
       "      <td>Bahrain</td>\n",
       "      <td>26.0325</td>\n",
       "      <td>50.5106</td>\n",
       "      <td>ferrari</td>\n",
       "      <td>Ferrari</td>\n",
       "      <td>Italian</td>\n",
       "      <td>6</td>\n",
       "    </tr>\n",
       "    <tr>\n",
       "      <th>16386</th>\n",
       "      <td>25406</td>\n",
       "      <td>1074</td>\n",
       "      <td>844</td>\n",
       "      <td>1</td>\n",
       "      <td>1</td>\n",
       "      <td>1074</td>\n",
       "      <td>2022</td>\n",
       "      <td>3</td>\n",
       "      <td>Bahrain Grand Prix</td>\n",
       "      <td>Charles</td>\n",
       "      <td>...</td>\n",
       "      <td>Monegasque</td>\n",
       "      <td>Bahrain International Circuit</td>\n",
       "      <td>Sakhir</td>\n",
       "      <td>Bahrain</td>\n",
       "      <td>26.0325</td>\n",
       "      <td>50.5106</td>\n",
       "      <td>ferrari</td>\n",
       "      <td>Ferrari</td>\n",
       "      <td>Italian</td>\n",
       "      <td>6</td>\n",
       "    </tr>\n",
       "    <tr>\n",
       "      <th>16397</th>\n",
       "      <td>1555</td>\n",
       "      <td>92</td>\n",
       "      <td>30</td>\n",
       "      <td>1</td>\n",
       "      <td>1</td>\n",
       "      <td>92</td>\n",
       "      <td>2004</td>\n",
       "      <td>3</td>\n",
       "      <td>Bahrain Grand Prix</td>\n",
       "      <td>Michael</td>\n",
       "      <td>...</td>\n",
       "      <td>German</td>\n",
       "      <td>Bahrain International Circuit</td>\n",
       "      <td>Sakhir</td>\n",
       "      <td>Bahrain</td>\n",
       "      <td>26.0325</td>\n",
       "      <td>50.5106</td>\n",
       "      <td>ferrari</td>\n",
       "      <td>Ferrari</td>\n",
       "      <td>Italian</td>\n",
       "      <td>6</td>\n",
       "    </tr>\n",
       "    <tr>\n",
       "      <th>17826</th>\n",
       "      <td>743</td>\n",
       "      <td>53</td>\n",
       "      <td>4</td>\n",
       "      <td>1</td>\n",
       "      <td>1</td>\n",
       "      <td>53</td>\n",
       "      <td>2006</td>\n",
       "      <td>3</td>\n",
       "      <td>Bahrain Grand Prix</td>\n",
       "      <td>Fernando</td>\n",
       "      <td>...</td>\n",
       "      <td>Spanish</td>\n",
       "      <td>Bahrain International Circuit</td>\n",
       "      <td>Sakhir</td>\n",
       "      <td>Bahrain</td>\n",
       "      <td>26.0325</td>\n",
       "      <td>50.5106</td>\n",
       "      <td>renault</td>\n",
       "      <td>Renault</td>\n",
       "      <td>French</td>\n",
       "      <td>4</td>\n",
       "    </tr>\n",
       "    <tr>\n",
       "      <th>17844</th>\n",
       "      <td>1179</td>\n",
       "      <td>73</td>\n",
       "      <td>4</td>\n",
       "      <td>1</td>\n",
       "      <td>1</td>\n",
       "      <td>73</td>\n",
       "      <td>2005</td>\n",
       "      <td>3</td>\n",
       "      <td>Bahrain Grand Prix</td>\n",
       "      <td>Fernando</td>\n",
       "      <td>...</td>\n",
       "      <td>Spanish</td>\n",
       "      <td>Bahrain International Circuit</td>\n",
       "      <td>Sakhir</td>\n",
       "      <td>Bahrain</td>\n",
       "      <td>26.0325</td>\n",
       "      <td>50.5106</td>\n",
       "      <td>renault</td>\n",
       "      <td>Renault</td>\n",
       "      <td>French</td>\n",
       "      <td>4</td>\n",
       "    </tr>\n",
       "    <tr>\n",
       "      <th>21127</th>\n",
       "      <td>22174</td>\n",
       "      <td>902</td>\n",
       "      <td>1</td>\n",
       "      <td>1</td>\n",
       "      <td>1</td>\n",
       "      <td>902</td>\n",
       "      <td>2014</td>\n",
       "      <td>3</td>\n",
       "      <td>Bahrain Grand Prix</td>\n",
       "      <td>Lewis</td>\n",
       "      <td>...</td>\n",
       "      <td>British</td>\n",
       "      <td>Bahrain International Circuit</td>\n",
       "      <td>Sakhir</td>\n",
       "      <td>Bahrain</td>\n",
       "      <td>26.0325</td>\n",
       "      <td>50.5106</td>\n",
       "      <td>mercedes</td>\n",
       "      <td>Mercedes</td>\n",
       "      <td>German</td>\n",
       "      <td>131</td>\n",
       "    </tr>\n",
       "    <tr>\n",
       "      <th>21139</th>\n",
       "      <td>22596</td>\n",
       "      <td>929</td>\n",
       "      <td>1</td>\n",
       "      <td>1</td>\n",
       "      <td>1</td>\n",
       "      <td>929</td>\n",
       "      <td>2015</td>\n",
       "      <td>3</td>\n",
       "      <td>Bahrain Grand Prix</td>\n",
       "      <td>Lewis</td>\n",
       "      <td>...</td>\n",
       "      <td>British</td>\n",
       "      <td>Bahrain International Circuit</td>\n",
       "      <td>Sakhir</td>\n",
       "      <td>Bahrain</td>\n",
       "      <td>26.0325</td>\n",
       "      <td>50.5106</td>\n",
       "      <td>mercedes</td>\n",
       "      <td>Mercedes</td>\n",
       "      <td>German</td>\n",
       "      <td>131</td>\n",
       "    </tr>\n",
       "    <tr>\n",
       "      <th>21177</th>\n",
       "      <td>24223</td>\n",
       "      <td>1011</td>\n",
       "      <td>1</td>\n",
       "      <td>1</td>\n",
       "      <td>1</td>\n",
       "      <td>1011</td>\n",
       "      <td>2019</td>\n",
       "      <td>3</td>\n",
       "      <td>Bahrain Grand Prix</td>\n",
       "      <td>Lewis</td>\n",
       "      <td>...</td>\n",
       "      <td>British</td>\n",
       "      <td>Bahrain International Circuit</td>\n",
       "      <td>Sakhir</td>\n",
       "      <td>Bahrain</td>\n",
       "      <td>26.0325</td>\n",
       "      <td>50.5106</td>\n",
       "      <td>mercedes</td>\n",
       "      <td>Mercedes</td>\n",
       "      <td>German</td>\n",
       "      <td>131</td>\n",
       "    </tr>\n",
       "    <tr>\n",
       "      <th>21198</th>\n",
       "      <td>24906</td>\n",
       "      <td>1045</td>\n",
       "      <td>1</td>\n",
       "      <td>1</td>\n",
       "      <td>1</td>\n",
       "      <td>1045</td>\n",
       "      <td>2020</td>\n",
       "      <td>3</td>\n",
       "      <td>Bahrain Grand Prix</td>\n",
       "      <td>Lewis</td>\n",
       "      <td>...</td>\n",
       "      <td>British</td>\n",
       "      <td>Bahrain International Circuit</td>\n",
       "      <td>Sakhir</td>\n",
       "      <td>Bahrain</td>\n",
       "      <td>26.0325</td>\n",
       "      <td>50.5106</td>\n",
       "      <td>mercedes</td>\n",
       "      <td>Mercedes</td>\n",
       "      <td>German</td>\n",
       "      <td>131</td>\n",
       "    </tr>\n",
       "    <tr>\n",
       "      <th>21199</th>\n",
       "      <td>24966</td>\n",
       "      <td>1052</td>\n",
       "      <td>1</td>\n",
       "      <td>1</td>\n",
       "      <td>1</td>\n",
       "      <td>1052</td>\n",
       "      <td>2021</td>\n",
       "      <td>3</td>\n",
       "      <td>Bahrain Grand Prix</td>\n",
       "      <td>Lewis</td>\n",
       "      <td>...</td>\n",
       "      <td>British</td>\n",
       "      <td>Bahrain International Circuit</td>\n",
       "      <td>Sakhir</td>\n",
       "      <td>Bahrain</td>\n",
       "      <td>26.0325</td>\n",
       "      <td>50.5106</td>\n",
       "      <td>mercedes</td>\n",
       "      <td>Mercedes</td>\n",
       "      <td>German</td>\n",
       "      <td>131</td>\n",
       "    </tr>\n",
       "    <tr>\n",
       "      <th>22432</th>\n",
       "      <td>21304</td>\n",
       "      <td>863</td>\n",
       "      <td>20</td>\n",
       "      <td>1</td>\n",
       "      <td>1</td>\n",
       "      <td>863</td>\n",
       "      <td>2012</td>\n",
       "      <td>3</td>\n",
       "      <td>Bahrain Grand Prix</td>\n",
       "      <td>Sebastian</td>\n",
       "      <td>...</td>\n",
       "      <td>German</td>\n",
       "      <td>Bahrain International Circuit</td>\n",
       "      <td>Sakhir</td>\n",
       "      <td>Bahrain</td>\n",
       "      <td>26.0325</td>\n",
       "      <td>50.5106</td>\n",
       "      <td>red_bull</td>\n",
       "      <td>Red Bull</td>\n",
       "      <td>Austrian</td>\n",
       "      <td>9</td>\n",
       "    </tr>\n",
       "    <tr>\n",
       "      <th>22451</th>\n",
       "      <td>21778</td>\n",
       "      <td>883</td>\n",
       "      <td>20</td>\n",
       "      <td>1</td>\n",
       "      <td>1</td>\n",
       "      <td>883</td>\n",
       "      <td>2013</td>\n",
       "      <td>3</td>\n",
       "      <td>Bahrain Grand Prix</td>\n",
       "      <td>Sebastian</td>\n",
       "      <td>...</td>\n",
       "      <td>German</td>\n",
       "      <td>Bahrain International Circuit</td>\n",
       "      <td>Sakhir</td>\n",
       "      <td>Bahrain</td>\n",
       "      <td>26.0325</td>\n",
       "      <td>50.5106</td>\n",
       "      <td>red_bull</td>\n",
       "      <td>Red Bull</td>\n",
       "      <td>Austrian</td>\n",
       "      <td>9</td>\n",
       "    </tr>\n",
       "    <tr>\n",
       "      <th>22903</th>\n",
       "      <td>22939</td>\n",
       "      <td>949</td>\n",
       "      <td>3</td>\n",
       "      <td>1</td>\n",
       "      <td>1</td>\n",
       "      <td>949</td>\n",
       "      <td>2016</td>\n",
       "      <td>3</td>\n",
       "      <td>Bahrain Grand Prix</td>\n",
       "      <td>Nico</td>\n",
       "      <td>...</td>\n",
       "      <td>German</td>\n",
       "      <td>Bahrain International Circuit</td>\n",
       "      <td>Sakhir</td>\n",
       "      <td>Bahrain</td>\n",
       "      <td>26.0325</td>\n",
       "      <td>50.5106</td>\n",
       "      <td>mercedes</td>\n",
       "      <td>Mercedes</td>\n",
       "      <td>German</td>\n",
       "      <td>131</td>\n",
       "    </tr>\n",
       "  </tbody>\n",
       "</table>\n",
       "<p>19 rows × 21 columns</p>\n",
       "</div>"
      ],
      "text/plain": [
       "       resultId  raceId  driverId positionText  positionOrder  races.raceId  \\\n",
       "5519      24926    1046       815            1              1          1046   \n",
       "10907      7614       4        18            1              1             4   \n",
       "16227        45      20        13            1              1            20   \n",
       "16233       413      38        13            1              1            38   \n",
       "16358     20323     337         4            1              1           337   \n",
       "16373     23419     971        20            1              1           971   \n",
       "16378     23802     990        20            1              1           990   \n",
       "16386     25406    1074       844            1              1          1074   \n",
       "16397      1555      92        30            1              1            92   \n",
       "17826       743      53         4            1              1            53   \n",
       "17844      1179      73         4            1              1            73   \n",
       "21127     22174     902         1            1              1           902   \n",
       "21139     22596     929         1            1              1           929   \n",
       "21177     24223    1011         1            1              1          1011   \n",
       "21198     24906    1045         1            1              1          1045   \n",
       "21199     24966    1052         1            1              1          1052   \n",
       "22432     21304     863        20            1              1           863   \n",
       "22451     21778     883        20            1              1           883   \n",
       "22903     22939     949         3            1              1           949   \n",
       "\n",
       "       races.year  races.circuitId          races.name drivers.forename  ...  \\\n",
       "5519         2020                3   Sakhir Grand Prix           Sergio  ...   \n",
       "10907        2009                3  Bahrain Grand Prix           Jenson  ...   \n",
       "16227        2008                3  Bahrain Grand Prix           Felipe  ...   \n",
       "16233        2007                3  Bahrain Grand Prix           Felipe  ...   \n",
       "16358        2010                3  Bahrain Grand Prix         Fernando  ...   \n",
       "16373        2017                3  Bahrain Grand Prix        Sebastian  ...   \n",
       "16378        2018                3  Bahrain Grand Prix        Sebastian  ...   \n",
       "16386        2022                3  Bahrain Grand Prix          Charles  ...   \n",
       "16397        2004                3  Bahrain Grand Prix          Michael  ...   \n",
       "17826        2006                3  Bahrain Grand Prix         Fernando  ...   \n",
       "17844        2005                3  Bahrain Grand Prix         Fernando  ...   \n",
       "21127        2014                3  Bahrain Grand Prix            Lewis  ...   \n",
       "21139        2015                3  Bahrain Grand Prix            Lewis  ...   \n",
       "21177        2019                3  Bahrain Grand Prix            Lewis  ...   \n",
       "21198        2020                3  Bahrain Grand Prix            Lewis  ...   \n",
       "21199        2021                3  Bahrain Grand Prix            Lewis  ...   \n",
       "22432        2012                3  Bahrain Grand Prix        Sebastian  ...   \n",
       "22451        2013                3  Bahrain Grand Prix        Sebastian  ...   \n",
       "22903        2016                3  Bahrain Grand Prix             Nico  ...   \n",
       "\n",
       "      drivers.nationality                  circuits.name circuits.location  \\\n",
       "5519              Mexican  Bahrain International Circuit            Sakhir   \n",
       "10907             British  Bahrain International Circuit            Sakhir   \n",
       "16227           Brazilian  Bahrain International Circuit            Sakhir   \n",
       "16233           Brazilian  Bahrain International Circuit            Sakhir   \n",
       "16358             Spanish  Bahrain International Circuit            Sakhir   \n",
       "16373              German  Bahrain International Circuit            Sakhir   \n",
       "16378              German  Bahrain International Circuit            Sakhir   \n",
       "16386          Monegasque  Bahrain International Circuit            Sakhir   \n",
       "16397              German  Bahrain International Circuit            Sakhir   \n",
       "17826             Spanish  Bahrain International Circuit            Sakhir   \n",
       "17844             Spanish  Bahrain International Circuit            Sakhir   \n",
       "21127             British  Bahrain International Circuit            Sakhir   \n",
       "21139             British  Bahrain International Circuit            Sakhir   \n",
       "21177             British  Bahrain International Circuit            Sakhir   \n",
       "21198             British  Bahrain International Circuit            Sakhir   \n",
       "21199             British  Bahrain International Circuit            Sakhir   \n",
       "22432              German  Bahrain International Circuit            Sakhir   \n",
       "22451              German  Bahrain International Circuit            Sakhir   \n",
       "22903              German  Bahrain International Circuit            Sakhir   \n",
       "\n",
       "      circuits.country circuits.lat  circuits.lng  \\\n",
       "5519           Bahrain      26.0325       50.5106   \n",
       "10907          Bahrain      26.0325       50.5106   \n",
       "16227          Bahrain      26.0325       50.5106   \n",
       "16233          Bahrain      26.0325       50.5106   \n",
       "16358          Bahrain      26.0325       50.5106   \n",
       "16373          Bahrain      26.0325       50.5106   \n",
       "16378          Bahrain      26.0325       50.5106   \n",
       "16386          Bahrain      26.0325       50.5106   \n",
       "16397          Bahrain      26.0325       50.5106   \n",
       "17826          Bahrain      26.0325       50.5106   \n",
       "17844          Bahrain      26.0325       50.5106   \n",
       "21127          Bahrain      26.0325       50.5106   \n",
       "21139          Bahrain      26.0325       50.5106   \n",
       "21177          Bahrain      26.0325       50.5106   \n",
       "21198          Bahrain      26.0325       50.5106   \n",
       "21199          Bahrain      26.0325       50.5106   \n",
       "22432          Bahrain      26.0325       50.5106   \n",
       "22451          Bahrain      26.0325       50.5106   \n",
       "22903          Bahrain      26.0325       50.5106   \n",
       "\n",
       "       constructors.constructorRef constructors.name constructors.nationality  \\\n",
       "5519                  racing_point      Racing Point                  British   \n",
       "10907                        brawn             Brawn                  British   \n",
       "16227                      ferrari           Ferrari                  Italian   \n",
       "16233                      ferrari           Ferrari                  Italian   \n",
       "16358                      ferrari           Ferrari                  Italian   \n",
       "16373                      ferrari           Ferrari                  Italian   \n",
       "16378                      ferrari           Ferrari                  Italian   \n",
       "16386                      ferrari           Ferrari                  Italian   \n",
       "16397                      ferrari           Ferrari                  Italian   \n",
       "17826                      renault           Renault                   French   \n",
       "17844                      renault           Renault                   French   \n",
       "21127                     mercedes          Mercedes                   German   \n",
       "21139                     mercedes          Mercedes                   German   \n",
       "21177                     mercedes          Mercedes                   German   \n",
       "21198                     mercedes          Mercedes                   German   \n",
       "21199                     mercedes          Mercedes                   German   \n",
       "22432                     red_bull          Red Bull                 Austrian   \n",
       "22451                     red_bull          Red Bull                 Austrian   \n",
       "22903                     mercedes          Mercedes                   German   \n",
       "\n",
       "      constructorId  \n",
       "5519            211  \n",
       "10907            23  \n",
       "16227             6  \n",
       "16233             6  \n",
       "16358             6  \n",
       "16373             6  \n",
       "16378             6  \n",
       "16386             6  \n",
       "16397             6  \n",
       "17826             4  \n",
       "17844             4  \n",
       "21127           131  \n",
       "21139           131  \n",
       "21177           131  \n",
       "21198           131  \n",
       "21199           131  \n",
       "22432             9  \n",
       "22451             9  \n",
       "22903           131  \n",
       "\n",
       "[19 rows x 21 columns]"
      ]
     },
     "execution_count": 108,
     "metadata": {},
     "output_type": "execute_result"
    }
   ],
   "source": [
    "only_winners"
   ]
  },
  {
   "cell_type": "code",
   "execution_count": 109,
   "metadata": {},
   "outputs": [],
   "source": [
    "contructors.reset_index(inplace = True)"
   ]
  },
  {
   "cell_type": "code",
   "execution_count": 110,
   "metadata": {},
   "outputs": [
    {
     "data": {
      "text/html": [
       "<div>\n",
       "<style scoped>\n",
       "    .dataframe tbody tr th:only-of-type {\n",
       "        vertical-align: middle;\n",
       "    }\n",
       "\n",
       "    .dataframe tbody tr th {\n",
       "        vertical-align: top;\n",
       "    }\n",
       "\n",
       "    .dataframe thead th {\n",
       "        text-align: right;\n",
       "    }\n",
       "</style>\n",
       "<table border=\"1\" class=\"dataframe\">\n",
       "  <thead>\n",
       "    <tr style=\"text-align: right;\">\n",
       "      <th></th>\n",
       "      <th>constructors.name</th>\n",
       "      <th>drivers.surname</th>\n",
       "      <th>resultId</th>\n",
       "    </tr>\n",
       "  </thead>\n",
       "  <tbody>\n",
       "    <tr>\n",
       "      <th>0</th>\n",
       "      <td>Brawn</td>\n",
       "      <td>Button</td>\n",
       "      <td>1</td>\n",
       "    </tr>\n",
       "    <tr>\n",
       "      <th>1</th>\n",
       "      <td>Ferrari</td>\n",
       "      <td>Alonso</td>\n",
       "      <td>1</td>\n",
       "    </tr>\n",
       "    <tr>\n",
       "      <th>2</th>\n",
       "      <td>Ferrari</td>\n",
       "      <td>Leclerc</td>\n",
       "      <td>1</td>\n",
       "    </tr>\n",
       "    <tr>\n",
       "      <th>3</th>\n",
       "      <td>Ferrari</td>\n",
       "      <td>Massa</td>\n",
       "      <td>2</td>\n",
       "    </tr>\n",
       "    <tr>\n",
       "      <th>4</th>\n",
       "      <td>Ferrari</td>\n",
       "      <td>Schumacher</td>\n",
       "      <td>1</td>\n",
       "    </tr>\n",
       "    <tr>\n",
       "      <th>5</th>\n",
       "      <td>Ferrari</td>\n",
       "      <td>Vettel</td>\n",
       "      <td>2</td>\n",
       "    </tr>\n",
       "    <tr>\n",
       "      <th>6</th>\n",
       "      <td>Mercedes</td>\n",
       "      <td>Hamilton</td>\n",
       "      <td>5</td>\n",
       "    </tr>\n",
       "    <tr>\n",
       "      <th>7</th>\n",
       "      <td>Mercedes</td>\n",
       "      <td>Rosberg</td>\n",
       "      <td>1</td>\n",
       "    </tr>\n",
       "    <tr>\n",
       "      <th>8</th>\n",
       "      <td>Racing Point</td>\n",
       "      <td>Pérez</td>\n",
       "      <td>1</td>\n",
       "    </tr>\n",
       "    <tr>\n",
       "      <th>9</th>\n",
       "      <td>Red Bull</td>\n",
       "      <td>Vettel</td>\n",
       "      <td>2</td>\n",
       "    </tr>\n",
       "    <tr>\n",
       "      <th>10</th>\n",
       "      <td>Renault</td>\n",
       "      <td>Alonso</td>\n",
       "      <td>2</td>\n",
       "    </tr>\n",
       "  </tbody>\n",
       "</table>\n",
       "</div>"
      ],
      "text/plain": [
       "   constructors.name drivers.surname  resultId\n",
       "0              Brawn          Button         1\n",
       "1            Ferrari          Alonso         1\n",
       "2            Ferrari         Leclerc         1\n",
       "3            Ferrari           Massa         2\n",
       "4            Ferrari      Schumacher         1\n",
       "5            Ferrari          Vettel         2\n",
       "6           Mercedes        Hamilton         5\n",
       "7           Mercedes         Rosberg         1\n",
       "8       Racing Point           Pérez         1\n",
       "9           Red Bull          Vettel         2\n",
       "10           Renault          Alonso         2"
      ]
     },
     "execution_count": 110,
     "metadata": {},
     "output_type": "execute_result"
    }
   ],
   "source": [
    "contructors"
   ]
  },
  {
   "cell_type": "code",
   "execution_count": 76,
   "metadata": {},
   "outputs": [
    {
     "ename": "ValueError",
     "evalue": "The truth value of a DataFrame is ambiguous. Use a.empty, a.bool(), a.item(), a.any() or a.all().",
     "output_type": "error",
     "traceback": [
      "\u001b[1;31m---------------------------------------------------------------------------\u001b[0m",
      "\u001b[1;31mValueError\u001b[0m                                Traceback (most recent call last)",
      "\u001b[1;32m~\\AppData\\Local\\Temp/ipykernel_2240/137110735.py\u001b[0m in \u001b[0;36m<module>\u001b[1;34m\u001b[0m\n\u001b[0;32m      1\u001b[0m \u001b[1;32mimport\u001b[0m \u001b[0mplotly\u001b[0m\u001b[1;33m.\u001b[0m\u001b[0mexpress\u001b[0m \u001b[1;32mas\u001b[0m \u001b[0mpx\u001b[0m\u001b[1;33m\u001b[0m\u001b[1;33m\u001b[0m\u001b[0m\n\u001b[0;32m      2\u001b[0m \u001b[0mdf\u001b[0m \u001b[1;33m=\u001b[0m \u001b[0mpx\u001b[0m\u001b[1;33m.\u001b[0m\u001b[0mdata\u001b[0m\u001b[1;33m.\u001b[0m\u001b[0mtips\u001b[0m\u001b[1;33m(\u001b[0m\u001b[1;33m)\u001b[0m\u001b[1;33m\u001b[0m\u001b[1;33m\u001b[0m\u001b[0m\n\u001b[1;32m----> 3\u001b[1;33m \u001b[0mfig\u001b[0m \u001b[1;33m=\u001b[0m \u001b[0mpx\u001b[0m\u001b[1;33m.\u001b[0m\u001b[0msunburst\u001b[0m\u001b[1;33m(\u001b[0m\u001b[0mwe\u001b[0m\u001b[1;33m,\u001b[0m \u001b[0mpath\u001b[0m\u001b[1;33m=\u001b[0m\u001b[1;33m[\u001b[0m\u001b[1;34m'constructors.name'\u001b[0m\u001b[1;33m,\u001b[0m \u001b[1;34m'drivers.surname'\u001b[0m\u001b[1;33m]\u001b[0m\u001b[1;33m,\u001b[0m \u001b[0mvalues\u001b[0m\u001b[1;33m=\u001b[0m\u001b[1;34m'resultId'\u001b[0m\u001b[1;33m)\u001b[0m\u001b[1;33m\u001b[0m\u001b[1;33m\u001b[0m\u001b[0m\n\u001b[0m\u001b[0;32m      4\u001b[0m \u001b[0mfig\u001b[0m\u001b[1;33m.\u001b[0m\u001b[0mshow\u001b[0m\u001b[1;33m(\u001b[0m\u001b[1;33m)\u001b[0m\u001b[1;33m\u001b[0m\u001b[1;33m\u001b[0m\u001b[0m\n",
      "\u001b[1;32m~\\anaconda3\\envs\\ML\\lib\\site-packages\\plotly\\express\\_chart_types.py\u001b[0m in \u001b[0;36msunburst\u001b[1;34m(data_frame, names, values, parents, path, ids, color, color_continuous_scale, range_color, color_continuous_midpoint, color_discrete_sequence, color_discrete_map, hover_name, hover_data, custom_data, labels, title, template, width, height, branchvalues, maxdepth)\u001b[0m\n\u001b[0;32m   1412\u001b[0m     \u001b[1;32mif\u001b[0m \u001b[0mpath\u001b[0m \u001b[1;32mis\u001b[0m \u001b[1;32mnot\u001b[0m \u001b[1;32mNone\u001b[0m \u001b[1;32mand\u001b[0m \u001b[0mbranchvalues\u001b[0m \u001b[1;32mis\u001b[0m \u001b[1;32mNone\u001b[0m\u001b[1;33m:\u001b[0m\u001b[1;33m\u001b[0m\u001b[1;33m\u001b[0m\u001b[0m\n\u001b[0;32m   1413\u001b[0m         \u001b[0mbranchvalues\u001b[0m \u001b[1;33m=\u001b[0m \u001b[1;34m\"total\"\u001b[0m\u001b[1;33m\u001b[0m\u001b[1;33m\u001b[0m\u001b[0m\n\u001b[1;32m-> 1414\u001b[1;33m     return make_figure(\n\u001b[0m\u001b[0;32m   1415\u001b[0m         \u001b[0margs\u001b[0m\u001b[1;33m=\u001b[0m\u001b[0mlocals\u001b[0m\u001b[1;33m(\u001b[0m\u001b[1;33m)\u001b[0m\u001b[1;33m,\u001b[0m\u001b[1;33m\u001b[0m\u001b[1;33m\u001b[0m\u001b[0m\n\u001b[0;32m   1416\u001b[0m         \u001b[0mconstructor\u001b[0m\u001b[1;33m=\u001b[0m\u001b[0mgo\u001b[0m\u001b[1;33m.\u001b[0m\u001b[0mSunburst\u001b[0m\u001b[1;33m,\u001b[0m\u001b[1;33m\u001b[0m\u001b[1;33m\u001b[0m\u001b[0m\n",
      "\u001b[1;32m~\\anaconda3\\envs\\ML\\lib\\site-packages\\plotly\\express\\_core.py\u001b[0m in \u001b[0;36mmake_figure\u001b[1;34m(args, constructor, trace_patch, layout_patch)\u001b[0m\n\u001b[0;32m   1859\u001b[0m     \u001b[0mapply_default_cascade\u001b[0m\u001b[1;33m(\u001b[0m\u001b[0margs\u001b[0m\u001b[1;33m)\u001b[0m\u001b[1;33m\u001b[0m\u001b[1;33m\u001b[0m\u001b[0m\n\u001b[0;32m   1860\u001b[0m \u001b[1;33m\u001b[0m\u001b[0m\n\u001b[1;32m-> 1861\u001b[1;33m     \u001b[0margs\u001b[0m \u001b[1;33m=\u001b[0m \u001b[0mbuild_dataframe\u001b[0m\u001b[1;33m(\u001b[0m\u001b[0margs\u001b[0m\u001b[1;33m,\u001b[0m \u001b[0mconstructor\u001b[0m\u001b[1;33m)\u001b[0m\u001b[1;33m\u001b[0m\u001b[1;33m\u001b[0m\u001b[0m\n\u001b[0m\u001b[0;32m   1862\u001b[0m     \u001b[1;32mif\u001b[0m \u001b[0mconstructor\u001b[0m \u001b[1;32min\u001b[0m \u001b[1;33m[\u001b[0m\u001b[0mgo\u001b[0m\u001b[1;33m.\u001b[0m\u001b[0mTreemap\u001b[0m\u001b[1;33m,\u001b[0m \u001b[0mgo\u001b[0m\u001b[1;33m.\u001b[0m\u001b[0mSunburst\u001b[0m\u001b[1;33m]\u001b[0m \u001b[1;32mand\u001b[0m \u001b[0margs\u001b[0m\u001b[1;33m[\u001b[0m\u001b[1;34m\"path\"\u001b[0m\u001b[1;33m]\u001b[0m \u001b[1;32mis\u001b[0m \u001b[1;32mnot\u001b[0m \u001b[1;32mNone\u001b[0m\u001b[1;33m:\u001b[0m\u001b[1;33m\u001b[0m\u001b[1;33m\u001b[0m\u001b[0m\n\u001b[0;32m   1863\u001b[0m         \u001b[0margs\u001b[0m \u001b[1;33m=\u001b[0m \u001b[0mprocess_dataframe_hierarchy\u001b[0m\u001b[1;33m(\u001b[0m\u001b[0margs\u001b[0m\u001b[1;33m)\u001b[0m\u001b[1;33m\u001b[0m\u001b[1;33m\u001b[0m\u001b[0m\n",
      "\u001b[1;32m~\\anaconda3\\envs\\ML\\lib\\site-packages\\plotly\\express\\_core.py\u001b[0m in \u001b[0;36mbuild_dataframe\u001b[1;34m(args, constructor)\u001b[0m\n\u001b[0;32m   1375\u001b[0m     \u001b[1;31m# now that things have been prepped, we do the systematic rewriting of `args`\u001b[0m\u001b[1;33m\u001b[0m\u001b[1;33m\u001b[0m\u001b[1;33m\u001b[0m\u001b[0m\n\u001b[0;32m   1376\u001b[0m \u001b[1;33m\u001b[0m\u001b[0m\n\u001b[1;32m-> 1377\u001b[1;33m     df_output, wide_id_vars = process_args_into_dataframe(\n\u001b[0m\u001b[0;32m   1378\u001b[0m         \u001b[0margs\u001b[0m\u001b[1;33m,\u001b[0m \u001b[0mwide_mode\u001b[0m\u001b[1;33m,\u001b[0m \u001b[0mvar_name\u001b[0m\u001b[1;33m,\u001b[0m \u001b[0mvalue_name\u001b[0m\u001b[1;33m\u001b[0m\u001b[1;33m\u001b[0m\u001b[0m\n\u001b[0;32m   1379\u001b[0m     )\n",
      "\u001b[1;32m~\\anaconda3\\envs\\ML\\lib\\site-packages\\plotly\\express\\_core.py\u001b[0m in \u001b[0;36mprocess_args_into_dataframe\u001b[1;34m(args, wide_mode, var_name, value_name)\u001b[0m\n\u001b[0;32m   1196\u001b[0m                 \u001b[1;32melse\u001b[0m\u001b[1;33m:\u001b[0m\u001b[1;33m\u001b[0m\u001b[1;33m\u001b[0m\u001b[0m\n\u001b[0;32m   1197\u001b[0m                     \u001b[0mcol_name\u001b[0m \u001b[1;33m=\u001b[0m \u001b[0mstr\u001b[0m\u001b[1;33m(\u001b[0m\u001b[0margument\u001b[0m\u001b[1;33m)\u001b[0m\u001b[1;33m\u001b[0m\u001b[1;33m\u001b[0m\u001b[0m\n\u001b[1;32m-> 1198\u001b[1;33m                     \u001b[0mdf_output\u001b[0m\u001b[1;33m[\u001b[0m\u001b[0mcol_name\u001b[0m\u001b[1;33m]\u001b[0m \u001b[1;33m=\u001b[0m \u001b[0mto_unindexed_series\u001b[0m\u001b[1;33m(\u001b[0m\u001b[0mdf_input\u001b[0m\u001b[1;33m[\u001b[0m\u001b[0margument\u001b[0m\u001b[1;33m]\u001b[0m\u001b[1;33m)\u001b[0m\u001b[1;33m\u001b[0m\u001b[1;33m\u001b[0m\u001b[0m\n\u001b[0m\u001b[0;32m   1199\u001b[0m             \u001b[1;31m# ----------------- argument is likely a column / array / list.... -------\u001b[0m\u001b[1;33m\u001b[0m\u001b[1;33m\u001b[0m\u001b[1;33m\u001b[0m\u001b[0m\n\u001b[0;32m   1200\u001b[0m             \u001b[1;32melse\u001b[0m\u001b[1;33m:\u001b[0m\u001b[1;33m\u001b[0m\u001b[1;33m\u001b[0m\u001b[0m\n",
      "\u001b[1;32m~\\anaconda3\\envs\\ML\\lib\\site-packages\\plotly\\express\\_core.py\u001b[0m in \u001b[0;36mto_unindexed_series\u001b[1;34m(x)\u001b[0m\n\u001b[0;32m   1047\u001b[0m     \u001b[0mrequired\u001b[0m \u001b[0mto\u001b[0m \u001b[0mget\u001b[0m \u001b[0mthings\u001b[0m \u001b[0mto\u001b[0m \u001b[0mmatch\u001b[0m \u001b[0mup\u001b[0m \u001b[0mright\u001b[0m \u001b[1;32min\u001b[0m \u001b[0mthe\u001b[0m \u001b[0mnew\u001b[0m \u001b[0mDataFrame\u001b[0m \u001b[0mwe\u001b[0m\u001b[0;31m'\u001b[0m\u001b[0mre\u001b[0m \u001b[0mbuilding\u001b[0m\u001b[1;33m\u001b[0m\u001b[1;33m\u001b[0m\u001b[0m\n\u001b[0;32m   1048\u001b[0m     \"\"\"\n\u001b[1;32m-> 1049\u001b[1;33m     \u001b[1;32mreturn\u001b[0m \u001b[0mpd\u001b[0m\u001b[1;33m.\u001b[0m\u001b[0mSeries\u001b[0m\u001b[1;33m(\u001b[0m\u001b[0mx\u001b[0m\u001b[1;33m)\u001b[0m\u001b[1;33m.\u001b[0m\u001b[0mreset_index\u001b[0m\u001b[1;33m(\u001b[0m\u001b[0mdrop\u001b[0m\u001b[1;33m=\u001b[0m\u001b[1;32mTrue\u001b[0m\u001b[1;33m)\u001b[0m\u001b[1;33m\u001b[0m\u001b[1;33m\u001b[0m\u001b[0m\n\u001b[0m\u001b[0;32m   1050\u001b[0m \u001b[1;33m\u001b[0m\u001b[0m\n\u001b[0;32m   1051\u001b[0m \u001b[1;33m\u001b[0m\u001b[0m\n",
      "\u001b[1;32m~\\anaconda3\\envs\\ML\\lib\\site-packages\\pandas\\core\\series.py\u001b[0m in \u001b[0;36m__init__\u001b[1;34m(self, data, index, dtype, name, copy, fastpath)\u001b[0m\n\u001b[0;32m    353\u001b[0m             \u001b[0mname\u001b[0m \u001b[1;33m=\u001b[0m \u001b[0mibase\u001b[0m\u001b[1;33m.\u001b[0m\u001b[0mmaybe_extract_name\u001b[0m\u001b[1;33m(\u001b[0m\u001b[0mname\u001b[0m\u001b[1;33m,\u001b[0m \u001b[0mdata\u001b[0m\u001b[1;33m,\u001b[0m \u001b[0mtype\u001b[0m\u001b[1;33m(\u001b[0m\u001b[0mself\u001b[0m\u001b[1;33m)\u001b[0m\u001b[1;33m)\u001b[0m\u001b[1;33m\u001b[0m\u001b[1;33m\u001b[0m\u001b[0m\n\u001b[0;32m    354\u001b[0m \u001b[1;33m\u001b[0m\u001b[0m\n\u001b[1;32m--> 355\u001b[1;33m             \u001b[1;32mif\u001b[0m \u001b[0mis_empty_data\u001b[0m\u001b[1;33m(\u001b[0m\u001b[0mdata\u001b[0m\u001b[1;33m)\u001b[0m \u001b[1;32mand\u001b[0m \u001b[0mdtype\u001b[0m \u001b[1;32mis\u001b[0m \u001b[1;32mNone\u001b[0m\u001b[1;33m:\u001b[0m\u001b[1;33m\u001b[0m\u001b[1;33m\u001b[0m\u001b[0m\n\u001b[0m\u001b[0;32m    356\u001b[0m                 \u001b[1;31m# gh-17261\u001b[0m\u001b[1;33m\u001b[0m\u001b[1;33m\u001b[0m\u001b[1;33m\u001b[0m\u001b[0m\n\u001b[0;32m    357\u001b[0m                 warnings.warn(\n",
      "\u001b[1;32m~\\anaconda3\\envs\\ML\\lib\\site-packages\\pandas\\core\\construction.py\u001b[0m in \u001b[0;36mis_empty_data\u001b[1;34m(data)\u001b[0m\n\u001b[0;32m    794\u001b[0m     \u001b[0mis_none\u001b[0m \u001b[1;33m=\u001b[0m \u001b[0mdata\u001b[0m \u001b[1;32mis\u001b[0m \u001b[1;32mNone\u001b[0m\u001b[1;33m\u001b[0m\u001b[1;33m\u001b[0m\u001b[0m\n\u001b[0;32m    795\u001b[0m     \u001b[0mis_list_like_without_dtype\u001b[0m \u001b[1;33m=\u001b[0m \u001b[0mis_list_like\u001b[0m\u001b[1;33m(\u001b[0m\u001b[0mdata\u001b[0m\u001b[1;33m)\u001b[0m \u001b[1;32mand\u001b[0m \u001b[1;32mnot\u001b[0m \u001b[0mhasattr\u001b[0m\u001b[1;33m(\u001b[0m\u001b[0mdata\u001b[0m\u001b[1;33m,\u001b[0m \u001b[1;34m\"dtype\"\u001b[0m\u001b[1;33m)\u001b[0m\u001b[1;33m\u001b[0m\u001b[1;33m\u001b[0m\u001b[0m\n\u001b[1;32m--> 796\u001b[1;33m     \u001b[0mis_simple_empty\u001b[0m \u001b[1;33m=\u001b[0m \u001b[0mis_list_like_without_dtype\u001b[0m \u001b[1;32mand\u001b[0m \u001b[1;32mnot\u001b[0m \u001b[0mdata\u001b[0m\u001b[1;33m\u001b[0m\u001b[1;33m\u001b[0m\u001b[0m\n\u001b[0m\u001b[0;32m    797\u001b[0m     \u001b[1;32mreturn\u001b[0m \u001b[0mis_none\u001b[0m \u001b[1;32mor\u001b[0m \u001b[0mis_simple_empty\u001b[0m\u001b[1;33m\u001b[0m\u001b[1;33m\u001b[0m\u001b[0m\n\u001b[0;32m    798\u001b[0m \u001b[1;33m\u001b[0m\u001b[0m\n",
      "\u001b[1;32m~\\anaconda3\\envs\\ML\\lib\\site-packages\\pandas\\core\\generic.py\u001b[0m in \u001b[0;36m__nonzero__\u001b[1;34m(self)\u001b[0m\n\u001b[0;32m   1535\u001b[0m     \u001b[1;33m@\u001b[0m\u001b[0mfinal\u001b[0m\u001b[1;33m\u001b[0m\u001b[1;33m\u001b[0m\u001b[0m\n\u001b[0;32m   1536\u001b[0m     \u001b[1;32mdef\u001b[0m \u001b[0m__nonzero__\u001b[0m\u001b[1;33m(\u001b[0m\u001b[0mself\u001b[0m\u001b[1;33m)\u001b[0m\u001b[1;33m:\u001b[0m\u001b[1;33m\u001b[0m\u001b[1;33m\u001b[0m\u001b[0m\n\u001b[1;32m-> 1537\u001b[1;33m         raise ValueError(\n\u001b[0m\u001b[0;32m   1538\u001b[0m             \u001b[1;34mf\"The truth value of a {type(self).__name__} is ambiguous. \"\u001b[0m\u001b[1;33m\u001b[0m\u001b[1;33m\u001b[0m\u001b[0m\n\u001b[0;32m   1539\u001b[0m             \u001b[1;34m\"Use a.empty, a.bool(), a.item(), a.any() or a.all().\"\u001b[0m\u001b[1;33m\u001b[0m\u001b[1;33m\u001b[0m\u001b[0m\n",
      "\u001b[1;31mValueError\u001b[0m: The truth value of a DataFrame is ambiguous. Use a.empty, a.bool(), a.item(), a.any() or a.all()."
     ]
    }
   ],
   "source": [
    "import plotly.express as px\n",
    "df = px.data.tips()\n",
    "fig = px.sunburst(contructors, path=['constructors.name', 'drivers.surname'], values='total_bill')\n",
    "fig.show()"
   ]
  },
  {
   "cell_type": "code",
   "execution_count": null,
   "metadata": {},
   "outputs": [],
   "source": []
  }
 ],
 "metadata": {
  "interpreter": {
   "hash": "7c5bc60f1b709cc28d984b044e46a36e86d71fb0a6f2e3589923fa1d0135e80a"
  },
  "kernelspec": {
   "display_name": "Python 3.8.12 ('ML')",
   "language": "python",
   "name": "python3"
  },
  "language_info": {
   "codemirror_mode": {
    "name": "ipython",
    "version": 3
   },
   "file_extension": ".py",
   "mimetype": "text/x-python",
   "name": "python",
   "nbconvert_exporter": "python",
   "pygments_lexer": "ipython3",
   "version": "3.8.12"
  },
  "orig_nbformat": 4
 },
 "nbformat": 4,
 "nbformat_minor": 2
}
