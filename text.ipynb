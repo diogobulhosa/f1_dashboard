{
 "cells": [
  {
   "cell_type": "code",
   "execution_count": 3,
   "metadata": {},
   "outputs": [],
   "source": [
    "import pandas as pd \n",
    "import plotly.express as px\n",
    "import plotly.graph_objects as go\n",
    "import numpy as np"
   ]
  },
  {
   "cell_type": "code",
   "execution_count": 12,
   "metadata": {},
   "outputs": [],
   "source": [
    "path = 'https://raw.githubusercontent.com/diogobulhosa/f1_dashboard/main/data/'\n"
   ]
  },
  {
   "cell_type": "code",
   "execution_count": 20,
   "metadata": {},
   "outputs": [],
   "source": [
    "df_final = pd.read_csv(\"cdrcrv2.csv\",  sep=',',  encoding='latin-1')\n",
    "#df_final['drivers.fullname'] = df_final[['drivers.forename','drivers.surname']].apply(lambda x: ' '.join(x), axis=1)\n",
    "df_points = pd.read_csv('https://raw.githubusercontent.com/diogobulhosa/f1_dashboard/main/data/points.csv',header = 0)"
   ]
  },
  {
   "cell_type": "code",
   "execution_count": 21,
   "metadata": {},
   "outputs": [],
   "source": [
    "df_final['points'] = df_final['points'].astype(int)"
   ]
  },
  {
   "cell_type": "code",
   "execution_count": 43,
   "metadata": {},
   "outputs": [],
   "source": [
    "\n",
    "df_final['drivers.fullname'] = df_final[['drivers.forename','drivers.surname']].apply(lambda x: ' '.join(x), axis=1)\n",
    "df_final['points'] = df_final['points'].astype(int)\n",
    "df_final['races.year'] = df_final['races.year'].astype(int)\n",
    "df_final.replace('\\\\N','0', inplace=True)\n",
    "df_final['milliseconds'] = df_final['milliseconds'].astype(int)"
   ]
  },
  {
   "cell_type": "code",
   "execution_count": 47,
   "metadata": {},
   "outputs": [],
   "source": [
    "df_final.replace('\\\\N','0', inplace=True)"
   ]
  },
  {
   "cell_type": "code",
   "execution_count": 48,
   "metadata": {},
   "outputs": [
    {
     "data": {
      "text/html": [
       "<div>\n",
       "<style scoped>\n",
       "    .dataframe tbody tr th:only-of-type {\n",
       "        vertical-align: middle;\n",
       "    }\n",
       "\n",
       "    .dataframe tbody tr th {\n",
       "        vertical-align: top;\n",
       "    }\n",
       "\n",
       "    .dataframe thead th {\n",
       "        text-align: right;\n",
       "    }\n",
       "</style>\n",
       "<table border=\"1\" class=\"dataframe\">\n",
       "  <thead>\n",
       "    <tr style=\"text-align: right;\">\n",
       "      <th></th>\n",
       "      <th>resultId</th>\n",
       "      <th>raceId</th>\n",
       "      <th>driverId</th>\n",
       "      <th>positionText</th>\n",
       "      <th>positionOrder</th>\n",
       "      <th>races.raceId</th>\n",
       "      <th>races.year</th>\n",
       "      <th>races.circuitId</th>\n",
       "      <th>drivers.forename</th>\n",
       "      <th>drivers.surname</th>\n",
       "      <th>...</th>\n",
       "      <th>laps</th>\n",
       "      <th>time</th>\n",
       "      <th>milliseconds</th>\n",
       "      <th>fastestLap</th>\n",
       "      <th>rank</th>\n",
       "      <th>fastestLapTime</th>\n",
       "      <th>fastestLapSpeed</th>\n",
       "      <th>statusId</th>\n",
       "      <th>races.round</th>\n",
       "      <th>drivers.fullname</th>\n",
       "    </tr>\n",
       "  </thead>\n",
       "  <tbody>\n",
       "  </tbody>\n",
       "</table>\n",
       "<p>0 rows × 34 columns</p>\n",
       "</div>"
      ],
      "text/plain": [
       "Empty DataFrame\n",
       "Columns: [resultId, raceId, driverId, positionText, positionOrder, races.raceId, races.year, races.circuitId, drivers.forename, drivers.surname, drivers.nationality, circuits.name, circuits.location, circuits.country, circuits.lat, circuits.lng, constructors.constructorRef, constructors.name, constructors.nationality, constructorId, number, grid, position, points, laps, time, milliseconds, fastestLap, rank, fastestLapTime, fastestLapSpeed, statusId, races.round, drivers.fullname]\n",
       "Index: []\n",
       "\n",
       "[0 rows x 34 columns]"
      ]
     },
     "execution_count": 48,
     "metadata": {},
     "output_type": "execute_result"
    }
   ],
   "source": [
    "df_final[df_final['milliseconds']=='\\\\N']"
   ]
  },
  {
   "cell_type": "code",
   "execution_count": 49,
   "metadata": {},
   "outputs": [],
   "source": [
    "df_final['milliseconds'] = df_final['milliseconds'].astype(int)"
   ]
  },
  {
   "cell_type": "markdown",
   "metadata": {},
   "source": [
    "Laps"
   ]
  },
  {
   "cell_type": "code",
   "execution_count": 50,
   "metadata": {},
   "outputs": [],
   "source": [
    "circuit_value = 'Silverstone Circuit'"
   ]
  },
  {
   "cell_type": "code",
   "execution_count": 51,
   "metadata": {},
   "outputs": [],
   "source": [
    "df_final_circuit =  df_final.loc[(df_final['circuits.name'] == str(circuit_value))]"
   ]
  },
  {
   "cell_type": "code",
   "execution_count": 52,
   "metadata": {},
   "outputs": [
    {
     "data": {
      "text/plain": [
       "Index(['resultId', 'raceId', 'driverId', 'positionText', 'positionOrder',\n",
       "       'races.raceId', 'races.year', 'races.circuitId', 'drivers.forename',\n",
       "       'drivers.surname', 'drivers.nationality', 'circuits.name',\n",
       "       'circuits.location', 'circuits.country', 'circuits.lat', 'circuits.lng',\n",
       "       'constructors.constructorRef', 'constructors.name',\n",
       "       'constructors.nationality', 'constructorId', 'number', 'grid',\n",
       "       'position', 'points', 'laps', 'time', 'milliseconds', 'fastestLap',\n",
       "       'rank', 'fastestLapTime', 'fastestLapSpeed', 'statusId', 'races.round',\n",
       "       'drivers.fullname'],\n",
       "      dtype='object')"
      ]
     },
     "execution_count": 52,
     "metadata": {},
     "output_type": "execute_result"
    }
   ],
   "source": [
    "df_final_circuit.columns"
   ]
  },
  {
   "cell_type": "code",
   "execution_count": 53,
   "metadata": {},
   "outputs": [
    {
     "name": "stderr",
     "output_type": "stream",
     "text": [
      "C:\\Users\\Admin\\AppData\\Local\\Temp/ipykernel_26228/43719791.py:2: SettingWithCopyWarning:\n",
      "\n",
      "\n",
      "A value is trying to be set on a copy of a slice from a DataFrame.\n",
      "Try using .loc[row_indexer,col_indexer] = value instead\n",
      "\n",
      "See the caveats in the documentation: https://pandas.pydata.org/pandas-docs/stable/user_guide/indexing.html#returning-a-view-versus-a-copy\n",
      "\n"
     ]
    }
   ],
   "source": [
    "avg_lap_time = df_final_circuit[df_final_circuit['positionText']=='1']\n",
    "avg_lap_time['avglaptime'] = avg_lap_time['milliseconds'] / avg_lap_time['laps']\n",
    "#gen_fast_lap = df_final_circuit[df_final_circuit['rank']==1]\n",
    "        #gen_fast_lap['fastestLapTime'] = gen_fast_lap['fastestLapTime'].astype('str').apply(lambda x: time_to_mili(x))\n"
   ]
  },
  {
   "cell_type": "code",
   "execution_count": 54,
   "metadata": {},
   "outputs": [
    {
     "data": {
      "text/html": [
       "<div>\n",
       "<style scoped>\n",
       "    .dataframe tbody tr th:only-of-type {\n",
       "        vertical-align: middle;\n",
       "    }\n",
       "\n",
       "    .dataframe tbody tr th {\n",
       "        vertical-align: top;\n",
       "    }\n",
       "\n",
       "    .dataframe thead th {\n",
       "        text-align: right;\n",
       "    }\n",
       "</style>\n",
       "<table border=\"1\" class=\"dataframe\">\n",
       "  <thead>\n",
       "    <tr style=\"text-align: right;\">\n",
       "      <th></th>\n",
       "      <th>resultId</th>\n",
       "      <th>raceId</th>\n",
       "      <th>driverId</th>\n",
       "      <th>positionText</th>\n",
       "      <th>positionOrder</th>\n",
       "      <th>races.raceId</th>\n",
       "      <th>races.year</th>\n",
       "      <th>races.circuitId</th>\n",
       "      <th>drivers.forename</th>\n",
       "      <th>drivers.surname</th>\n",
       "      <th>...</th>\n",
       "      <th>time</th>\n",
       "      <th>milliseconds</th>\n",
       "      <th>fastestLap</th>\n",
       "      <th>rank</th>\n",
       "      <th>fastestLapTime</th>\n",
       "      <th>fastestLapSpeed</th>\n",
       "      <th>statusId</th>\n",
       "      <th>races.round</th>\n",
       "      <th>drivers.fullname</th>\n",
       "      <th>avglaptime</th>\n",
       "    </tr>\n",
       "  </thead>\n",
       "  <tbody>\n",
       "    <tr>\n",
       "      <th>19562</th>\n",
       "      <td>897</td>\n",
       "      <td>60</td>\n",
       "      <td>4</td>\n",
       "      <td>1</td>\n",
       "      <td>1</td>\n",
       "      <td>60</td>\n",
       "      <td>2006</td>\n",
       "      <td>9</td>\n",
       "      <td>Fernando</td>\n",
       "      <td>Alonso</td>\n",
       "      <td>...</td>\n",
       "      <td>25:51.9</td>\n",
       "      <td>5151927</td>\n",
       "      <td>21</td>\n",
       "      <td>1</td>\n",
       "      <td>01:21.6</td>\n",
       "      <td>226.811</td>\n",
       "      <td>1</td>\n",
       "      <td>8</td>\n",
       "      <td>Fernando Alonso</td>\n",
       "      <td>85865.450000</td>\n",
       "    </tr>\n",
       "    <tr>\n",
       "      <th>19917</th>\n",
       "      <td>21866</td>\n",
       "      <td>887</td>\n",
       "      <td>3</td>\n",
       "      <td>1</td>\n",
       "      <td>1</td>\n",
       "      <td>887</td>\n",
       "      <td>2013</td>\n",
       "      <td>9</td>\n",
       "      <td>Nico</td>\n",
       "      <td>Rosberg</td>\n",
       "      <td>...</td>\n",
       "      <td>32:59.5</td>\n",
       "      <td>5579456</td>\n",
       "      <td>50</td>\n",
       "      <td>2</td>\n",
       "      <td>01:33.5</td>\n",
       "      <td>226.744</td>\n",
       "      <td>1</td>\n",
       "      <td>8</td>\n",
       "      <td>Nico Rosberg</td>\n",
       "      <td>107297.230769</td>\n",
       "    </tr>\n",
       "    <tr>\n",
       "      <th>20004</th>\n",
       "      <td>22306</td>\n",
       "      <td>908</td>\n",
       "      <td>1</td>\n",
       "      <td>1</td>\n",
       "      <td>1</td>\n",
       "      <td>908</td>\n",
       "      <td>2014</td>\n",
       "      <td>9</td>\n",
       "      <td>Lewis</td>\n",
       "      <td>Hamilton</td>\n",
       "      <td>...</td>\n",
       "      <td>26:52.1</td>\n",
       "      <td>8812094</td>\n",
       "      <td>26</td>\n",
       "      <td>1</td>\n",
       "      <td>01:37.2</td>\n",
       "      <td>218.239</td>\n",
       "      <td>1</td>\n",
       "      <td>9</td>\n",
       "      <td>Lewis Hamilton</td>\n",
       "      <td>169463.346154</td>\n",
       "    </tr>\n",
       "    <tr>\n",
       "      <th>20022</th>\n",
       "      <td>22696</td>\n",
       "      <td>934</td>\n",
       "      <td>1</td>\n",
       "      <td>1</td>\n",
       "      <td>1</td>\n",
       "      <td>934</td>\n",
       "      <td>2015</td>\n",
       "      <td>9</td>\n",
       "      <td>Lewis</td>\n",
       "      <td>Hamilton</td>\n",
       "      <td>...</td>\n",
       "      <td>31:27.7</td>\n",
       "      <td>5487729</td>\n",
       "      <td>29</td>\n",
       "      <td>1</td>\n",
       "      <td>01:37.1</td>\n",
       "      <td>218.425</td>\n",
       "      <td>1</td>\n",
       "      <td>9</td>\n",
       "      <td>Lewis Hamilton</td>\n",
       "      <td>105533.250000</td>\n",
       "    </tr>\n",
       "    <tr>\n",
       "      <th>20040</th>\n",
       "      <td>23115</td>\n",
       "      <td>957</td>\n",
       "      <td>1</td>\n",
       "      <td>1</td>\n",
       "      <td>1</td>\n",
       "      <td>957</td>\n",
       "      <td>2016</td>\n",
       "      <td>9</td>\n",
       "      <td>Lewis</td>\n",
       "      <td>Hamilton</td>\n",
       "      <td>...</td>\n",
       "      <td>34:55.8</td>\n",
       "      <td>5695831</td>\n",
       "      <td>45</td>\n",
       "      <td>3</td>\n",
       "      <td>01:35.8</td>\n",
       "      <td>221.44</td>\n",
       "      <td>1</td>\n",
       "      <td>10</td>\n",
       "      <td>Lewis Hamilton</td>\n",
       "      <td>109535.211538</td>\n",
       "    </tr>\n",
       "    <tr>\n",
       "      <th>20060</th>\n",
       "      <td>23562</td>\n",
       "      <td>978</td>\n",
       "      <td>1</td>\n",
       "      <td>1</td>\n",
       "      <td>1</td>\n",
       "      <td>978</td>\n",
       "      <td>2017</td>\n",
       "      <td>9</td>\n",
       "      <td>Lewis</td>\n",
       "      <td>Hamilton</td>\n",
       "      <td>...</td>\n",
       "      <td>21:27.4</td>\n",
       "      <td>4887430</td>\n",
       "      <td>48</td>\n",
       "      <td>1</td>\n",
       "      <td>01:30.6</td>\n",
       "      <td>234.025</td>\n",
       "      <td>1</td>\n",
       "      <td>10</td>\n",
       "      <td>Lewis Hamilton</td>\n",
       "      <td>95831.960784</td>\n",
       "    </tr>\n",
       "    <tr>\n",
       "      <th>20099</th>\n",
       "      <td>24386</td>\n",
       "      <td>1019</td>\n",
       "      <td>1</td>\n",
       "      <td>1</td>\n",
       "      <td>1</td>\n",
       "      <td>1019</td>\n",
       "      <td>2019</td>\n",
       "      <td>9</td>\n",
       "      <td>Lewis</td>\n",
       "      <td>Hamilton</td>\n",
       "      <td>...</td>\n",
       "      <td>21:08.5</td>\n",
       "      <td>4868452</td>\n",
       "      <td>52</td>\n",
       "      <td>1</td>\n",
       "      <td>01:27.4</td>\n",
       "      <td>242.735</td>\n",
       "      <td>1</td>\n",
       "      <td>10</td>\n",
       "      <td>Lewis Hamilton</td>\n",
       "      <td>93624.076923</td>\n",
       "    </tr>\n",
       "    <tr>\n",
       "      <th>20114</th>\n",
       "      <td>24686</td>\n",
       "      <td>1034</td>\n",
       "      <td>1</td>\n",
       "      <td>1</td>\n",
       "      <td>1</td>\n",
       "      <td>1034</td>\n",
       "      <td>2020</td>\n",
       "      <td>9</td>\n",
       "      <td>Lewis</td>\n",
       "      <td>Hamilton</td>\n",
       "      <td>...</td>\n",
       "      <td>28:01.3</td>\n",
       "      <td>5281283</td>\n",
       "      <td>45</td>\n",
       "      <td>3</td>\n",
       "      <td>01:29.2</td>\n",
       "      <td>237.652</td>\n",
       "      <td>1</td>\n",
       "      <td>4</td>\n",
       "      <td>Lewis Hamilton</td>\n",
       "      <td>101563.134615</td>\n",
       "    </tr>\n",
       "    <tr>\n",
       "      <th>20136</th>\n",
       "      <td>25146</td>\n",
       "      <td>1061</td>\n",
       "      <td>1</td>\n",
       "      <td>1</td>\n",
       "      <td>1</td>\n",
       "      <td>1061</td>\n",
       "      <td>2021</td>\n",
       "      <td>9</td>\n",
       "      <td>Lewis</td>\n",
       "      <td>Hamilton</td>\n",
       "      <td>...</td>\n",
       "      <td>58:23.3</td>\n",
       "      <td>7103284</td>\n",
       "      <td>45</td>\n",
       "      <td>2</td>\n",
       "      <td>01:29.7</td>\n",
       "      <td>236.43</td>\n",
       "      <td>1</td>\n",
       "      <td>10</td>\n",
       "      <td>Lewis Hamilton</td>\n",
       "      <td>136601.615385</td>\n",
       "    </tr>\n",
       "    <tr>\n",
       "      <th>20273</th>\n",
       "      <td>24706</td>\n",
       "      <td>1035</td>\n",
       "      <td>830</td>\n",
       "      <td>1</td>\n",
       "      <td>1</td>\n",
       "      <td>1035</td>\n",
       "      <td>2020</td>\n",
       "      <td>9</td>\n",
       "      <td>Max</td>\n",
       "      <td>Verstappen</td>\n",
       "      <td>...</td>\n",
       "      <td>19:42.0</td>\n",
       "      <td>4781993</td>\n",
       "      <td>46</td>\n",
       "      <td>2</td>\n",
       "      <td>01:29.5</td>\n",
       "      <td>237.049</td>\n",
       "      <td>1</td>\n",
       "      <td>5</td>\n",
       "      <td>Max Verstappen</td>\n",
       "      <td>91961.403846</td>\n",
       "    </tr>\n",
       "    <tr>\n",
       "      <th>20330</th>\n",
       "      <td>7694</td>\n",
       "      <td>8</td>\n",
       "      <td>20</td>\n",
       "      <td>1</td>\n",
       "      <td>1</td>\n",
       "      <td>8</td>\n",
       "      <td>2009</td>\n",
       "      <td>9</td>\n",
       "      <td>Sebastian</td>\n",
       "      <td>Vettel</td>\n",
       "      <td>...</td>\n",
       "      <td>22:49.3</td>\n",
       "      <td>4969328</td>\n",
       "      <td>16</td>\n",
       "      <td>1</td>\n",
       "      <td>01:20.7</td>\n",
       "      <td>229.238</td>\n",
       "      <td>1</td>\n",
       "      <td>8</td>\n",
       "      <td>Sebastian Vettel</td>\n",
       "      <td>82822.133333</td>\n",
       "    </tr>\n",
       "    <tr>\n",
       "      <th>20465</th>\n",
       "      <td>20539</td>\n",
       "      <td>346</td>\n",
       "      <td>17</td>\n",
       "      <td>1</td>\n",
       "      <td>1</td>\n",
       "      <td>346</td>\n",
       "      <td>2010</td>\n",
       "      <td>9</td>\n",
       "      <td>Mark</td>\n",
       "      <td>Webber</td>\n",
       "      <td>...</td>\n",
       "      <td>24:38.2</td>\n",
       "      <td>5078200</td>\n",
       "      <td>45</td>\n",
       "      <td>4</td>\n",
       "      <td>01:32.4</td>\n",
       "      <td>229.608</td>\n",
       "      <td>1</td>\n",
       "      <td>10</td>\n",
       "      <td>Mark Webber</td>\n",
       "      <td>97657.692308</td>\n",
       "    </tr>\n",
       "    <tr>\n",
       "      <th>20499</th>\n",
       "      <td>21424</td>\n",
       "      <td>868</td>\n",
       "      <td>17</td>\n",
       "      <td>1</td>\n",
       "      <td>1</td>\n",
       "      <td>868</td>\n",
       "      <td>2012</td>\n",
       "      <td>9</td>\n",
       "      <td>Mark</td>\n",
       "      <td>Webber</td>\n",
       "      <td>...</td>\n",
       "      <td>25:11.3</td>\n",
       "      <td>5111288</td>\n",
       "      <td>49</td>\n",
       "      <td>4</td>\n",
       "      <td>01:34.9</td>\n",
       "      <td>223.393</td>\n",
       "      <td>1</td>\n",
       "      <td>9</td>\n",
       "      <td>Mark Webber</td>\n",
       "      <td>98294.000000</td>\n",
       "    </tr>\n",
       "    <tr>\n",
       "      <th>20608</th>\n",
       "      <td>169</td>\n",
       "      <td>26</td>\n",
       "      <td>1</td>\n",
       "      <td>1</td>\n",
       "      <td>1</td>\n",
       "      <td>26</td>\n",
       "      <td>2008</td>\n",
       "      <td>9</td>\n",
       "      <td>Lewis</td>\n",
       "      <td>Hamilton</td>\n",
       "      <td>...</td>\n",
       "      <td>39:09.4</td>\n",
       "      <td>5949440</td>\n",
       "      <td>16</td>\n",
       "      <td>3</td>\n",
       "      <td>01:32.8</td>\n",
       "      <td>199.398</td>\n",
       "      <td>1</td>\n",
       "      <td>9</td>\n",
       "      <td>Lewis Hamilton</td>\n",
       "      <td>99157.333333</td>\n",
       "    </tr>\n",
       "    <tr>\n",
       "      <th>20870</th>\n",
       "      <td>1335</td>\n",
       "      <td>81</td>\n",
       "      <td>31</td>\n",
       "      <td>1</td>\n",
       "      <td>1</td>\n",
       "      <td>81</td>\n",
       "      <td>2005</td>\n",
       "      <td>9</td>\n",
       "      <td>Juan</td>\n",
       "      <td>Pablo Montoya</td>\n",
       "      <td>...</td>\n",
       "      <td>24:29.6</td>\n",
       "      <td>5069588</td>\n",
       "      <td>41</td>\n",
       "      <td>2</td>\n",
       "      <td>01:20.7</td>\n",
       "      <td>229.338</td>\n",
       "      <td>1</td>\n",
       "      <td>11</td>\n",
       "      <td>Juan Pablo Montoya</td>\n",
       "      <td>84493.133333</td>\n",
       "    </tr>\n",
       "    <tr>\n",
       "      <th>21491</th>\n",
       "      <td>1715</td>\n",
       "      <td>100</td>\n",
       "      <td>30</td>\n",
       "      <td>1</td>\n",
       "      <td>1</td>\n",
       "      <td>100</td>\n",
       "      <td>2004</td>\n",
       "      <td>9</td>\n",
       "      <td>Michael</td>\n",
       "      <td>Schumacher</td>\n",
       "      <td>...</td>\n",
       "      <td>24:42.7</td>\n",
       "      <td>5082700</td>\n",
       "      <td>14</td>\n",
       "      <td>1</td>\n",
       "      <td>01:18.7</td>\n",
       "      <td>235.049</td>\n",
       "      <td>1</td>\n",
       "      <td>11</td>\n",
       "      <td>Michael Schumacher</td>\n",
       "      <td>84711.666667</td>\n",
       "    </tr>\n",
       "    <tr>\n",
       "      <th>21635</th>\n",
       "      <td>545</td>\n",
       "      <td>44</td>\n",
       "      <td>8</td>\n",
       "      <td>1</td>\n",
       "      <td>1</td>\n",
       "      <td>44</td>\n",
       "      <td>2007</td>\n",
       "      <td>9</td>\n",
       "      <td>Kimi</td>\n",
       "      <td>Räikkönen</td>\n",
       "      <td>...</td>\n",
       "      <td>21:43.1</td>\n",
       "      <td>4903074</td>\n",
       "      <td>17</td>\n",
       "      <td>1</td>\n",
       "      <td>01:20.6</td>\n",
       "      <td>229.514</td>\n",
       "      <td>1</td>\n",
       "      <td>9</td>\n",
       "      <td>Kimi Räikkönen</td>\n",
       "      <td>83102.949153</td>\n",
       "    </tr>\n",
       "    <tr>\n",
       "      <th>21932</th>\n",
       "      <td>23962</td>\n",
       "      <td>998</td>\n",
       "      <td>20</td>\n",
       "      <td>1</td>\n",
       "      <td>1</td>\n",
       "      <td>998</td>\n",
       "      <td>2018</td>\n",
       "      <td>9</td>\n",
       "      <td>Sebastian</td>\n",
       "      <td>Vettel</td>\n",
       "      <td>...</td>\n",
       "      <td>27:29.8</td>\n",
       "      <td>5249784</td>\n",
       "      <td>47</td>\n",
       "      <td>1</td>\n",
       "      <td>01:30.7</td>\n",
       "      <td>233.831</td>\n",
       "      <td>1</td>\n",
       "      <td>10</td>\n",
       "      <td>Sebastian Vettel</td>\n",
       "      <td>100957.384615</td>\n",
       "    </tr>\n",
       "    <tr>\n",
       "      <th>21988</th>\n",
       "      <td>20968</td>\n",
       "      <td>849</td>\n",
       "      <td>4</td>\n",
       "      <td>1</td>\n",
       "      <td>1</td>\n",
       "      <td>849</td>\n",
       "      <td>2011</td>\n",
       "      <td>9</td>\n",
       "      <td>Fernando</td>\n",
       "      <td>Alonso</td>\n",
       "      <td>...</td>\n",
       "      <td>28:41.2</td>\n",
       "      <td>5321196</td>\n",
       "      <td>41</td>\n",
       "      <td>1</td>\n",
       "      <td>01:34.9</td>\n",
       "      <td>223.454</td>\n",
       "      <td>1</td>\n",
       "      <td>9</td>\n",
       "      <td>Fernando Alonso</td>\n",
       "      <td>102330.692308</td>\n",
       "    </tr>\n",
       "    <tr>\n",
       "      <th>22238</th>\n",
       "      <td>20025</td>\n",
       "      <td>833</td>\n",
       "      <td>642</td>\n",
       "      <td>1</td>\n",
       "      <td>1</td>\n",
       "      <td>833</td>\n",
       "      <td>1950</td>\n",
       "      <td>9</td>\n",
       "      <td>Nino</td>\n",
       "      <td>Farina</td>\n",
       "      <td>...</td>\n",
       "      <td>13:23.6</td>\n",
       "      <td>8003600</td>\n",
       "      <td>0</td>\n",
       "      <td>0</td>\n",
       "      <td>0</td>\n",
       "      <td>0</td>\n",
       "      <td>1</td>\n",
       "      <td>1</td>\n",
       "      <td>Nino Farina</td>\n",
       "      <td>114337.142857</td>\n",
       "    </tr>\n",
       "    <tr>\n",
       "      <th>22535</th>\n",
       "      <td>16279</td>\n",
       "      <td>661</td>\n",
       "      <td>328</td>\n",
       "      <td>1</td>\n",
       "      <td>1</td>\n",
       "      <td>661</td>\n",
       "      <td>1969</td>\n",
       "      <td>9</td>\n",
       "      <td>Jackie</td>\n",
       "      <td>Stewart</td>\n",
       "      <td>...</td>\n",
       "      <td>55:55.6</td>\n",
       "      <td>6955600</td>\n",
       "      <td>0</td>\n",
       "      <td>0</td>\n",
       "      <td>0</td>\n",
       "      <td>0</td>\n",
       "      <td>1</td>\n",
       "      <td>6</td>\n",
       "      <td>Jackie Stewart</td>\n",
       "      <td>82804.761905</td>\n",
       "    </tr>\n",
       "    <tr>\n",
       "      <th>22582</th>\n",
       "      <td>10880</td>\n",
       "      <td>460</td>\n",
       "      <td>117</td>\n",
       "      <td>1</td>\n",
       "      <td>1</td>\n",
       "      <td>460</td>\n",
       "      <td>1983</td>\n",
       "      <td>9</td>\n",
       "      <td>Alain</td>\n",
       "      <td>Prost</td>\n",
       "      <td>...</td>\n",
       "      <td>24:39.8</td>\n",
       "      <td>5079780</td>\n",
       "      <td>0</td>\n",
       "      <td>0</td>\n",
       "      <td>0</td>\n",
       "      <td>0</td>\n",
       "      <td>1</td>\n",
       "      <td>9</td>\n",
       "      <td>Alain Prost</td>\n",
       "      <td>75817.611940</td>\n",
       "    </tr>\n",
       "    <tr>\n",
       "      <th>22757</th>\n",
       "      <td>4899</td>\n",
       "      <td>247</td>\n",
       "      <td>65</td>\n",
       "      <td>1</td>\n",
       "      <td>1</td>\n",
       "      <td>247</td>\n",
       "      <td>1995</td>\n",
       "      <td>9</td>\n",
       "      <td>Johnny</td>\n",
       "      <td>Herbert</td>\n",
       "      <td>...</td>\n",
       "      <td>34:35.1</td>\n",
       "      <td>5675093</td>\n",
       "      <td>0</td>\n",
       "      <td>0</td>\n",
       "      <td>0</td>\n",
       "      <td>0</td>\n",
       "      <td>1</td>\n",
       "      <td>8</td>\n",
       "      <td>Johnny Herbert</td>\n",
       "      <td>93034.311475</td>\n",
       "    </tr>\n",
       "    <tr>\n",
       "      <th>23171</th>\n",
       "      <td>2075</td>\n",
       "      <td>118</td>\n",
       "      <td>22</td>\n",
       "      <td>1</td>\n",
       "      <td>1</td>\n",
       "      <td>118</td>\n",
       "      <td>2003</td>\n",
       "      <td>9</td>\n",
       "      <td>Rubens</td>\n",
       "      <td>Barrichello</td>\n",
       "      <td>...</td>\n",
       "      <td>28:37.6</td>\n",
       "      <td>5317554</td>\n",
       "      <td>0</td>\n",
       "      <td>0</td>\n",
       "      <td>0</td>\n",
       "      <td>0</td>\n",
       "      <td>1</td>\n",
       "      <td>11</td>\n",
       "      <td>Rubens Barrichello</td>\n",
       "      <td>88625.900000</td>\n",
       "    </tr>\n",
       "    <tr>\n",
       "      <th>23182</th>\n",
       "      <td>2393</td>\n",
       "      <td>133</td>\n",
       "      <td>30</td>\n",
       "      <td>1</td>\n",
       "      <td>1</td>\n",
       "      <td>133</td>\n",
       "      <td>2002</td>\n",
       "      <td>9</td>\n",
       "      <td>Michael</td>\n",
       "      <td>Schumacher</td>\n",
       "      <td>...</td>\n",
       "      <td>31:45.0</td>\n",
       "      <td>5505015</td>\n",
       "      <td>0</td>\n",
       "      <td>0</td>\n",
       "      <td>0</td>\n",
       "      <td>0</td>\n",
       "      <td>1</td>\n",
       "      <td>10</td>\n",
       "      <td>Michael Schumacher</td>\n",
       "      <td>91750.250000</td>\n",
       "    </tr>\n",
       "    <tr>\n",
       "      <th>23218</th>\n",
       "      <td>3831</td>\n",
       "      <td>199</td>\n",
       "      <td>30</td>\n",
       "      <td>1</td>\n",
       "      <td>1</td>\n",
       "      <td>199</td>\n",
       "      <td>1998</td>\n",
       "      <td>9</td>\n",
       "      <td>Michael</td>\n",
       "      <td>Schumacher</td>\n",
       "      <td>...</td>\n",
       "      <td>47:02.4</td>\n",
       "      <td>6422400</td>\n",
       "      <td>0</td>\n",
       "      <td>0</td>\n",
       "      <td>0</td>\n",
       "      <td>0</td>\n",
       "      <td>1</td>\n",
       "      <td>9</td>\n",
       "      <td>Michael Schumacher</td>\n",
       "      <td>107040.000000</td>\n",
       "    </tr>\n",
       "    <tr>\n",
       "      <th>23233</th>\n",
       "      <td>18616</td>\n",
       "      <td>771</td>\n",
       "      <td>581</td>\n",
       "      <td>1</td>\n",
       "      <td>1</td>\n",
       "      <td>771</td>\n",
       "      <td>1958</td>\n",
       "      <td>9</td>\n",
       "      <td>Peter</td>\n",
       "      <td>Collins</td>\n",
       "      <td>...</td>\n",
       "      <td>09:04.2</td>\n",
       "      <td>7744200</td>\n",
       "      <td>0</td>\n",
       "      <td>0</td>\n",
       "      <td>0</td>\n",
       "      <td>0</td>\n",
       "      <td>1</td>\n",
       "      <td>7</td>\n",
       "      <td>Peter Collins</td>\n",
       "      <td>103256.000000</td>\n",
       "    </tr>\n",
       "    <tr>\n",
       "      <th>23237</th>\n",
       "      <td>18982</td>\n",
       "      <td>789</td>\n",
       "      <td>579</td>\n",
       "      <td>1</td>\n",
       "      <td>1</td>\n",
       "      <td>789</td>\n",
       "      <td>1956</td>\n",
       "      <td>9</td>\n",
       "      <td>Juan</td>\n",
       "      <td>Fangio</td>\n",
       "      <td>...</td>\n",
       "      <td>59:47.0</td>\n",
       "      <td>10787000</td>\n",
       "      <td>0</td>\n",
       "      <td>0</td>\n",
       "      <td>0</td>\n",
       "      <td>0</td>\n",
       "      <td>1</td>\n",
       "      <td>6</td>\n",
       "      <td>Juan Fangio</td>\n",
       "      <td>106801.980198</td>\n",
       "    </tr>\n",
       "    <tr>\n",
       "      <th>23239</th>\n",
       "      <td>19301</td>\n",
       "      <td>803</td>\n",
       "      <td>498</td>\n",
       "      <td>1</td>\n",
       "      <td>1</td>\n",
       "      <td>803</td>\n",
       "      <td>1954</td>\n",
       "      <td>9</td>\n",
       "      <td>José Froilán</td>\n",
       "      <td>González</td>\n",
       "      <td>...</td>\n",
       "      <td>56:14.0</td>\n",
       "      <td>10574000</td>\n",
       "      <td>0</td>\n",
       "      <td>0</td>\n",
       "      <td>0</td>\n",
       "      <td>0</td>\n",
       "      <td>1</td>\n",
       "      <td>5</td>\n",
       "      <td>José Froilán González</td>\n",
       "      <td>117488.888889</td>\n",
       "    </tr>\n",
       "    <tr>\n",
       "      <th>23244</th>\n",
       "      <td>19529</td>\n",
       "      <td>813</td>\n",
       "      <td>647</td>\n",
       "      <td>1</td>\n",
       "      <td>1</td>\n",
       "      <td>813</td>\n",
       "      <td>1953</td>\n",
       "      <td>9</td>\n",
       "      <td>Alberto</td>\n",
       "      <td>Ascari</td>\n",
       "      <td>...</td>\n",
       "      <td>50:00.0</td>\n",
       "      <td>10200000</td>\n",
       "      <td>0</td>\n",
       "      <td>0</td>\n",
       "      <td>0</td>\n",
       "      <td>0</td>\n",
       "      <td>1</td>\n",
       "      <td>6</td>\n",
       "      <td>Alberto Ascari</td>\n",
       "      <td>113333.333333</td>\n",
       "    </tr>\n",
       "    <tr>\n",
       "      <th>23247</th>\n",
       "      <td>19941</td>\n",
       "      <td>829</td>\n",
       "      <td>498</td>\n",
       "      <td>1</td>\n",
       "      <td>1</td>\n",
       "      <td>829</td>\n",
       "      <td>1951</td>\n",
       "      <td>9</td>\n",
       "      <td>José Froilán</td>\n",
       "      <td>González</td>\n",
       "      <td>...</td>\n",
       "      <td>42:18.2</td>\n",
       "      <td>9738200</td>\n",
       "      <td>0</td>\n",
       "      <td>0</td>\n",
       "      <td>0</td>\n",
       "      <td>0</td>\n",
       "      <td>1</td>\n",
       "      <td>5</td>\n",
       "      <td>José Froilán González</td>\n",
       "      <td>108202.222222</td>\n",
       "    </tr>\n",
       "    <tr>\n",
       "      <th>23254</th>\n",
       "      <td>7257</td>\n",
       "      <td>328</td>\n",
       "      <td>117</td>\n",
       "      <td>1</td>\n",
       "      <td>1</td>\n",
       "      <td>328</td>\n",
       "      <td>1990</td>\n",
       "      <td>9</td>\n",
       "      <td>Alain</td>\n",
       "      <td>Prost</td>\n",
       "      <td>...</td>\n",
       "      <td>18:31.0</td>\n",
       "      <td>4710999</td>\n",
       "      <td>0</td>\n",
       "      <td>0</td>\n",
       "      <td>0</td>\n",
       "      <td>0</td>\n",
       "      <td>1</td>\n",
       "      <td>8</td>\n",
       "      <td>Alain Prost</td>\n",
       "      <td>73609.359375</td>\n",
       "    </tr>\n",
       "    <tr>\n",
       "      <th>23332</th>\n",
       "      <td>19736</td>\n",
       "      <td>821</td>\n",
       "      <td>647</td>\n",
       "      <td>1</td>\n",
       "      <td>1</td>\n",
       "      <td>821</td>\n",
       "      <td>1952</td>\n",
       "      <td>9</td>\n",
       "      <td>Alberto</td>\n",
       "      <td>Ascari</td>\n",
       "      <td>...</td>\n",
       "      <td>46:11.0</td>\n",
       "      <td>9971000</td>\n",
       "      <td>0</td>\n",
       "      <td>0</td>\n",
       "      <td>0</td>\n",
       "      <td>0</td>\n",
       "      <td>1</td>\n",
       "      <td>5</td>\n",
       "      <td>Alberto Ascari</td>\n",
       "      <td>117305.882353</td>\n",
       "    </tr>\n",
       "    <tr>\n",
       "      <th>23576</th>\n",
       "      <td>4183</td>\n",
       "      <td>215</td>\n",
       "      <td>35</td>\n",
       "      <td>1</td>\n",
       "      <td>1</td>\n",
       "      <td>215</td>\n",
       "      <td>1997</td>\n",
       "      <td>9</td>\n",
       "      <td>Jacques</td>\n",
       "      <td>Villeneuve</td>\n",
       "      <td>...</td>\n",
       "      <td>28:01.7</td>\n",
       "      <td>5281665</td>\n",
       "      <td>0</td>\n",
       "      <td>0</td>\n",
       "      <td>0</td>\n",
       "      <td>0</td>\n",
       "      <td>1</td>\n",
       "      <td>9</td>\n",
       "      <td>Jacques Villeneuve</td>\n",
       "      <td>89519.745763</td>\n",
       "    </tr>\n",
       "    <tr>\n",
       "      <th>23592</th>\n",
       "      <td>5331</td>\n",
       "      <td>264</td>\n",
       "      <td>71</td>\n",
       "      <td>1</td>\n",
       "      <td>1</td>\n",
       "      <td>264</td>\n",
       "      <td>1994</td>\n",
       "      <td>9</td>\n",
       "      <td>Damon</td>\n",
       "      <td>Hill</td>\n",
       "      <td>...</td>\n",
       "      <td>30:03.6</td>\n",
       "      <td>5403640</td>\n",
       "      <td>0</td>\n",
       "      <td>0</td>\n",
       "      <td>0</td>\n",
       "      <td>0</td>\n",
       "      <td>1</td>\n",
       "      <td>8</td>\n",
       "      <td>Damon Hill</td>\n",
       "      <td>90060.666667</td>\n",
       "    </tr>\n",
       "    <tr>\n",
       "      <th>23613</th>\n",
       "      <td>5791</td>\n",
       "      <td>281</td>\n",
       "      <td>117</td>\n",
       "      <td>1</td>\n",
       "      <td>1</td>\n",
       "      <td>281</td>\n",
       "      <td>1993</td>\n",
       "      <td>9</td>\n",
       "      <td>Alain</td>\n",
       "      <td>Prost</td>\n",
       "      <td>...</td>\n",
       "      <td>25:38.2</td>\n",
       "      <td>5138189</td>\n",
       "      <td>0</td>\n",
       "      <td>0</td>\n",
       "      <td>0</td>\n",
       "      <td>0</td>\n",
       "      <td>1</td>\n",
       "      <td>9</td>\n",
       "      <td>Alain Prost</td>\n",
       "      <td>87087.949153</td>\n",
       "    </tr>\n",
       "    <tr>\n",
       "      <th>23674</th>\n",
       "      <td>12588</td>\n",
       "      <td>520</td>\n",
       "      <td>223</td>\n",
       "      <td>1</td>\n",
       "      <td>1</td>\n",
       "      <td>520</td>\n",
       "      <td>1979</td>\n",
       "      <td>9</td>\n",
       "      <td>Clay</td>\n",
       "      <td>Regazzoni</td>\n",
       "      <td>...</td>\n",
       "      <td>26:11.2</td>\n",
       "      <td>5171170</td>\n",
       "      <td>0</td>\n",
       "      <td>0</td>\n",
       "      <td>0</td>\n",
       "      <td>0</td>\n",
       "      <td>1</td>\n",
       "      <td>9</td>\n",
       "      <td>Clay Regazzoni</td>\n",
       "      <td>76046.617647</td>\n",
       "    </tr>\n",
       "    <tr>\n",
       "      <th>23741</th>\n",
       "      <td>6242</td>\n",
       "      <td>297</td>\n",
       "      <td>95</td>\n",
       "      <td>1</td>\n",
       "      <td>1</td>\n",
       "      <td>297</td>\n",
       "      <td>1992</td>\n",
       "      <td>9</td>\n",
       "      <td>Nigel</td>\n",
       "      <td>Mansell</td>\n",
       "      <td>...</td>\n",
       "      <td>25:43.0</td>\n",
       "      <td>5142991</td>\n",
       "      <td>0</td>\n",
       "      <td>0</td>\n",
       "      <td>0</td>\n",
       "      <td>0</td>\n",
       "      <td>1</td>\n",
       "      <td>9</td>\n",
       "      <td>Nigel Mansell</td>\n",
       "      <td>87169.338983</td>\n",
       "    </tr>\n",
       "    <tr>\n",
       "      <th>23749</th>\n",
       "      <td>6711</td>\n",
       "      <td>312</td>\n",
       "      <td>95</td>\n",
       "      <td>1</td>\n",
       "      <td>1</td>\n",
       "      <td>312</td>\n",
       "      <td>1991</td>\n",
       "      <td>9</td>\n",
       "      <td>Nigel</td>\n",
       "      <td>Mansell</td>\n",
       "      <td>...</td>\n",
       "      <td>27:35.5</td>\n",
       "      <td>5255479</td>\n",
       "      <td>0</td>\n",
       "      <td>0</td>\n",
       "      <td>0</td>\n",
       "      <td>0</td>\n",
       "      <td>1</td>\n",
       "      <td>8</td>\n",
       "      <td>Nigel Mansell</td>\n",
       "      <td>89075.915254</td>\n",
       "    </tr>\n",
       "    <tr>\n",
       "      <th>23773</th>\n",
       "      <td>9143</td>\n",
       "      <td>394</td>\n",
       "      <td>95</td>\n",
       "      <td>1</td>\n",
       "      <td>1</td>\n",
       "      <td>394</td>\n",
       "      <td>1987</td>\n",
       "      <td>9</td>\n",
       "      <td>Nigel</td>\n",
       "      <td>Mansell</td>\n",
       "      <td>...</td>\n",
       "      <td>19:11.8</td>\n",
       "      <td>4751780</td>\n",
       "      <td>0</td>\n",
       "      <td>0</td>\n",
       "      <td>0</td>\n",
       "      <td>0</td>\n",
       "      <td>1</td>\n",
       "      <td>7</td>\n",
       "      <td>Nigel Mansell</td>\n",
       "      <td>73104.307692</td>\n",
       "    </tr>\n",
       "    <tr>\n",
       "      <th>23828</th>\n",
       "      <td>4579</td>\n",
       "      <td>233</td>\n",
       "      <td>35</td>\n",
       "      <td>1</td>\n",
       "      <td>1</td>\n",
       "      <td>233</td>\n",
       "      <td>1996</td>\n",
       "      <td>9</td>\n",
       "      <td>Jacques</td>\n",
       "      <td>Villeneuve</td>\n",
       "      <td>...</td>\n",
       "      <td>33:00.9</td>\n",
       "      <td>5580874</td>\n",
       "      <td>0</td>\n",
       "      <td>0</td>\n",
       "      <td>0</td>\n",
       "      <td>0</td>\n",
       "      <td>1</td>\n",
       "      <td>10</td>\n",
       "      <td>Jacques Villeneuve</td>\n",
       "      <td>91489.737705</td>\n",
       "    </tr>\n",
       "    <tr>\n",
       "      <th>24615</th>\n",
       "      <td>18209</td>\n",
       "      <td>752</td>\n",
       "      <td>356</td>\n",
       "      <td>1</td>\n",
       "      <td>1</td>\n",
       "      <td>752</td>\n",
       "      <td>1960</td>\n",
       "      <td>9</td>\n",
       "      <td>Jack</td>\n",
       "      <td>Brabham</td>\n",
       "      <td>...</td>\n",
       "      <td>04:24.3</td>\n",
       "      <td>7464300</td>\n",
       "      <td>0</td>\n",
       "      <td>0</td>\n",
       "      <td>0</td>\n",
       "      <td>0</td>\n",
       "      <td>1</td>\n",
       "      <td>7</td>\n",
       "      <td>Jack Brabham</td>\n",
       "      <td>96938.961039</td>\n",
       "    </tr>\n",
       "    <tr>\n",
       "      <th>24867</th>\n",
       "      <td>15741</td>\n",
       "      <td>637</td>\n",
       "      <td>328</td>\n",
       "      <td>1</td>\n",
       "      <td>1</td>\n",
       "      <td>637</td>\n",
       "      <td>1971</td>\n",
       "      <td>9</td>\n",
       "      <td>Jackie</td>\n",
       "      <td>Stewart</td>\n",
       "      <td>...</td>\n",
       "      <td>31:31.5</td>\n",
       "      <td>5491500</td>\n",
       "      <td>0</td>\n",
       "      <td>0</td>\n",
       "      <td>0</td>\n",
       "      <td>0</td>\n",
       "      <td>1</td>\n",
       "      <td>6</td>\n",
       "      <td>Jackie Stewart</td>\n",
       "      <td>80757.352941</td>\n",
       "    </tr>\n",
       "    <tr>\n",
       "      <th>24878</th>\n",
       "      <td>16700</td>\n",
       "      <td>684</td>\n",
       "      <td>373</td>\n",
       "      <td>1</td>\n",
       "      <td>1</td>\n",
       "      <td>684</td>\n",
       "      <td>1967</td>\n",
       "      <td>9</td>\n",
       "      <td>Jim</td>\n",
       "      <td>Clark</td>\n",
       "      <td>...</td>\n",
       "      <td>59:25.6</td>\n",
       "      <td>7165600</td>\n",
       "      <td>0</td>\n",
       "      <td>0</td>\n",
       "      <td>0</td>\n",
       "      <td>0</td>\n",
       "      <td>1</td>\n",
       "      <td>6</td>\n",
       "      <td>Jim Clark</td>\n",
       "      <td>89570.000000</td>\n",
       "    </tr>\n",
       "    <tr>\n",
       "      <th>24888</th>\n",
       "      <td>17068</td>\n",
       "      <td>703</td>\n",
       "      <td>373</td>\n",
       "      <td>1</td>\n",
       "      <td>1</td>\n",
       "      <td>703</td>\n",
       "      <td>1965</td>\n",
       "      <td>9</td>\n",
       "      <td>Jim</td>\n",
       "      <td>Clark</td>\n",
       "      <td>...</td>\n",
       "      <td>05:25.4</td>\n",
       "      <td>7525400</td>\n",
       "      <td>0</td>\n",
       "      <td>0</td>\n",
       "      <td>0</td>\n",
       "      <td>0</td>\n",
       "      <td>1</td>\n",
       "      <td>5</td>\n",
       "      <td>Jim Clark</td>\n",
       "      <td>94067.500000</td>\n",
       "    </tr>\n",
       "    <tr>\n",
       "      <th>24902</th>\n",
       "      <td>17489</td>\n",
       "      <td>723</td>\n",
       "      <td>373</td>\n",
       "      <td>1</td>\n",
       "      <td>1</td>\n",
       "      <td>723</td>\n",
       "      <td>1963</td>\n",
       "      <td>9</td>\n",
       "      <td>Jim</td>\n",
       "      <td>Clark</td>\n",
       "      <td>...</td>\n",
       "      <td>14:09.6</td>\n",
       "      <td>8049600</td>\n",
       "      <td>0</td>\n",
       "      <td>0</td>\n",
       "      <td>0</td>\n",
       "      <td>0</td>\n",
       "      <td>1</td>\n",
       "      <td>5</td>\n",
       "      <td>Jim Clark</td>\n",
       "      <td>98165.853659</td>\n",
       "    </tr>\n",
       "    <tr>\n",
       "      <th>25292</th>\n",
       "      <td>2777</td>\n",
       "      <td>151</td>\n",
       "      <td>57</td>\n",
       "      <td>1</td>\n",
       "      <td>1</td>\n",
       "      <td>151</td>\n",
       "      <td>2001</td>\n",
       "      <td>9</td>\n",
       "      <td>Mika</td>\n",
       "      <td>Häkkinen</td>\n",
       "      <td>...</td>\n",
       "      <td>25:33.8</td>\n",
       "      <td>5133770</td>\n",
       "      <td>0</td>\n",
       "      <td>0</td>\n",
       "      <td>0</td>\n",
       "      <td>0</td>\n",
       "      <td>1</td>\n",
       "      <td>11</td>\n",
       "      <td>Mika Häkkinen</td>\n",
       "      <td>85562.833333</td>\n",
       "    </tr>\n",
       "    <tr>\n",
       "      <th>25294</th>\n",
       "      <td>2997</td>\n",
       "      <td>161</td>\n",
       "      <td>14</td>\n",
       "      <td>1</td>\n",
       "      <td>1</td>\n",
       "      <td>161</td>\n",
       "      <td>2000</td>\n",
       "      <td>9</td>\n",
       "      <td>David</td>\n",
       "      <td>Coulthard</td>\n",
       "      <td>...</td>\n",
       "      <td>28:50.1</td>\n",
       "      <td>5330108</td>\n",
       "      <td>0</td>\n",
       "      <td>0</td>\n",
       "      <td>0</td>\n",
       "      <td>0</td>\n",
       "      <td>1</td>\n",
       "      <td>4</td>\n",
       "      <td>David Coulthard</td>\n",
       "      <td>88835.133333</td>\n",
       "    </tr>\n",
       "    <tr>\n",
       "      <th>25304</th>\n",
       "      <td>3458</td>\n",
       "      <td>182</td>\n",
       "      <td>14</td>\n",
       "      <td>1</td>\n",
       "      <td>1</td>\n",
       "      <td>182</td>\n",
       "      <td>1999</td>\n",
       "      <td>9</td>\n",
       "      <td>David</td>\n",
       "      <td>Coulthard</td>\n",
       "      <td>...</td>\n",
       "      <td>32:30.1</td>\n",
       "      <td>5550144</td>\n",
       "      <td>0</td>\n",
       "      <td>0</td>\n",
       "      <td>0</td>\n",
       "      <td>0</td>\n",
       "      <td>1</td>\n",
       "      <td>8</td>\n",
       "      <td>David Coulthard</td>\n",
       "      <td>92502.400000</td>\n",
       "    </tr>\n",
       "    <tr>\n",
       "      <th>25349</th>\n",
       "      <td>8145</td>\n",
       "      <td>363</td>\n",
       "      <td>117</td>\n",
       "      <td>1</td>\n",
       "      <td>1</td>\n",
       "      <td>363</td>\n",
       "      <td>1989</td>\n",
       "      <td>9</td>\n",
       "      <td>Alain</td>\n",
       "      <td>Prost</td>\n",
       "      <td>...</td>\n",
       "      <td>19:22.1</td>\n",
       "      <td>4762131</td>\n",
       "      <td>0</td>\n",
       "      <td>0</td>\n",
       "      <td>0</td>\n",
       "      <td>0</td>\n",
       "      <td>1</td>\n",
       "      <td>8</td>\n",
       "      <td>Alain Prost</td>\n",
       "      <td>74408.296875</td>\n",
       "    </tr>\n",
       "    <tr>\n",
       "      <th>25361</th>\n",
       "      <td>8710</td>\n",
       "      <td>379</td>\n",
       "      <td>102</td>\n",
       "      <td>1</td>\n",
       "      <td>1</td>\n",
       "      <td>379</td>\n",
       "      <td>1988</td>\n",
       "      <td>9</td>\n",
       "      <td>Ayrton</td>\n",
       "      <td>Senna</td>\n",
       "      <td>...</td>\n",
       "      <td>33:16.4</td>\n",
       "      <td>5596367</td>\n",
       "      <td>0</td>\n",
       "      <td>0</td>\n",
       "      <td>0</td>\n",
       "      <td>0</td>\n",
       "      <td>1</td>\n",
       "      <td>8</td>\n",
       "      <td>Ayrton Senna</td>\n",
       "      <td>86097.953846</td>\n",
       "    </tr>\n",
       "    <tr>\n",
       "      <th>25378</th>\n",
       "      <td>9998</td>\n",
       "      <td>427</td>\n",
       "      <td>117</td>\n",
       "      <td>1</td>\n",
       "      <td>1</td>\n",
       "      <td>427</td>\n",
       "      <td>1985</td>\n",
       "      <td>9</td>\n",
       "      <td>Alain</td>\n",
       "      <td>Prost</td>\n",
       "      <td>...</td>\n",
       "      <td>18:10.4</td>\n",
       "      <td>4690436</td>\n",
       "      <td>0</td>\n",
       "      <td>0</td>\n",
       "      <td>0</td>\n",
       "      <td>0</td>\n",
       "      <td>1</td>\n",
       "      <td>8</td>\n",
       "      <td>Alain Prost</td>\n",
       "      <td>72160.553846</td>\n",
       "    </tr>\n",
       "    <tr>\n",
       "      <th>25399</th>\n",
       "      <td>11786</td>\n",
       "      <td>491</td>\n",
       "      <td>187</td>\n",
       "      <td>1</td>\n",
       "      <td>1</td>\n",
       "      <td>491</td>\n",
       "      <td>1981</td>\n",
       "      <td>9</td>\n",
       "      <td>John</td>\n",
       "      <td>Watson</td>\n",
       "      <td>...</td>\n",
       "      <td>26:54.8</td>\n",
       "      <td>5214800</td>\n",
       "      <td>0</td>\n",
       "      <td>0</td>\n",
       "      <td>0</td>\n",
       "      <td>0</td>\n",
       "      <td>1</td>\n",
       "      <td>9</td>\n",
       "      <td>John Watson</td>\n",
       "      <td>76688.235294</td>\n",
       "    </tr>\n",
       "    <tr>\n",
       "      <th>25400</th>\n",
       "      <td>13488</td>\n",
       "      <td>552</td>\n",
       "      <td>231</td>\n",
       "      <td>1</td>\n",
       "      <td>1</td>\n",
       "      <td>552</td>\n",
       "      <td>1977</td>\n",
       "      <td>9</td>\n",
       "      <td>James</td>\n",
       "      <td>Hunt</td>\n",
       "      <td>...</td>\n",
       "      <td>31:46.1</td>\n",
       "      <td>5506060</td>\n",
       "      <td>0</td>\n",
       "      <td>0</td>\n",
       "      <td>0</td>\n",
       "      <td>0</td>\n",
       "      <td>1</td>\n",
       "      <td>10</td>\n",
       "      <td>James Hunt</td>\n",
       "      <td>80971.470588</td>\n",
       "    </tr>\n",
       "    <tr>\n",
       "      <th>25411</th>\n",
       "      <td>14389</td>\n",
       "      <td>585</td>\n",
       "      <td>224</td>\n",
       "      <td>1</td>\n",
       "      <td>1</td>\n",
       "      <td>585</td>\n",
       "      <td>1975</td>\n",
       "      <td>9</td>\n",
       "      <td>Emerson</td>\n",
       "      <td>Fittipaldi</td>\n",
       "      <td>...</td>\n",
       "      <td>22:05.0</td>\n",
       "      <td>4925000</td>\n",
       "      <td>0</td>\n",
       "      <td>0</td>\n",
       "      <td>0</td>\n",
       "      <td>0</td>\n",
       "      <td>1</td>\n",
       "      <td>10</td>\n",
       "      <td>Emerson Fittipaldi</td>\n",
       "      <td>87946.428571</td>\n",
       "    </tr>\n",
       "    <tr>\n",
       "      <th>25417</th>\n",
       "      <td>15141</td>\n",
       "      <td>613</td>\n",
       "      <td>309</td>\n",
       "      <td>1</td>\n",
       "      <td>1</td>\n",
       "      <td>613</td>\n",
       "      <td>1973</td>\n",
       "      <td>9</td>\n",
       "      <td>Peter</td>\n",
       "      <td>Revson</td>\n",
       "      <td>...</td>\n",
       "      <td>29:18.5</td>\n",
       "      <td>5358500</td>\n",
       "      <td>0</td>\n",
       "      <td>0</td>\n",
       "      <td>0</td>\n",
       "      <td>0</td>\n",
       "      <td>1</td>\n",
       "      <td>9</td>\n",
       "      <td>Peter Revson</td>\n",
       "      <td>79977.611940</td>\n",
       "    </tr>\n",
       "  </tbody>\n",
       "</table>\n",
       "<p>56 rows × 35 columns</p>\n",
       "</div>"
      ],
      "text/plain": [
       "       resultId  raceId  driverId positionText  positionOrder  races.raceId  \\\n",
       "19562       897      60         4            1              1            60   \n",
       "19917     21866     887         3            1              1           887   \n",
       "20004     22306     908         1            1              1           908   \n",
       "20022     22696     934         1            1              1           934   \n",
       "20040     23115     957         1            1              1           957   \n",
       "20060     23562     978         1            1              1           978   \n",
       "20099     24386    1019         1            1              1          1019   \n",
       "20114     24686    1034         1            1              1          1034   \n",
       "20136     25146    1061         1            1              1          1061   \n",
       "20273     24706    1035       830            1              1          1035   \n",
       "20330      7694       8        20            1              1             8   \n",
       "20465     20539     346        17            1              1           346   \n",
       "20499     21424     868        17            1              1           868   \n",
       "20608       169      26         1            1              1            26   \n",
       "20870      1335      81        31            1              1            81   \n",
       "21491      1715     100        30            1              1           100   \n",
       "21635       545      44         8            1              1            44   \n",
       "21932     23962     998        20            1              1           998   \n",
       "21988     20968     849         4            1              1           849   \n",
       "22238     20025     833       642            1              1           833   \n",
       "22535     16279     661       328            1              1           661   \n",
       "22582     10880     460       117            1              1           460   \n",
       "22757      4899     247        65            1              1           247   \n",
       "23171      2075     118        22            1              1           118   \n",
       "23182      2393     133        30            1              1           133   \n",
       "23218      3831     199        30            1              1           199   \n",
       "23233     18616     771       581            1              1           771   \n",
       "23237     18982     789       579            1              1           789   \n",
       "23239     19301     803       498            1              1           803   \n",
       "23244     19529     813       647            1              1           813   \n",
       "23247     19941     829       498            1              1           829   \n",
       "23254      7257     328       117            1              1           328   \n",
       "23332     19736     821       647            1              1           821   \n",
       "23576      4183     215        35            1              1           215   \n",
       "23592      5331     264        71            1              1           264   \n",
       "23613      5791     281       117            1              1           281   \n",
       "23674     12588     520       223            1              1           520   \n",
       "23741      6242     297        95            1              1           297   \n",
       "23749      6711     312        95            1              1           312   \n",
       "23773      9143     394        95            1              1           394   \n",
       "23828      4579     233        35            1              1           233   \n",
       "24615     18209     752       356            1              1           752   \n",
       "24867     15741     637       328            1              1           637   \n",
       "24878     16700     684       373            1              1           684   \n",
       "24888     17068     703       373            1              1           703   \n",
       "24902     17489     723       373            1              1           723   \n",
       "25292      2777     151        57            1              1           151   \n",
       "25294      2997     161        14            1              1           161   \n",
       "25304      3458     182        14            1              1           182   \n",
       "25349      8145     363       117            1              1           363   \n",
       "25361      8710     379       102            1              1           379   \n",
       "25378      9998     427       117            1              1           427   \n",
       "25399     11786     491       187            1              1           491   \n",
       "25400     13488     552       231            1              1           552   \n",
       "25411     14389     585       224            1              1           585   \n",
       "25417     15141     613       309            1              1           613   \n",
       "\n",
       "       races.year  races.circuitId drivers.forename drivers.surname  ...  \\\n",
       "19562        2006                9         Fernando          Alonso  ...   \n",
       "19917        2013                9             Nico         Rosberg  ...   \n",
       "20004        2014                9            Lewis        Hamilton  ...   \n",
       "20022        2015                9            Lewis        Hamilton  ...   \n",
       "20040        2016                9            Lewis        Hamilton  ...   \n",
       "20060        2017                9            Lewis        Hamilton  ...   \n",
       "20099        2019                9            Lewis        Hamilton  ...   \n",
       "20114        2020                9            Lewis        Hamilton  ...   \n",
       "20136        2021                9            Lewis        Hamilton  ...   \n",
       "20273        2020                9              Max      Verstappen  ...   \n",
       "20330        2009                9        Sebastian          Vettel  ...   \n",
       "20465        2010                9             Mark          Webber  ...   \n",
       "20499        2012                9             Mark          Webber  ...   \n",
       "20608        2008                9            Lewis        Hamilton  ...   \n",
       "20870        2005                9             Juan   Pablo Montoya  ...   \n",
       "21491        2004                9          Michael      Schumacher  ...   \n",
       "21635        2007                9             Kimi       Räikkönen  ...   \n",
       "21932        2018                9        Sebastian          Vettel  ...   \n",
       "21988        2011                9         Fernando          Alonso  ...   \n",
       "22238        1950                9             Nino          Farina  ...   \n",
       "22535        1969                9           Jackie         Stewart  ...   \n",
       "22582        1983                9            Alain           Prost  ...   \n",
       "22757        1995                9           Johnny         Herbert  ...   \n",
       "23171        2003                9           Rubens     Barrichello  ...   \n",
       "23182        2002                9          Michael      Schumacher  ...   \n",
       "23218        1998                9          Michael      Schumacher  ...   \n",
       "23233        1958                9            Peter         Collins  ...   \n",
       "23237        1956                9             Juan          Fangio  ...   \n",
       "23239        1954                9     José Froilán        González  ...   \n",
       "23244        1953                9          Alberto          Ascari  ...   \n",
       "23247        1951                9     José Froilán        González  ...   \n",
       "23254        1990                9            Alain           Prost  ...   \n",
       "23332        1952                9          Alberto          Ascari  ...   \n",
       "23576        1997                9          Jacques      Villeneuve  ...   \n",
       "23592        1994                9            Damon            Hill  ...   \n",
       "23613        1993                9            Alain           Prost  ...   \n",
       "23674        1979                9             Clay       Regazzoni  ...   \n",
       "23741        1992                9            Nigel         Mansell  ...   \n",
       "23749        1991                9            Nigel         Mansell  ...   \n",
       "23773        1987                9            Nigel         Mansell  ...   \n",
       "23828        1996                9          Jacques      Villeneuve  ...   \n",
       "24615        1960                9             Jack         Brabham  ...   \n",
       "24867        1971                9           Jackie         Stewart  ...   \n",
       "24878        1967                9              Jim           Clark  ...   \n",
       "24888        1965                9              Jim           Clark  ...   \n",
       "24902        1963                9              Jim           Clark  ...   \n",
       "25292        2001                9             Mika        Häkkinen  ...   \n",
       "25294        2000                9            David       Coulthard  ...   \n",
       "25304        1999                9            David       Coulthard  ...   \n",
       "25349        1989                9            Alain           Prost  ...   \n",
       "25361        1988                9           Ayrton           Senna  ...   \n",
       "25378        1985                9            Alain           Prost  ...   \n",
       "25399        1981                9             John          Watson  ...   \n",
       "25400        1977                9            James            Hunt  ...   \n",
       "25411        1975                9          Emerson      Fittipaldi  ...   \n",
       "25417        1973                9            Peter          Revson  ...   \n",
       "\n",
       "          time milliseconds fastestLap rank  fastestLapTime  fastestLapSpeed  \\\n",
       "19562  25:51.9      5151927         21    1         01:21.6          226.811   \n",
       "19917  32:59.5      5579456         50    2         01:33.5          226.744   \n",
       "20004  26:52.1      8812094         26    1         01:37.2          218.239   \n",
       "20022  31:27.7      5487729         29    1         01:37.1          218.425   \n",
       "20040  34:55.8      5695831         45    3         01:35.8           221.44   \n",
       "20060  21:27.4      4887430         48    1         01:30.6          234.025   \n",
       "20099  21:08.5      4868452         52    1         01:27.4          242.735   \n",
       "20114  28:01.3      5281283         45    3         01:29.2          237.652   \n",
       "20136  58:23.3      7103284         45    2         01:29.7           236.43   \n",
       "20273  19:42.0      4781993         46    2         01:29.5          237.049   \n",
       "20330  22:49.3      4969328         16    1         01:20.7          229.238   \n",
       "20465  24:38.2      5078200         45    4         01:32.4          229.608   \n",
       "20499  25:11.3      5111288         49    4         01:34.9          223.393   \n",
       "20608  39:09.4      5949440         16    3         01:32.8          199.398   \n",
       "20870  24:29.6      5069588         41    2         01:20.7          229.338   \n",
       "21491  24:42.7      5082700         14    1         01:18.7          235.049   \n",
       "21635  21:43.1      4903074         17    1         01:20.6          229.514   \n",
       "21932  27:29.8      5249784         47    1         01:30.7          233.831   \n",
       "21988  28:41.2      5321196         41    1         01:34.9          223.454   \n",
       "22238  13:23.6      8003600          0    0               0                0   \n",
       "22535  55:55.6      6955600          0    0               0                0   \n",
       "22582  24:39.8      5079780          0    0               0                0   \n",
       "22757  34:35.1      5675093          0    0               0                0   \n",
       "23171  28:37.6      5317554          0    0               0                0   \n",
       "23182  31:45.0      5505015          0    0               0                0   \n",
       "23218  47:02.4      6422400          0    0               0                0   \n",
       "23233  09:04.2      7744200          0    0               0                0   \n",
       "23237  59:47.0     10787000          0    0               0                0   \n",
       "23239  56:14.0     10574000          0    0               0                0   \n",
       "23244  50:00.0     10200000          0    0               0                0   \n",
       "23247  42:18.2      9738200          0    0               0                0   \n",
       "23254  18:31.0      4710999          0    0               0                0   \n",
       "23332  46:11.0      9971000          0    0               0                0   \n",
       "23576  28:01.7      5281665          0    0               0                0   \n",
       "23592  30:03.6      5403640          0    0               0                0   \n",
       "23613  25:38.2      5138189          0    0               0                0   \n",
       "23674  26:11.2      5171170          0    0               0                0   \n",
       "23741  25:43.0      5142991          0    0               0                0   \n",
       "23749  27:35.5      5255479          0    0               0                0   \n",
       "23773  19:11.8      4751780          0    0               0                0   \n",
       "23828  33:00.9      5580874          0    0               0                0   \n",
       "24615  04:24.3      7464300          0    0               0                0   \n",
       "24867  31:31.5      5491500          0    0               0                0   \n",
       "24878  59:25.6      7165600          0    0               0                0   \n",
       "24888  05:25.4      7525400          0    0               0                0   \n",
       "24902  14:09.6      8049600          0    0               0                0   \n",
       "25292  25:33.8      5133770          0    0               0                0   \n",
       "25294  28:50.1      5330108          0    0               0                0   \n",
       "25304  32:30.1      5550144          0    0               0                0   \n",
       "25349  19:22.1      4762131          0    0               0                0   \n",
       "25361  33:16.4      5596367          0    0               0                0   \n",
       "25378  18:10.4      4690436          0    0               0                0   \n",
       "25399  26:54.8      5214800          0    0               0                0   \n",
       "25400  31:46.1      5506060          0    0               0                0   \n",
       "25411  22:05.0      4925000          0    0               0                0   \n",
       "25417  29:18.5      5358500          0    0               0                0   \n",
       "\n",
       "      statusId races.round       drivers.fullname     avglaptime  \n",
       "19562        1           8        Fernando Alonso   85865.450000  \n",
       "19917        1           8           Nico Rosberg  107297.230769  \n",
       "20004        1           9         Lewis Hamilton  169463.346154  \n",
       "20022        1           9         Lewis Hamilton  105533.250000  \n",
       "20040        1          10         Lewis Hamilton  109535.211538  \n",
       "20060        1          10         Lewis Hamilton   95831.960784  \n",
       "20099        1          10         Lewis Hamilton   93624.076923  \n",
       "20114        1           4         Lewis Hamilton  101563.134615  \n",
       "20136        1          10         Lewis Hamilton  136601.615385  \n",
       "20273        1           5         Max Verstappen   91961.403846  \n",
       "20330        1           8       Sebastian Vettel   82822.133333  \n",
       "20465        1          10            Mark Webber   97657.692308  \n",
       "20499        1           9            Mark Webber   98294.000000  \n",
       "20608        1           9         Lewis Hamilton   99157.333333  \n",
       "20870        1          11     Juan Pablo Montoya   84493.133333  \n",
       "21491        1          11     Michael Schumacher   84711.666667  \n",
       "21635        1           9         Kimi Räikkönen   83102.949153  \n",
       "21932        1          10       Sebastian Vettel  100957.384615  \n",
       "21988        1           9        Fernando Alonso  102330.692308  \n",
       "22238        1           1            Nino Farina  114337.142857  \n",
       "22535        1           6         Jackie Stewart   82804.761905  \n",
       "22582        1           9            Alain Prost   75817.611940  \n",
       "22757        1           8         Johnny Herbert   93034.311475  \n",
       "23171        1          11     Rubens Barrichello   88625.900000  \n",
       "23182        1          10     Michael Schumacher   91750.250000  \n",
       "23218        1           9     Michael Schumacher  107040.000000  \n",
       "23233        1           7          Peter Collins  103256.000000  \n",
       "23237        1           6            Juan Fangio  106801.980198  \n",
       "23239        1           5  José Froilán González  117488.888889  \n",
       "23244        1           6         Alberto Ascari  113333.333333  \n",
       "23247        1           5  José Froilán González  108202.222222  \n",
       "23254        1           8            Alain Prost   73609.359375  \n",
       "23332        1           5         Alberto Ascari  117305.882353  \n",
       "23576        1           9     Jacques Villeneuve   89519.745763  \n",
       "23592        1           8             Damon Hill   90060.666667  \n",
       "23613        1           9            Alain Prost   87087.949153  \n",
       "23674        1           9         Clay Regazzoni   76046.617647  \n",
       "23741        1           9          Nigel Mansell   87169.338983  \n",
       "23749        1           8          Nigel Mansell   89075.915254  \n",
       "23773        1           7          Nigel Mansell   73104.307692  \n",
       "23828        1          10     Jacques Villeneuve   91489.737705  \n",
       "24615        1           7           Jack Brabham   96938.961039  \n",
       "24867        1           6         Jackie Stewart   80757.352941  \n",
       "24878        1           6              Jim Clark   89570.000000  \n",
       "24888        1           5              Jim Clark   94067.500000  \n",
       "24902        1           5              Jim Clark   98165.853659  \n",
       "25292        1          11          Mika Häkkinen   85562.833333  \n",
       "25294        1           4        David Coulthard   88835.133333  \n",
       "25304        1           8        David Coulthard   92502.400000  \n",
       "25349        1           8            Alain Prost   74408.296875  \n",
       "25361        1           8           Ayrton Senna   86097.953846  \n",
       "25378        1           8            Alain Prost   72160.553846  \n",
       "25399        1           9            John Watson   76688.235294  \n",
       "25400        1          10             James Hunt   80971.470588  \n",
       "25411        1          10     Emerson Fittipaldi   87946.428571  \n",
       "25417        1           9           Peter Revson   79977.611940  \n",
       "\n",
       "[56 rows x 35 columns]"
      ]
     },
     "execution_count": 54,
     "metadata": {},
     "output_type": "execute_result"
    }
   ],
   "source": [
    "avg_lap_time"
   ]
  },
  {
   "cell_type": "code",
   "execution_count": 55,
   "metadata": {},
   "outputs": [
    {
     "data": {
      "application/vnd.plotly.v1+json": {
       "config": {
        "plotlyServerURL": "https://plot.ly"
       },
       "data": [
        {
         "hovertemplate": "drivers.surname=Alonso<br>races.year=%{x}<br>avglaptime=%{y}<extra></extra>",
         "legendgroup": "Alonso",
         "marker": {
          "color": "rgb(103,0,31)",
          "size": 18,
          "symbol": "circle"
         },
         "mode": "markers",
         "name": "Alonso",
         "orientation": "v",
         "showlegend": true,
         "type": "scatter",
         "x": [
          2006,
          2011
         ],
         "xaxis": "x",
         "y": [
          85865.45,
          102330.69230769231
         ],
         "yaxis": "y"
        },
        {
         "hovertemplate": "drivers.surname=Rosberg<br>races.year=%{x}<br>avglaptime=%{y}<extra></extra>",
         "legendgroup": "Rosberg",
         "marker": {
          "color": "rgb(178,24,43)",
          "size": 18,
          "symbol": "circle"
         },
         "mode": "markers",
         "name": "Rosberg",
         "orientation": "v",
         "showlegend": true,
         "type": "scatter",
         "x": [
          2013
         ],
         "xaxis": "x",
         "y": [
          107297.23076923077
         ],
         "yaxis": "y"
        },
        {
         "hovertemplate": "drivers.surname=Hamilton<br>races.year=%{x}<br>avglaptime=%{y}<extra></extra>",
         "legendgroup": "Hamilton",
         "marker": {
          "color": "rgb(214,96,77)",
          "size": 18,
          "symbol": "circle"
         },
         "mode": "markers",
         "name": "Hamilton",
         "orientation": "v",
         "showlegend": true,
         "type": "scatter",
         "x": [
          2014,
          2015,
          2016,
          2017,
          2019,
          2020,
          2021,
          2008
         ],
         "xaxis": "x",
         "y": [
          169463.34615384616,
          105533.25,
          109535.21153846153,
          95831.96078431372,
          93624.07692307692,
          101563.13461538461,
          136601.61538461538,
          99157.33333333333
         ],
         "yaxis": "y"
        },
        {
         "hovertemplate": "drivers.surname=Verstappen<br>races.year=%{x}<br>avglaptime=%{y}<extra></extra>",
         "legendgroup": "Verstappen",
         "marker": {
          "color": "rgb(244,165,130)",
          "size": 18,
          "symbol": "circle"
         },
         "mode": "markers",
         "name": "Verstappen",
         "orientation": "v",
         "showlegend": true,
         "type": "scatter",
         "x": [
          2020
         ],
         "xaxis": "x",
         "y": [
          91961.40384615384
         ],
         "yaxis": "y"
        },
        {
         "hovertemplate": "drivers.surname=Vettel<br>races.year=%{x}<br>avglaptime=%{y}<extra></extra>",
         "legendgroup": "Vettel",
         "marker": {
          "color": "rgb(253,219,199)",
          "size": 18,
          "symbol": "circle"
         },
         "mode": "markers",
         "name": "Vettel",
         "orientation": "v",
         "showlegend": true,
         "type": "scatter",
         "x": [
          2009,
          2018
         ],
         "xaxis": "x",
         "y": [
          82822.13333333333,
          100957.38461538461
         ],
         "yaxis": "y"
        },
        {
         "hovertemplate": "drivers.surname=Webber<br>races.year=%{x}<br>avglaptime=%{y}<extra></extra>",
         "legendgroup": "Webber",
         "marker": {
          "color": "rgb(247,247,247)",
          "size": 18,
          "symbol": "circle"
         },
         "mode": "markers",
         "name": "Webber",
         "orientation": "v",
         "showlegend": true,
         "type": "scatter",
         "x": [
          2010,
          2012
         ],
         "xaxis": "x",
         "y": [
          97657.69230769231,
          98294
         ],
         "yaxis": "y"
        },
        {
         "hovertemplate": "drivers.surname=Pablo Montoya<br>races.year=%{x}<br>avglaptime=%{y}<extra></extra>",
         "legendgroup": "Pablo Montoya",
         "marker": {
          "color": "rgb(209,229,240)",
          "size": 18,
          "symbol": "circle"
         },
         "mode": "markers",
         "name": "Pablo Montoya",
         "orientation": "v",
         "showlegend": true,
         "type": "scatter",
         "x": [
          2005
         ],
         "xaxis": "x",
         "y": [
          84493.13333333333
         ],
         "yaxis": "y"
        },
        {
         "hovertemplate": "drivers.surname=Schumacher<br>races.year=%{x}<br>avglaptime=%{y}<extra></extra>",
         "legendgroup": "Schumacher",
         "marker": {
          "color": "rgb(146,197,222)",
          "size": 18,
          "symbol": "circle"
         },
         "mode": "markers",
         "name": "Schumacher",
         "orientation": "v",
         "showlegend": true,
         "type": "scatter",
         "x": [
          2004,
          2002,
          1998
         ],
         "xaxis": "x",
         "y": [
          84711.66666666667,
          91750.25,
          107040
         ],
         "yaxis": "y"
        },
        {
         "hovertemplate": "drivers.surname=Räikkönen<br>races.year=%{x}<br>avglaptime=%{y}<extra></extra>",
         "legendgroup": "Räikkönen",
         "marker": {
          "color": "rgb(67,147,195)",
          "size": 18,
          "symbol": "circle"
         },
         "mode": "markers",
         "name": "Räikkönen",
         "orientation": "v",
         "showlegend": true,
         "type": "scatter",
         "x": [
          2007
         ],
         "xaxis": "x",
         "y": [
          83102.94915254238
         ],
         "yaxis": "y"
        },
        {
         "hovertemplate": "drivers.surname=Farina<br>races.year=%{x}<br>avglaptime=%{y}<extra></extra>",
         "legendgroup": "Farina",
         "marker": {
          "color": "rgb(33,102,172)",
          "size": 18,
          "symbol": "circle"
         },
         "mode": "markers",
         "name": "Farina",
         "orientation": "v",
         "showlegend": true,
         "type": "scatter",
         "x": [
          1950
         ],
         "xaxis": "x",
         "y": [
          114337.14285714286
         ],
         "yaxis": "y"
        },
        {
         "hovertemplate": "drivers.surname=Stewart<br>races.year=%{x}<br>avglaptime=%{y}<extra></extra>",
         "legendgroup": "Stewart",
         "marker": {
          "color": "rgb(5,48,97)",
          "size": 18,
          "symbol": "circle"
         },
         "mode": "markers",
         "name": "Stewart",
         "orientation": "v",
         "showlegend": true,
         "type": "scatter",
         "x": [
          1969,
          1971
         ],
         "xaxis": "x",
         "y": [
          82804.76190476191,
          80757.35294117648
         ],
         "yaxis": "y"
        },
        {
         "hovertemplate": "drivers.surname=Prost<br>races.year=%{x}<br>avglaptime=%{y}<extra></extra>",
         "legendgroup": "Prost",
         "marker": {
          "color": "rgb(103,0,31)",
          "size": 18,
          "symbol": "circle"
         },
         "mode": "markers",
         "name": "Prost",
         "orientation": "v",
         "showlegend": true,
         "type": "scatter",
         "x": [
          1983,
          1990,
          1993,
          1989,
          1985
         ],
         "xaxis": "x",
         "y": [
          75817.6119402985,
          73609.359375,
          87087.94915254238,
          74408.296875,
          72160.55384615385
         ],
         "yaxis": "y"
        },
        {
         "hovertemplate": "drivers.surname=Herbert<br>races.year=%{x}<br>avglaptime=%{y}<extra></extra>",
         "legendgroup": "Herbert",
         "marker": {
          "color": "rgb(178,24,43)",
          "size": 18,
          "symbol": "circle"
         },
         "mode": "markers",
         "name": "Herbert",
         "orientation": "v",
         "showlegend": true,
         "type": "scatter",
         "x": [
          1995
         ],
         "xaxis": "x",
         "y": [
          93034.31147540984
         ],
         "yaxis": "y"
        },
        {
         "hovertemplate": "drivers.surname=Barrichello<br>races.year=%{x}<br>avglaptime=%{y}<extra></extra>",
         "legendgroup": "Barrichello",
         "marker": {
          "color": "rgb(214,96,77)",
          "size": 18,
          "symbol": "circle"
         },
         "mode": "markers",
         "name": "Barrichello",
         "orientation": "v",
         "showlegend": true,
         "type": "scatter",
         "x": [
          2003
         ],
         "xaxis": "x",
         "y": [
          88625.9
         ],
         "yaxis": "y"
        },
        {
         "hovertemplate": "drivers.surname=Collins<br>races.year=%{x}<br>avglaptime=%{y}<extra></extra>",
         "legendgroup": "Collins",
         "marker": {
          "color": "rgb(244,165,130)",
          "size": 18,
          "symbol": "circle"
         },
         "mode": "markers",
         "name": "Collins",
         "orientation": "v",
         "showlegend": true,
         "type": "scatter",
         "x": [
          1958
         ],
         "xaxis": "x",
         "y": [
          103256
         ],
         "yaxis": "y"
        },
        {
         "hovertemplate": "drivers.surname=Fangio<br>races.year=%{x}<br>avglaptime=%{y}<extra></extra>",
         "legendgroup": "Fangio",
         "marker": {
          "color": "rgb(253,219,199)",
          "size": 18,
          "symbol": "circle"
         },
         "mode": "markers",
         "name": "Fangio",
         "orientation": "v",
         "showlegend": true,
         "type": "scatter",
         "x": [
          1956
         ],
         "xaxis": "x",
         "y": [
          106801.9801980198
         ],
         "yaxis": "y"
        },
        {
         "hovertemplate": "drivers.surname=González<br>races.year=%{x}<br>avglaptime=%{y}<extra></extra>",
         "legendgroup": "González",
         "marker": {
          "color": "rgb(247,247,247)",
          "size": 18,
          "symbol": "circle"
         },
         "mode": "markers",
         "name": "González",
         "orientation": "v",
         "showlegend": true,
         "type": "scatter",
         "x": [
          1954,
          1951
         ],
         "xaxis": "x",
         "y": [
          117488.88888888889,
          108202.22222222222
         ],
         "yaxis": "y"
        },
        {
         "hovertemplate": "drivers.surname=Ascari<br>races.year=%{x}<br>avglaptime=%{y}<extra></extra>",
         "legendgroup": "Ascari",
         "marker": {
          "color": "rgb(209,229,240)",
          "size": 18,
          "symbol": "circle"
         },
         "mode": "markers",
         "name": "Ascari",
         "orientation": "v",
         "showlegend": true,
         "type": "scatter",
         "x": [
          1953,
          1952
         ],
         "xaxis": "x",
         "y": [
          113333.33333333333,
          117305.88235294117
         ],
         "yaxis": "y"
        },
        {
         "hovertemplate": "drivers.surname=Villeneuve<br>races.year=%{x}<br>avglaptime=%{y}<extra></extra>",
         "legendgroup": "Villeneuve",
         "marker": {
          "color": "rgb(146,197,222)",
          "size": 18,
          "symbol": "circle"
         },
         "mode": "markers",
         "name": "Villeneuve",
         "orientation": "v",
         "showlegend": true,
         "type": "scatter",
         "x": [
          1997,
          1996
         ],
         "xaxis": "x",
         "y": [
          89519.74576271187,
          91489.73770491804
         ],
         "yaxis": "y"
        },
        {
         "hovertemplate": "drivers.surname=Hill<br>races.year=%{x}<br>avglaptime=%{y}<extra></extra>",
         "legendgroup": "Hill",
         "marker": {
          "color": "rgb(67,147,195)",
          "size": 18,
          "symbol": "circle"
         },
         "mode": "markers",
         "name": "Hill",
         "orientation": "v",
         "showlegend": true,
         "type": "scatter",
         "x": [
          1994
         ],
         "xaxis": "x",
         "y": [
          90060.66666666667
         ],
         "yaxis": "y"
        },
        {
         "hovertemplate": "drivers.surname=Regazzoni<br>races.year=%{x}<br>avglaptime=%{y}<extra></extra>",
         "legendgroup": "Regazzoni",
         "marker": {
          "color": "rgb(33,102,172)",
          "size": 18,
          "symbol": "circle"
         },
         "mode": "markers",
         "name": "Regazzoni",
         "orientation": "v",
         "showlegend": true,
         "type": "scatter",
         "x": [
          1979
         ],
         "xaxis": "x",
         "y": [
          76046.61764705883
         ],
         "yaxis": "y"
        },
        {
         "hovertemplate": "drivers.surname=Mansell<br>races.year=%{x}<br>avglaptime=%{y}<extra></extra>",
         "legendgroup": "Mansell",
         "marker": {
          "color": "rgb(5,48,97)",
          "size": 18,
          "symbol": "circle"
         },
         "mode": "markers",
         "name": "Mansell",
         "orientation": "v",
         "showlegend": true,
         "type": "scatter",
         "x": [
          1992,
          1991,
          1987
         ],
         "xaxis": "x",
         "y": [
          87169.33898305085,
          89075.91525423729,
          73104.30769230769
         ],
         "yaxis": "y"
        },
        {
         "hovertemplate": "drivers.surname=Brabham<br>races.year=%{x}<br>avglaptime=%{y}<extra></extra>",
         "legendgroup": "Brabham",
         "marker": {
          "color": "rgb(103,0,31)",
          "size": 18,
          "symbol": "circle"
         },
         "mode": "markers",
         "name": "Brabham",
         "orientation": "v",
         "showlegend": true,
         "type": "scatter",
         "x": [
          1960
         ],
         "xaxis": "x",
         "y": [
          96938.96103896105
         ],
         "yaxis": "y"
        },
        {
         "hovertemplate": "drivers.surname=Clark<br>races.year=%{x}<br>avglaptime=%{y}<extra></extra>",
         "legendgroup": "Clark",
         "marker": {
          "color": "rgb(178,24,43)",
          "size": 18,
          "symbol": "circle"
         },
         "mode": "markers",
         "name": "Clark",
         "orientation": "v",
         "showlegend": true,
         "type": "scatter",
         "x": [
          1967,
          1965,
          1963
         ],
         "xaxis": "x",
         "y": [
          89570,
          94067.5,
          98165.85365853658
         ],
         "yaxis": "y"
        },
        {
         "hovertemplate": "drivers.surname=Häkkinen<br>races.year=%{x}<br>avglaptime=%{y}<extra></extra>",
         "legendgroup": "Häkkinen",
         "marker": {
          "color": "rgb(214,96,77)",
          "size": 18,
          "symbol": "circle"
         },
         "mode": "markers",
         "name": "Häkkinen",
         "orientation": "v",
         "showlegend": true,
         "type": "scatter",
         "x": [
          2001
         ],
         "xaxis": "x",
         "y": [
          85562.83333333333
         ],
         "yaxis": "y"
        },
        {
         "hovertemplate": "drivers.surname=Coulthard<br>races.year=%{x}<br>avglaptime=%{y}<extra></extra>",
         "legendgroup": "Coulthard",
         "marker": {
          "color": "rgb(244,165,130)",
          "size": 18,
          "symbol": "circle"
         },
         "mode": "markers",
         "name": "Coulthard",
         "orientation": "v",
         "showlegend": true,
         "type": "scatter",
         "x": [
          2000,
          1999
         ],
         "xaxis": "x",
         "y": [
          88835.13333333333,
          92502.4
         ],
         "yaxis": "y"
        },
        {
         "hovertemplate": "drivers.surname=Senna<br>races.year=%{x}<br>avglaptime=%{y}<extra></extra>",
         "legendgroup": "Senna",
         "marker": {
          "color": "rgb(253,219,199)",
          "size": 18,
          "symbol": "circle"
         },
         "mode": "markers",
         "name": "Senna",
         "orientation": "v",
         "showlegend": true,
         "type": "scatter",
         "x": [
          1988
         ],
         "xaxis": "x",
         "y": [
          86097.95384615385
         ],
         "yaxis": "y"
        },
        {
         "hovertemplate": "drivers.surname=Watson<br>races.year=%{x}<br>avglaptime=%{y}<extra></extra>",
         "legendgroup": "Watson",
         "marker": {
          "color": "rgb(247,247,247)",
          "size": 18,
          "symbol": "circle"
         },
         "mode": "markers",
         "name": "Watson",
         "orientation": "v",
         "showlegend": true,
         "type": "scatter",
         "x": [
          1981
         ],
         "xaxis": "x",
         "y": [
          76688.23529411765
         ],
         "yaxis": "y"
        },
        {
         "hovertemplate": "drivers.surname=Hunt<br>races.year=%{x}<br>avglaptime=%{y}<extra></extra>",
         "legendgroup": "Hunt",
         "marker": {
          "color": "rgb(209,229,240)",
          "size": 18,
          "symbol": "circle"
         },
         "mode": "markers",
         "name": "Hunt",
         "orientation": "v",
         "showlegend": true,
         "type": "scatter",
         "x": [
          1977
         ],
         "xaxis": "x",
         "y": [
          80971.4705882353
         ],
         "yaxis": "y"
        },
        {
         "hovertemplate": "drivers.surname=Fittipaldi<br>races.year=%{x}<br>avglaptime=%{y}<extra></extra>",
         "legendgroup": "Fittipaldi",
         "marker": {
          "color": "rgb(146,197,222)",
          "size": 18,
          "symbol": "circle"
         },
         "mode": "markers",
         "name": "Fittipaldi",
         "orientation": "v",
         "showlegend": true,
         "type": "scatter",
         "x": [
          1975
         ],
         "xaxis": "x",
         "y": [
          87946.42857142857
         ],
         "yaxis": "y"
        },
        {
         "hovertemplate": "drivers.surname=Revson<br>races.year=%{x}<br>avglaptime=%{y}<extra></extra>",
         "legendgroup": "Revson",
         "marker": {
          "color": "rgb(67,147,195)",
          "size": 18,
          "symbol": "circle"
         },
         "mode": "markers",
         "name": "Revson",
         "orientation": "v",
         "showlegend": true,
         "type": "scatter",
         "x": [
          1973
         ],
         "xaxis": "x",
         "y": [
          79977.6119402985
         ],
         "yaxis": "y"
        }
       ],
       "layout": {
        "font": {
         "color": "white"
        },
        "legend": {
         "title": {
          "text": "drivers.surname"
         },
         "tracegroupgap": 0
        },
        "margin": {
         "t": 60
        },
        "paper_bgcolor": "rgba(0,0,0,0)",
        "plot_bgcolor": "rgba(0,0,0,0)",
        "template": {
         "data": {
          "bar": [
           {
            "error_x": {
             "color": "#2a3f5f"
            },
            "error_y": {
             "color": "#2a3f5f"
            },
            "marker": {
             "line": {
              "color": "#E5ECF6",
              "width": 0.5
             }
            },
            "type": "bar"
           }
          ],
          "barpolar": [
           {
            "marker": {
             "line": {
              "color": "#E5ECF6",
              "width": 0.5
             }
            },
            "type": "barpolar"
           }
          ],
          "carpet": [
           {
            "aaxis": {
             "endlinecolor": "#2a3f5f",
             "gridcolor": "white",
             "linecolor": "white",
             "minorgridcolor": "white",
             "startlinecolor": "#2a3f5f"
            },
            "baxis": {
             "endlinecolor": "#2a3f5f",
             "gridcolor": "white",
             "linecolor": "white",
             "minorgridcolor": "white",
             "startlinecolor": "#2a3f5f"
            },
            "type": "carpet"
           }
          ],
          "choropleth": [
           {
            "colorbar": {
             "outlinewidth": 0,
             "ticks": ""
            },
            "type": "choropleth"
           }
          ],
          "contour": [
           {
            "colorbar": {
             "outlinewidth": 0,
             "ticks": ""
            },
            "colorscale": [
             [
              0,
              "#0d0887"
             ],
             [
              0.1111111111111111,
              "#46039f"
             ],
             [
              0.2222222222222222,
              "#7201a8"
             ],
             [
              0.3333333333333333,
              "#9c179e"
             ],
             [
              0.4444444444444444,
              "#bd3786"
             ],
             [
              0.5555555555555556,
              "#d8576b"
             ],
             [
              0.6666666666666666,
              "#ed7953"
             ],
             [
              0.7777777777777778,
              "#fb9f3a"
             ],
             [
              0.8888888888888888,
              "#fdca26"
             ],
             [
              1,
              "#f0f921"
             ]
            ],
            "type": "contour"
           }
          ],
          "contourcarpet": [
           {
            "colorbar": {
             "outlinewidth": 0,
             "ticks": ""
            },
            "type": "contourcarpet"
           }
          ],
          "heatmap": [
           {
            "colorbar": {
             "outlinewidth": 0,
             "ticks": ""
            },
            "colorscale": [
             [
              0,
              "#0d0887"
             ],
             [
              0.1111111111111111,
              "#46039f"
             ],
             [
              0.2222222222222222,
              "#7201a8"
             ],
             [
              0.3333333333333333,
              "#9c179e"
             ],
             [
              0.4444444444444444,
              "#bd3786"
             ],
             [
              0.5555555555555556,
              "#d8576b"
             ],
             [
              0.6666666666666666,
              "#ed7953"
             ],
             [
              0.7777777777777778,
              "#fb9f3a"
             ],
             [
              0.8888888888888888,
              "#fdca26"
             ],
             [
              1,
              "#f0f921"
             ]
            ],
            "type": "heatmap"
           }
          ],
          "heatmapgl": [
           {
            "colorbar": {
             "outlinewidth": 0,
             "ticks": ""
            },
            "colorscale": [
             [
              0,
              "#0d0887"
             ],
             [
              0.1111111111111111,
              "#46039f"
             ],
             [
              0.2222222222222222,
              "#7201a8"
             ],
             [
              0.3333333333333333,
              "#9c179e"
             ],
             [
              0.4444444444444444,
              "#bd3786"
             ],
             [
              0.5555555555555556,
              "#d8576b"
             ],
             [
              0.6666666666666666,
              "#ed7953"
             ],
             [
              0.7777777777777778,
              "#fb9f3a"
             ],
             [
              0.8888888888888888,
              "#fdca26"
             ],
             [
              1,
              "#f0f921"
             ]
            ],
            "type": "heatmapgl"
           }
          ],
          "histogram": [
           {
            "marker": {
             "colorbar": {
              "outlinewidth": 0,
              "ticks": ""
             }
            },
            "type": "histogram"
           }
          ],
          "histogram2d": [
           {
            "colorbar": {
             "outlinewidth": 0,
             "ticks": ""
            },
            "colorscale": [
             [
              0,
              "#0d0887"
             ],
             [
              0.1111111111111111,
              "#46039f"
             ],
             [
              0.2222222222222222,
              "#7201a8"
             ],
             [
              0.3333333333333333,
              "#9c179e"
             ],
             [
              0.4444444444444444,
              "#bd3786"
             ],
             [
              0.5555555555555556,
              "#d8576b"
             ],
             [
              0.6666666666666666,
              "#ed7953"
             ],
             [
              0.7777777777777778,
              "#fb9f3a"
             ],
             [
              0.8888888888888888,
              "#fdca26"
             ],
             [
              1,
              "#f0f921"
             ]
            ],
            "type": "histogram2d"
           }
          ],
          "histogram2dcontour": [
           {
            "colorbar": {
             "outlinewidth": 0,
             "ticks": ""
            },
            "colorscale": [
             [
              0,
              "#0d0887"
             ],
             [
              0.1111111111111111,
              "#46039f"
             ],
             [
              0.2222222222222222,
              "#7201a8"
             ],
             [
              0.3333333333333333,
              "#9c179e"
             ],
             [
              0.4444444444444444,
              "#bd3786"
             ],
             [
              0.5555555555555556,
              "#d8576b"
             ],
             [
              0.6666666666666666,
              "#ed7953"
             ],
             [
              0.7777777777777778,
              "#fb9f3a"
             ],
             [
              0.8888888888888888,
              "#fdca26"
             ],
             [
              1,
              "#f0f921"
             ]
            ],
            "type": "histogram2dcontour"
           }
          ],
          "mesh3d": [
           {
            "colorbar": {
             "outlinewidth": 0,
             "ticks": ""
            },
            "type": "mesh3d"
           }
          ],
          "parcoords": [
           {
            "line": {
             "colorbar": {
              "outlinewidth": 0,
              "ticks": ""
             }
            },
            "type": "parcoords"
           }
          ],
          "pie": [
           {
            "automargin": true,
            "type": "pie"
           }
          ],
          "scatter": [
           {
            "marker": {
             "colorbar": {
              "outlinewidth": 0,
              "ticks": ""
             }
            },
            "type": "scatter"
           }
          ],
          "scatter3d": [
           {
            "line": {
             "colorbar": {
              "outlinewidth": 0,
              "ticks": ""
             }
            },
            "marker": {
             "colorbar": {
              "outlinewidth": 0,
              "ticks": ""
             }
            },
            "type": "scatter3d"
           }
          ],
          "scattercarpet": [
           {
            "marker": {
             "colorbar": {
              "outlinewidth": 0,
              "ticks": ""
             }
            },
            "type": "scattercarpet"
           }
          ],
          "scattergeo": [
           {
            "marker": {
             "colorbar": {
              "outlinewidth": 0,
              "ticks": ""
             }
            },
            "type": "scattergeo"
           }
          ],
          "scattergl": [
           {
            "marker": {
             "colorbar": {
              "outlinewidth": 0,
              "ticks": ""
             }
            },
            "type": "scattergl"
           }
          ],
          "scattermapbox": [
           {
            "marker": {
             "colorbar": {
              "outlinewidth": 0,
              "ticks": ""
             }
            },
            "type": "scattermapbox"
           }
          ],
          "scatterpolar": [
           {
            "marker": {
             "colorbar": {
              "outlinewidth": 0,
              "ticks": ""
             }
            },
            "type": "scatterpolar"
           }
          ],
          "scatterpolargl": [
           {
            "marker": {
             "colorbar": {
              "outlinewidth": 0,
              "ticks": ""
             }
            },
            "type": "scatterpolargl"
           }
          ],
          "scatterternary": [
           {
            "marker": {
             "colorbar": {
              "outlinewidth": 0,
              "ticks": ""
             }
            },
            "type": "scatterternary"
           }
          ],
          "surface": [
           {
            "colorbar": {
             "outlinewidth": 0,
             "ticks": ""
            },
            "colorscale": [
             [
              0,
              "#0d0887"
             ],
             [
              0.1111111111111111,
              "#46039f"
             ],
             [
              0.2222222222222222,
              "#7201a8"
             ],
             [
              0.3333333333333333,
              "#9c179e"
             ],
             [
              0.4444444444444444,
              "#bd3786"
             ],
             [
              0.5555555555555556,
              "#d8576b"
             ],
             [
              0.6666666666666666,
              "#ed7953"
             ],
             [
              0.7777777777777778,
              "#fb9f3a"
             ],
             [
              0.8888888888888888,
              "#fdca26"
             ],
             [
              1,
              "#f0f921"
             ]
            ],
            "type": "surface"
           }
          ],
          "table": [
           {
            "cells": {
             "fill": {
              "color": "#EBF0F8"
             },
             "line": {
              "color": "white"
             }
            },
            "header": {
             "fill": {
              "color": "#C8D4E3"
             },
             "line": {
              "color": "white"
             }
            },
            "type": "table"
           }
          ]
         },
         "layout": {
          "annotationdefaults": {
           "arrowcolor": "#2a3f5f",
           "arrowhead": 0,
           "arrowwidth": 1
          },
          "autotypenumbers": "strict",
          "coloraxis": {
           "colorbar": {
            "outlinewidth": 0,
            "ticks": ""
           }
          },
          "colorscale": {
           "diverging": [
            [
             0,
             "#8e0152"
            ],
            [
             0.1,
             "#c51b7d"
            ],
            [
             0.2,
             "#de77ae"
            ],
            [
             0.3,
             "#f1b6da"
            ],
            [
             0.4,
             "#fde0ef"
            ],
            [
             0.5,
             "#f7f7f7"
            ],
            [
             0.6,
             "#e6f5d0"
            ],
            [
             0.7,
             "#b8e186"
            ],
            [
             0.8,
             "#7fbc41"
            ],
            [
             0.9,
             "#4d9221"
            ],
            [
             1,
             "#276419"
            ]
           ],
           "sequential": [
            [
             0,
             "#0d0887"
            ],
            [
             0.1111111111111111,
             "#46039f"
            ],
            [
             0.2222222222222222,
             "#7201a8"
            ],
            [
             0.3333333333333333,
             "#9c179e"
            ],
            [
             0.4444444444444444,
             "#bd3786"
            ],
            [
             0.5555555555555556,
             "#d8576b"
            ],
            [
             0.6666666666666666,
             "#ed7953"
            ],
            [
             0.7777777777777778,
             "#fb9f3a"
            ],
            [
             0.8888888888888888,
             "#fdca26"
            ],
            [
             1,
             "#f0f921"
            ]
           ],
           "sequentialminus": [
            [
             0,
             "#0d0887"
            ],
            [
             0.1111111111111111,
             "#46039f"
            ],
            [
             0.2222222222222222,
             "#7201a8"
            ],
            [
             0.3333333333333333,
             "#9c179e"
            ],
            [
             0.4444444444444444,
             "#bd3786"
            ],
            [
             0.5555555555555556,
             "#d8576b"
            ],
            [
             0.6666666666666666,
             "#ed7953"
            ],
            [
             0.7777777777777778,
             "#fb9f3a"
            ],
            [
             0.8888888888888888,
             "#fdca26"
            ],
            [
             1,
             "#f0f921"
            ]
           ]
          },
          "colorway": [
           "#636efa",
           "#EF553B",
           "#00cc96",
           "#ab63fa",
           "#FFA15A",
           "#19d3f3",
           "#FF6692",
           "#B6E880",
           "#FF97FF",
           "#FECB52"
          ],
          "font": {
           "color": "#2a3f5f"
          },
          "geo": {
           "bgcolor": "white",
           "lakecolor": "white",
           "landcolor": "#E5ECF6",
           "showlakes": true,
           "showland": true,
           "subunitcolor": "white"
          },
          "hoverlabel": {
           "align": "left"
          },
          "hovermode": "closest",
          "mapbox": {
           "style": "light"
          },
          "paper_bgcolor": "white",
          "plot_bgcolor": "#E5ECF6",
          "polar": {
           "angularaxis": {
            "gridcolor": "white",
            "linecolor": "white",
            "ticks": ""
           },
           "bgcolor": "#E5ECF6",
           "radialaxis": {
            "gridcolor": "white",
            "linecolor": "white",
            "ticks": ""
           }
          },
          "scene": {
           "xaxis": {
            "backgroundcolor": "#E5ECF6",
            "gridcolor": "white",
            "gridwidth": 2,
            "linecolor": "white",
            "showbackground": true,
            "ticks": "",
            "zerolinecolor": "white"
           },
           "yaxis": {
            "backgroundcolor": "#E5ECF6",
            "gridcolor": "white",
            "gridwidth": 2,
            "linecolor": "white",
            "showbackground": true,
            "ticks": "",
            "zerolinecolor": "white"
           },
           "zaxis": {
            "backgroundcolor": "#E5ECF6",
            "gridcolor": "white",
            "gridwidth": 2,
            "linecolor": "white",
            "showbackground": true,
            "ticks": "",
            "zerolinecolor": "white"
           }
          },
          "shapedefaults": {
           "line": {
            "color": "#2a3f5f"
           }
          },
          "ternary": {
           "aaxis": {
            "gridcolor": "white",
            "linecolor": "white",
            "ticks": ""
           },
           "baxis": {
            "gridcolor": "white",
            "linecolor": "white",
            "ticks": ""
           },
           "bgcolor": "#E5ECF6",
           "caxis": {
            "gridcolor": "white",
            "linecolor": "white",
            "ticks": ""
           }
          },
          "title": {
           "x": 0.05
          },
          "xaxis": {
           "automargin": true,
           "gridcolor": "white",
           "linecolor": "white",
           "ticks": "",
           "title": {
            "standoff": 15
           },
           "zerolinecolor": "white",
           "zerolinewidth": 2
          },
          "yaxis": {
           "automargin": true,
           "gridcolor": "white",
           "linecolor": "white",
           "ticks": "",
           "title": {
            "standoff": 15
           },
           "zerolinecolor": "white",
           "zerolinewidth": 2
          }
         }
        },
        "xaxis": {
         "anchor": "y",
         "domain": [
          0,
          1
         ],
         "title": {
          "text": "Race Year"
         }
        },
        "yaxis": {
         "anchor": "x",
         "domain": [
          0,
          1
         ],
         "tickformat": "%M:%S:%ss",
         "title": {
          "text": "Average Lap Time"
         },
         "type": "date"
        }
       }
      }
     },
     "metadata": {},
     "output_type": "display_data"
    }
   ],
   "source": [
    "laptime = px.scatter(avg_lap_time, x=\"races.year\", y=\"avglaptime\",color_discrete_sequence=px.colors.sequential.RdBu, color=\"drivers.surname\")\n",
    "laptime.update_layout(font_color = 'white', paper_bgcolor='rgba(0,0,0,0)', yaxis = {'type': 'date','tickformat': '%M:%S:%ss'},\n",
    "                      plot_bgcolor='rgba(0,0,0,0)', xaxis_title=\"Race Year\",\n",
    "                      yaxis_title=\"Average Lap Time\")\n",
    "laptime.update_traces(marker=dict(size=18))"
   ]
  },
  {
   "cell_type": "code",
   "execution_count": 57,
   "metadata": {},
   "outputs": [],
   "source": [
    "msd = df_final_circuit[(df_final_circuit['positionText'] == 1)].groupby('drivers.fullname')['drivers.fullname'].count().sort_values(ascending = False).index.tolist()\n",
    "    "
   ]
  },
  {
   "cell_type": "code",
   "execution_count": 59,
   "metadata": {},
   "outputs": [
    {
     "data": {
      "text/plain": [
       "[]"
      ]
     },
     "execution_count": 59,
     "metadata": {},
     "output_type": "execute_result"
    }
   ],
   "source": [
    "msd"
   ]
  },
  {
   "cell_type": "code",
   "execution_count": 62,
   "metadata": {},
   "outputs": [],
   "source": [
    "# semi_circle\n",
    "total_races = len(df_final_circuit['races.year'].unique())\n",
    "pole_is_win = len(df_final_circuit[(df_final_circuit['positionText'] == '1') & (df_final_circuit['grid'] == '1')])\n",
    "number_accidents = len(df_final_circuit[(df_final_circuit['statusId'] == 3) | (df_final_circuit['statusId'] == 4)])\n",
    "race_with_accident = len(df_final_circuit[(df_final_circuit['statusId'] == 3) | (df_final_circuit['statusId'] == 4)].groupby('races.year').count())\n",
    "final_accidents = int((round(race_with_accident/total_races, 2))*100)\n",
    "final_polewin =int((round(pole_is_win/total_races, 2))*100)\n"
   ]
  },
  {
   "cell_type": "code",
   "execution_count": 71,
   "metadata": {},
   "outputs": [
    {
     "data": {
      "text/html": [
       "<div>\n",
       "<style scoped>\n",
       "    .dataframe tbody tr th:only-of-type {\n",
       "        vertical-align: middle;\n",
       "    }\n",
       "\n",
       "    .dataframe tbody tr th {\n",
       "        vertical-align: top;\n",
       "    }\n",
       "\n",
       "    .dataframe thead th {\n",
       "        text-align: right;\n",
       "    }\n",
       "</style>\n",
       "<table border=\"1\" class=\"dataframe\">\n",
       "  <thead>\n",
       "    <tr style=\"text-align: right;\">\n",
       "      <th></th>\n",
       "      <th>resultId</th>\n",
       "      <th>raceId</th>\n",
       "      <th>driverId</th>\n",
       "      <th>positionText</th>\n",
       "      <th>positionOrder</th>\n",
       "      <th>races.raceId</th>\n",
       "      <th>races.circuitId</th>\n",
       "      <th>drivers.forename</th>\n",
       "      <th>drivers.surname</th>\n",
       "      <th>drivers.nationality</th>\n",
       "      <th>...</th>\n",
       "      <th>laps</th>\n",
       "      <th>time</th>\n",
       "      <th>milliseconds</th>\n",
       "      <th>fastestLap</th>\n",
       "      <th>rank</th>\n",
       "      <th>fastestLapTime</th>\n",
       "      <th>fastestLapSpeed</th>\n",
       "      <th>statusId</th>\n",
       "      <th>races.round</th>\n",
       "      <th>drivers.fullname</th>\n",
       "    </tr>\n",
       "    <tr>\n",
       "      <th>races.year</th>\n",
       "      <th></th>\n",
       "      <th></th>\n",
       "      <th></th>\n",
       "      <th></th>\n",
       "      <th></th>\n",
       "      <th></th>\n",
       "      <th></th>\n",
       "      <th></th>\n",
       "      <th></th>\n",
       "      <th></th>\n",
       "      <th></th>\n",
       "      <th></th>\n",
       "      <th></th>\n",
       "      <th></th>\n",
       "      <th></th>\n",
       "      <th></th>\n",
       "      <th></th>\n",
       "      <th></th>\n",
       "      <th></th>\n",
       "      <th></th>\n",
       "      <th></th>\n",
       "    </tr>\n",
       "  </thead>\n",
       "  <tbody>\n",
       "    <tr>\n",
       "      <th>1954</th>\n",
       "      <td>4</td>\n",
       "      <td>4</td>\n",
       "      <td>4</td>\n",
       "      <td>4</td>\n",
       "      <td>4</td>\n",
       "      <td>4</td>\n",
       "      <td>4</td>\n",
       "      <td>4</td>\n",
       "      <td>4</td>\n",
       "      <td>4</td>\n",
       "      <td>...</td>\n",
       "      <td>4</td>\n",
       "      <td>4</td>\n",
       "      <td>4</td>\n",
       "      <td>4</td>\n",
       "      <td>4</td>\n",
       "      <td>4</td>\n",
       "      <td>4</td>\n",
       "      <td>4</td>\n",
       "      <td>4</td>\n",
       "      <td>4</td>\n",
       "    </tr>\n",
       "    <tr>\n",
       "      <th>1956</th>\n",
       "      <td>1</td>\n",
       "      <td>1</td>\n",
       "      <td>1</td>\n",
       "      <td>1</td>\n",
       "      <td>1</td>\n",
       "      <td>1</td>\n",
       "      <td>1</td>\n",
       "      <td>1</td>\n",
       "      <td>1</td>\n",
       "      <td>1</td>\n",
       "      <td>...</td>\n",
       "      <td>1</td>\n",
       "      <td>1</td>\n",
       "      <td>1</td>\n",
       "      <td>1</td>\n",
       "      <td>1</td>\n",
       "      <td>1</td>\n",
       "      <td>1</td>\n",
       "      <td>1</td>\n",
       "      <td>1</td>\n",
       "      <td>1</td>\n",
       "    </tr>\n",
       "    <tr>\n",
       "      <th>1971</th>\n",
       "      <td>2</td>\n",
       "      <td>2</td>\n",
       "      <td>2</td>\n",
       "      <td>2</td>\n",
       "      <td>2</td>\n",
       "      <td>2</td>\n",
       "      <td>2</td>\n",
       "      <td>2</td>\n",
       "      <td>2</td>\n",
       "      <td>2</td>\n",
       "      <td>...</td>\n",
       "      <td>2</td>\n",
       "      <td>2</td>\n",
       "      <td>2</td>\n",
       "      <td>2</td>\n",
       "      <td>2</td>\n",
       "      <td>2</td>\n",
       "      <td>2</td>\n",
       "      <td>2</td>\n",
       "      <td>2</td>\n",
       "      <td>2</td>\n",
       "    </tr>\n",
       "    <tr>\n",
       "      <th>1973</th>\n",
       "      <td>9</td>\n",
       "      <td>9</td>\n",
       "      <td>9</td>\n",
       "      <td>9</td>\n",
       "      <td>9</td>\n",
       "      <td>9</td>\n",
       "      <td>9</td>\n",
       "      <td>9</td>\n",
       "      <td>9</td>\n",
       "      <td>9</td>\n",
       "      <td>...</td>\n",
       "      <td>9</td>\n",
       "      <td>9</td>\n",
       "      <td>9</td>\n",
       "      <td>9</td>\n",
       "      <td>9</td>\n",
       "      <td>9</td>\n",
       "      <td>9</td>\n",
       "      <td>9</td>\n",
       "      <td>9</td>\n",
       "      <td>9</td>\n",
       "    </tr>\n",
       "    <tr>\n",
       "      <th>1975</th>\n",
       "      <td>16</td>\n",
       "      <td>16</td>\n",
       "      <td>16</td>\n",
       "      <td>16</td>\n",
       "      <td>16</td>\n",
       "      <td>16</td>\n",
       "      <td>16</td>\n",
       "      <td>16</td>\n",
       "      <td>16</td>\n",
       "      <td>16</td>\n",
       "      <td>...</td>\n",
       "      <td>16</td>\n",
       "      <td>16</td>\n",
       "      <td>16</td>\n",
       "      <td>16</td>\n",
       "      <td>16</td>\n",
       "      <td>16</td>\n",
       "      <td>16</td>\n",
       "      <td>16</td>\n",
       "      <td>16</td>\n",
       "      <td>16</td>\n",
       "    </tr>\n",
       "    <tr>\n",
       "      <th>1977</th>\n",
       "      <td>2</td>\n",
       "      <td>2</td>\n",
       "      <td>2</td>\n",
       "      <td>2</td>\n",
       "      <td>2</td>\n",
       "      <td>2</td>\n",
       "      <td>2</td>\n",
       "      <td>2</td>\n",
       "      <td>2</td>\n",
       "      <td>2</td>\n",
       "      <td>...</td>\n",
       "      <td>2</td>\n",
       "      <td>2</td>\n",
       "      <td>2</td>\n",
       "      <td>2</td>\n",
       "      <td>2</td>\n",
       "      <td>2</td>\n",
       "      <td>2</td>\n",
       "      <td>2</td>\n",
       "      <td>2</td>\n",
       "      <td>2</td>\n",
       "    </tr>\n",
       "    <tr>\n",
       "      <th>1981</th>\n",
       "      <td>1</td>\n",
       "      <td>1</td>\n",
       "      <td>1</td>\n",
       "      <td>1</td>\n",
       "      <td>1</td>\n",
       "      <td>1</td>\n",
       "      <td>1</td>\n",
       "      <td>1</td>\n",
       "      <td>1</td>\n",
       "      <td>1</td>\n",
       "      <td>...</td>\n",
       "      <td>1</td>\n",
       "      <td>1</td>\n",
       "      <td>1</td>\n",
       "      <td>1</td>\n",
       "      <td>1</td>\n",
       "      <td>1</td>\n",
       "      <td>1</td>\n",
       "      <td>1</td>\n",
       "      <td>1</td>\n",
       "      <td>1</td>\n",
       "    </tr>\n",
       "    <tr>\n",
       "      <th>1985</th>\n",
       "      <td>3</td>\n",
       "      <td>3</td>\n",
       "      <td>3</td>\n",
       "      <td>3</td>\n",
       "      <td>3</td>\n",
       "      <td>3</td>\n",
       "      <td>3</td>\n",
       "      <td>3</td>\n",
       "      <td>3</td>\n",
       "      <td>3</td>\n",
       "      <td>...</td>\n",
       "      <td>3</td>\n",
       "      <td>3</td>\n",
       "      <td>3</td>\n",
       "      <td>3</td>\n",
       "      <td>3</td>\n",
       "      <td>3</td>\n",
       "      <td>3</td>\n",
       "      <td>3</td>\n",
       "      <td>3</td>\n",
       "      <td>3</td>\n",
       "    </tr>\n",
       "    <tr>\n",
       "      <th>1987</th>\n",
       "      <td>2</td>\n",
       "      <td>2</td>\n",
       "      <td>2</td>\n",
       "      <td>2</td>\n",
       "      <td>2</td>\n",
       "      <td>2</td>\n",
       "      <td>2</td>\n",
       "      <td>2</td>\n",
       "      <td>2</td>\n",
       "      <td>2</td>\n",
       "      <td>...</td>\n",
       "      <td>2</td>\n",
       "      <td>2</td>\n",
       "      <td>2</td>\n",
       "      <td>2</td>\n",
       "      <td>2</td>\n",
       "      <td>2</td>\n",
       "      <td>2</td>\n",
       "      <td>2</td>\n",
       "      <td>2</td>\n",
       "      <td>2</td>\n",
       "    </tr>\n",
       "    <tr>\n",
       "      <th>1990</th>\n",
       "      <td>1</td>\n",
       "      <td>1</td>\n",
       "      <td>1</td>\n",
       "      <td>1</td>\n",
       "      <td>1</td>\n",
       "      <td>1</td>\n",
       "      <td>1</td>\n",
       "      <td>1</td>\n",
       "      <td>1</td>\n",
       "      <td>1</td>\n",
       "      <td>...</td>\n",
       "      <td>1</td>\n",
       "      <td>1</td>\n",
       "      <td>1</td>\n",
       "      <td>1</td>\n",
       "      <td>1</td>\n",
       "      <td>1</td>\n",
       "      <td>1</td>\n",
       "      <td>1</td>\n",
       "      <td>1</td>\n",
       "      <td>1</td>\n",
       "    </tr>\n",
       "    <tr>\n",
       "      <th>1991</th>\n",
       "      <td>3</td>\n",
       "      <td>3</td>\n",
       "      <td>3</td>\n",
       "      <td>3</td>\n",
       "      <td>3</td>\n",
       "      <td>3</td>\n",
       "      <td>3</td>\n",
       "      <td>3</td>\n",
       "      <td>3</td>\n",
       "      <td>3</td>\n",
       "      <td>...</td>\n",
       "      <td>3</td>\n",
       "      <td>3</td>\n",
       "      <td>3</td>\n",
       "      <td>3</td>\n",
       "      <td>3</td>\n",
       "      <td>3</td>\n",
       "      <td>3</td>\n",
       "      <td>3</td>\n",
       "      <td>3</td>\n",
       "      <td>3</td>\n",
       "    </tr>\n",
       "    <tr>\n",
       "      <th>1995</th>\n",
       "      <td>3</td>\n",
       "      <td>3</td>\n",
       "      <td>3</td>\n",
       "      <td>3</td>\n",
       "      <td>3</td>\n",
       "      <td>3</td>\n",
       "      <td>3</td>\n",
       "      <td>3</td>\n",
       "      <td>3</td>\n",
       "      <td>3</td>\n",
       "      <td>...</td>\n",
       "      <td>3</td>\n",
       "      <td>3</td>\n",
       "      <td>3</td>\n",
       "      <td>3</td>\n",
       "      <td>3</td>\n",
       "      <td>3</td>\n",
       "      <td>3</td>\n",
       "      <td>3</td>\n",
       "      <td>3</td>\n",
       "      <td>3</td>\n",
       "    </tr>\n",
       "    <tr>\n",
       "      <th>1997</th>\n",
       "      <td>1</td>\n",
       "      <td>1</td>\n",
       "      <td>1</td>\n",
       "      <td>1</td>\n",
       "      <td>1</td>\n",
       "      <td>1</td>\n",
       "      <td>1</td>\n",
       "      <td>1</td>\n",
       "      <td>1</td>\n",
       "      <td>1</td>\n",
       "      <td>...</td>\n",
       "      <td>1</td>\n",
       "      <td>1</td>\n",
       "      <td>1</td>\n",
       "      <td>1</td>\n",
       "      <td>1</td>\n",
       "      <td>1</td>\n",
       "      <td>1</td>\n",
       "      <td>1</td>\n",
       "      <td>1</td>\n",
       "      <td>1</td>\n",
       "    </tr>\n",
       "    <tr>\n",
       "      <th>2001</th>\n",
       "      <td>2</td>\n",
       "      <td>2</td>\n",
       "      <td>2</td>\n",
       "      <td>2</td>\n",
       "      <td>2</td>\n",
       "      <td>2</td>\n",
       "      <td>2</td>\n",
       "      <td>2</td>\n",
       "      <td>2</td>\n",
       "      <td>2</td>\n",
       "      <td>...</td>\n",
       "      <td>2</td>\n",
       "      <td>2</td>\n",
       "      <td>2</td>\n",
       "      <td>2</td>\n",
       "      <td>2</td>\n",
       "      <td>2</td>\n",
       "      <td>2</td>\n",
       "      <td>2</td>\n",
       "      <td>2</td>\n",
       "      <td>2</td>\n",
       "    </tr>\n",
       "    <tr>\n",
       "      <th>2004</th>\n",
       "      <td>2</td>\n",
       "      <td>2</td>\n",
       "      <td>2</td>\n",
       "      <td>2</td>\n",
       "      <td>2</td>\n",
       "      <td>2</td>\n",
       "      <td>2</td>\n",
       "      <td>2</td>\n",
       "      <td>2</td>\n",
       "      <td>2</td>\n",
       "      <td>...</td>\n",
       "      <td>2</td>\n",
       "      <td>2</td>\n",
       "      <td>2</td>\n",
       "      <td>2</td>\n",
       "      <td>2</td>\n",
       "      <td>2</td>\n",
       "      <td>2</td>\n",
       "      <td>2</td>\n",
       "      <td>2</td>\n",
       "      <td>2</td>\n",
       "    </tr>\n",
       "    <tr>\n",
       "      <th>2006</th>\n",
       "      <td>3</td>\n",
       "      <td>3</td>\n",
       "      <td>3</td>\n",
       "      <td>3</td>\n",
       "      <td>3</td>\n",
       "      <td>3</td>\n",
       "      <td>3</td>\n",
       "      <td>3</td>\n",
       "      <td>3</td>\n",
       "      <td>3</td>\n",
       "      <td>...</td>\n",
       "      <td>3</td>\n",
       "      <td>3</td>\n",
       "      <td>3</td>\n",
       "      <td>3</td>\n",
       "      <td>3</td>\n",
       "      <td>3</td>\n",
       "      <td>3</td>\n",
       "      <td>3</td>\n",
       "      <td>3</td>\n",
       "      <td>3</td>\n",
       "    </tr>\n",
       "    <tr>\n",
       "      <th>2007</th>\n",
       "      <td>1</td>\n",
       "      <td>1</td>\n",
       "      <td>1</td>\n",
       "      <td>1</td>\n",
       "      <td>1</td>\n",
       "      <td>1</td>\n",
       "      <td>1</td>\n",
       "      <td>1</td>\n",
       "      <td>1</td>\n",
       "      <td>1</td>\n",
       "      <td>...</td>\n",
       "      <td>1</td>\n",
       "      <td>1</td>\n",
       "      <td>1</td>\n",
       "      <td>1</td>\n",
       "      <td>1</td>\n",
       "      <td>1</td>\n",
       "      <td>1</td>\n",
       "      <td>1</td>\n",
       "      <td>1</td>\n",
       "      <td>1</td>\n",
       "    </tr>\n",
       "    <tr>\n",
       "      <th>2008</th>\n",
       "      <td>2</td>\n",
       "      <td>2</td>\n",
       "      <td>2</td>\n",
       "      <td>2</td>\n",
       "      <td>2</td>\n",
       "      <td>2</td>\n",
       "      <td>2</td>\n",
       "      <td>2</td>\n",
       "      <td>2</td>\n",
       "      <td>2</td>\n",
       "      <td>...</td>\n",
       "      <td>2</td>\n",
       "      <td>2</td>\n",
       "      <td>2</td>\n",
       "      <td>2</td>\n",
       "      <td>2</td>\n",
       "      <td>2</td>\n",
       "      <td>2</td>\n",
       "      <td>2</td>\n",
       "      <td>2</td>\n",
       "      <td>2</td>\n",
       "    </tr>\n",
       "    <tr>\n",
       "      <th>2009</th>\n",
       "      <td>2</td>\n",
       "      <td>2</td>\n",
       "      <td>2</td>\n",
       "      <td>2</td>\n",
       "      <td>2</td>\n",
       "      <td>2</td>\n",
       "      <td>2</td>\n",
       "      <td>2</td>\n",
       "      <td>2</td>\n",
       "      <td>2</td>\n",
       "      <td>...</td>\n",
       "      <td>2</td>\n",
       "      <td>2</td>\n",
       "      <td>2</td>\n",
       "      <td>2</td>\n",
       "      <td>2</td>\n",
       "      <td>2</td>\n",
       "      <td>2</td>\n",
       "      <td>2</td>\n",
       "      <td>2</td>\n",
       "      <td>2</td>\n",
       "    </tr>\n",
       "    <tr>\n",
       "      <th>2010</th>\n",
       "      <td>1</td>\n",
       "      <td>1</td>\n",
       "      <td>1</td>\n",
       "      <td>1</td>\n",
       "      <td>1</td>\n",
       "      <td>1</td>\n",
       "      <td>1</td>\n",
       "      <td>1</td>\n",
       "      <td>1</td>\n",
       "      <td>1</td>\n",
       "      <td>...</td>\n",
       "      <td>1</td>\n",
       "      <td>1</td>\n",
       "      <td>1</td>\n",
       "      <td>1</td>\n",
       "      <td>1</td>\n",
       "      <td>1</td>\n",
       "      <td>1</td>\n",
       "      <td>1</td>\n",
       "      <td>1</td>\n",
       "      <td>1</td>\n",
       "    </tr>\n",
       "    <tr>\n",
       "      <th>2011</th>\n",
       "      <td>1</td>\n",
       "      <td>1</td>\n",
       "      <td>1</td>\n",
       "      <td>1</td>\n",
       "      <td>1</td>\n",
       "      <td>1</td>\n",
       "      <td>1</td>\n",
       "      <td>1</td>\n",
       "      <td>1</td>\n",
       "      <td>1</td>\n",
       "      <td>...</td>\n",
       "      <td>1</td>\n",
       "      <td>1</td>\n",
       "      <td>1</td>\n",
       "      <td>1</td>\n",
       "      <td>1</td>\n",
       "      <td>1</td>\n",
       "      <td>1</td>\n",
       "      <td>1</td>\n",
       "      <td>1</td>\n",
       "      <td>1</td>\n",
       "    </tr>\n",
       "    <tr>\n",
       "      <th>2012</th>\n",
       "      <td>2</td>\n",
       "      <td>2</td>\n",
       "      <td>2</td>\n",
       "      <td>2</td>\n",
       "      <td>2</td>\n",
       "      <td>2</td>\n",
       "      <td>2</td>\n",
       "      <td>2</td>\n",
       "      <td>2</td>\n",
       "      <td>2</td>\n",
       "      <td>...</td>\n",
       "      <td>2</td>\n",
       "      <td>2</td>\n",
       "      <td>2</td>\n",
       "      <td>2</td>\n",
       "      <td>2</td>\n",
       "      <td>2</td>\n",
       "      <td>2</td>\n",
       "      <td>2</td>\n",
       "      <td>2</td>\n",
       "      <td>2</td>\n",
       "    </tr>\n",
       "    <tr>\n",
       "      <th>2014</th>\n",
       "      <td>3</td>\n",
       "      <td>3</td>\n",
       "      <td>3</td>\n",
       "      <td>3</td>\n",
       "      <td>3</td>\n",
       "      <td>3</td>\n",
       "      <td>3</td>\n",
       "      <td>3</td>\n",
       "      <td>3</td>\n",
       "      <td>3</td>\n",
       "      <td>...</td>\n",
       "      <td>3</td>\n",
       "      <td>3</td>\n",
       "      <td>3</td>\n",
       "      <td>3</td>\n",
       "      <td>3</td>\n",
       "      <td>3</td>\n",
       "      <td>3</td>\n",
       "      <td>3</td>\n",
       "      <td>3</td>\n",
       "      <td>3</td>\n",
       "    </tr>\n",
       "    <tr>\n",
       "      <th>2015</th>\n",
       "      <td>3</td>\n",
       "      <td>3</td>\n",
       "      <td>3</td>\n",
       "      <td>3</td>\n",
       "      <td>3</td>\n",
       "      <td>3</td>\n",
       "      <td>3</td>\n",
       "      <td>3</td>\n",
       "      <td>3</td>\n",
       "      <td>3</td>\n",
       "      <td>...</td>\n",
       "      <td>3</td>\n",
       "      <td>3</td>\n",
       "      <td>3</td>\n",
       "      <td>3</td>\n",
       "      <td>3</td>\n",
       "      <td>3</td>\n",
       "      <td>3</td>\n",
       "      <td>3</td>\n",
       "      <td>3</td>\n",
       "      <td>3</td>\n",
       "    </tr>\n",
       "    <tr>\n",
       "      <th>2018</th>\n",
       "      <td>3</td>\n",
       "      <td>3</td>\n",
       "      <td>3</td>\n",
       "      <td>3</td>\n",
       "      <td>3</td>\n",
       "      <td>3</td>\n",
       "      <td>3</td>\n",
       "      <td>3</td>\n",
       "      <td>3</td>\n",
       "      <td>3</td>\n",
       "      <td>...</td>\n",
       "      <td>3</td>\n",
       "      <td>3</td>\n",
       "      <td>3</td>\n",
       "      <td>3</td>\n",
       "      <td>3</td>\n",
       "      <td>3</td>\n",
       "      <td>3</td>\n",
       "      <td>3</td>\n",
       "      <td>3</td>\n",
       "      <td>3</td>\n",
       "    </tr>\n",
       "    <tr>\n",
       "      <th>2019</th>\n",
       "      <td>2</td>\n",
       "      <td>2</td>\n",
       "      <td>2</td>\n",
       "      <td>2</td>\n",
       "      <td>2</td>\n",
       "      <td>2</td>\n",
       "      <td>2</td>\n",
       "      <td>2</td>\n",
       "      <td>2</td>\n",
       "      <td>2</td>\n",
       "      <td>...</td>\n",
       "      <td>2</td>\n",
       "      <td>2</td>\n",
       "      <td>2</td>\n",
       "      <td>2</td>\n",
       "      <td>2</td>\n",
       "      <td>2</td>\n",
       "      <td>2</td>\n",
       "      <td>2</td>\n",
       "      <td>2</td>\n",
       "      <td>2</td>\n",
       "    </tr>\n",
       "    <tr>\n",
       "      <th>2020</th>\n",
       "      <td>2</td>\n",
       "      <td>2</td>\n",
       "      <td>2</td>\n",
       "      <td>2</td>\n",
       "      <td>2</td>\n",
       "      <td>2</td>\n",
       "      <td>2</td>\n",
       "      <td>2</td>\n",
       "      <td>2</td>\n",
       "      <td>2</td>\n",
       "      <td>...</td>\n",
       "      <td>2</td>\n",
       "      <td>2</td>\n",
       "      <td>2</td>\n",
       "      <td>2</td>\n",
       "      <td>2</td>\n",
       "      <td>2</td>\n",
       "      <td>2</td>\n",
       "      <td>2</td>\n",
       "      <td>2</td>\n",
       "      <td>2</td>\n",
       "    </tr>\n",
       "    <tr>\n",
       "      <th>2021</th>\n",
       "      <td>1</td>\n",
       "      <td>1</td>\n",
       "      <td>1</td>\n",
       "      <td>1</td>\n",
       "      <td>1</td>\n",
       "      <td>1</td>\n",
       "      <td>1</td>\n",
       "      <td>1</td>\n",
       "      <td>1</td>\n",
       "      <td>1</td>\n",
       "      <td>...</td>\n",
       "      <td>1</td>\n",
       "      <td>1</td>\n",
       "      <td>1</td>\n",
       "      <td>1</td>\n",
       "      <td>1</td>\n",
       "      <td>1</td>\n",
       "      <td>1</td>\n",
       "      <td>1</td>\n",
       "      <td>1</td>\n",
       "      <td>1</td>\n",
       "    </tr>\n",
       "  </tbody>\n",
       "</table>\n",
       "<p>28 rows × 33 columns</p>\n",
       "</div>"
      ],
      "text/plain": [
       "            resultId  raceId  driverId  positionText  positionOrder  \\\n",
       "races.year                                                            \n",
       "1954               4       4         4             4              4   \n",
       "1956               1       1         1             1              1   \n",
       "1971               2       2         2             2              2   \n",
       "1973               9       9         9             9              9   \n",
       "1975              16      16        16            16             16   \n",
       "1977               2       2         2             2              2   \n",
       "1981               1       1         1             1              1   \n",
       "1985               3       3         3             3              3   \n",
       "1987               2       2         2             2              2   \n",
       "1990               1       1         1             1              1   \n",
       "1991               3       3         3             3              3   \n",
       "1995               3       3         3             3              3   \n",
       "1997               1       1         1             1              1   \n",
       "2001               2       2         2             2              2   \n",
       "2004               2       2         2             2              2   \n",
       "2006               3       3         3             3              3   \n",
       "2007               1       1         1             1              1   \n",
       "2008               2       2         2             2              2   \n",
       "2009               2       2         2             2              2   \n",
       "2010               1       1         1             1              1   \n",
       "2011               1       1         1             1              1   \n",
       "2012               2       2         2             2              2   \n",
       "2014               3       3         3             3              3   \n",
       "2015               3       3         3             3              3   \n",
       "2018               3       3         3             3              3   \n",
       "2019               2       2         2             2              2   \n",
       "2020               2       2         2             2              2   \n",
       "2021               1       1         1             1              1   \n",
       "\n",
       "            races.raceId  races.circuitId  drivers.forename  drivers.surname  \\\n",
       "races.year                                                                     \n",
       "1954                   4                4                 4                4   \n",
       "1956                   1                1                 1                1   \n",
       "1971                   2                2                 2                2   \n",
       "1973                   9                9                 9                9   \n",
       "1975                  16               16                16               16   \n",
       "1977                   2                2                 2                2   \n",
       "1981                   1                1                 1                1   \n",
       "1985                   3                3                 3                3   \n",
       "1987                   2                2                 2                2   \n",
       "1990                   1                1                 1                1   \n",
       "1991                   3                3                 3                3   \n",
       "1995                   3                3                 3                3   \n",
       "1997                   1                1                 1                1   \n",
       "2001                   2                2                 2                2   \n",
       "2004                   2                2                 2                2   \n",
       "2006                   3                3                 3                3   \n",
       "2007                   1                1                 1                1   \n",
       "2008                   2                2                 2                2   \n",
       "2009                   2                2                 2                2   \n",
       "2010                   1                1                 1                1   \n",
       "2011                   1                1                 1                1   \n",
       "2012                   2                2                 2                2   \n",
       "2014                   3                3                 3                3   \n",
       "2015                   3                3                 3                3   \n",
       "2018                   3                3                 3                3   \n",
       "2019                   2                2                 2                2   \n",
       "2020                   2                2                 2                2   \n",
       "2021                   1                1                 1                1   \n",
       "\n",
       "            drivers.nationality  ...  laps  time  milliseconds  fastestLap  \\\n",
       "races.year                       ...                                         \n",
       "1954                          4  ...     4     4             4           4   \n",
       "1956                          1  ...     1     1             1           1   \n",
       "1971                          2  ...     2     2             2           2   \n",
       "1973                          9  ...     9     9             9           9   \n",
       "1975                         16  ...    16    16            16          16   \n",
       "1977                          2  ...     2     2             2           2   \n",
       "1981                          1  ...     1     1             1           1   \n",
       "1985                          3  ...     3     3             3           3   \n",
       "1987                          2  ...     2     2             2           2   \n",
       "1990                          1  ...     1     1             1           1   \n",
       "1991                          3  ...     3     3             3           3   \n",
       "1995                          3  ...     3     3             3           3   \n",
       "1997                          1  ...     1     1             1           1   \n",
       "2001                          2  ...     2     2             2           2   \n",
       "2004                          2  ...     2     2             2           2   \n",
       "2006                          3  ...     3     3             3           3   \n",
       "2007                          1  ...     1     1             1           1   \n",
       "2008                          2  ...     2     2             2           2   \n",
       "2009                          2  ...     2     2             2           2   \n",
       "2010                          1  ...     1     1             1           1   \n",
       "2011                          1  ...     1     1             1           1   \n",
       "2012                          2  ...     2     2             2           2   \n",
       "2014                          3  ...     3     3             3           3   \n",
       "2015                          3  ...     3     3             3           3   \n",
       "2018                          3  ...     3     3             3           3   \n",
       "2019                          2  ...     2     2             2           2   \n",
       "2020                          2  ...     2     2             2           2   \n",
       "2021                          1  ...     1     1             1           1   \n",
       "\n",
       "            rank  fastestLapTime  fastestLapSpeed  statusId  races.round  \\\n",
       "races.year                                                                 \n",
       "1954           4               4                4         4            4   \n",
       "1956           1               1                1         1            1   \n",
       "1971           2               2                2         2            2   \n",
       "1973           9               9                9         9            9   \n",
       "1975          16              16               16        16           16   \n",
       "1977           2               2                2         2            2   \n",
       "1981           1               1                1         1            1   \n",
       "1985           3               3                3         3            3   \n",
       "1987           2               2                2         2            2   \n",
       "1990           1               1                1         1            1   \n",
       "1991           3               3                3         3            3   \n",
       "1995           3               3                3         3            3   \n",
       "1997           1               1                1         1            1   \n",
       "2001           2               2                2         2            2   \n",
       "2004           2               2                2         2            2   \n",
       "2006           3               3                3         3            3   \n",
       "2007           1               1                1         1            1   \n",
       "2008           2               2                2         2            2   \n",
       "2009           2               2                2         2            2   \n",
       "2010           1               1                1         1            1   \n",
       "2011           1               1                1         1            1   \n",
       "2012           2               2                2         2            2   \n",
       "2014           3               3                3         3            3   \n",
       "2015           3               3                3         3            3   \n",
       "2018           3               3                3         3            3   \n",
       "2019           2               2                2         2            2   \n",
       "2020           2               2                2         2            2   \n",
       "2021           1               1                1         1            1   \n",
       "\n",
       "            drivers.fullname  \n",
       "races.year                    \n",
       "1954                       4  \n",
       "1956                       1  \n",
       "1971                       2  \n",
       "1973                       9  \n",
       "1975                      16  \n",
       "1977                       2  \n",
       "1981                       1  \n",
       "1985                       3  \n",
       "1987                       2  \n",
       "1990                       1  \n",
       "1991                       3  \n",
       "1995                       3  \n",
       "1997                       1  \n",
       "2001                       2  \n",
       "2004                       2  \n",
       "2006                       3  \n",
       "2007                       1  \n",
       "2008                       2  \n",
       "2009                       2  \n",
       "2010                       1  \n",
       "2011                       1  \n",
       "2012                       2  \n",
       "2014                       3  \n",
       "2015                       3  \n",
       "2018                       3  \n",
       "2019                       2  \n",
       "2020                       2  \n",
       "2021                       1  \n",
       "\n",
       "[28 rows x 33 columns]"
      ]
     },
     "execution_count": 71,
     "metadata": {},
     "output_type": "execute_result"
    }
   ],
   "source": [
    "len(df_final_circuit[(df_final_circuit['statusId'] == 3) | (df_final_circuit['statusId'] == 4)].groupby('races.year').count()"
   ]
  },
  {
   "cell_type": "code",
   "execution_count": 67,
   "metadata": {},
   "outputs": [
    {
     "data": {
      "text/plain": [
       "20"
      ]
     },
     "execution_count": 67,
     "metadata": {},
     "output_type": "execute_result"
    }
   ],
   "source": [
    "len(df_final_circuit[(df_final_circuit['positionText'] == '1') & (df_final_circuit['grid'] == 1)])"
   ]
  },
  {
   "cell_type": "code",
   "execution_count": 63,
   "metadata": {},
   "outputs": [
    {
     "data": {
      "application/vnd.plotly.v1+json": {
       "config": {
        "plotlyServerURL": "https://plot.ly"
       },
       "data": [
        {
         "domain": {
          "x": [
           0,
           1
          ],
          "y": [
           0,
           1
          ]
         },
         "gauge": {
          "axis": {
           "range": [
            null,
            100
           ]
          },
          "bar": {
           "color": "#e50000"
          }
         },
         "mode": "gauge+number",
         "type": "indicator",
         "value": 0
        }
       ],
       "layout": {
        "font": {
         "color": "white",
         "size": 15
        },
        "height": 150,
        "margin": {
         "b": 10,
         "l": 10,
         "r": 10,
         "t": 40
        },
        "paper_bgcolor": "rgba(0, 0, 0, 0)",
        "plot_bgcolor": "rgba(0, 0, 0, 0)",
        "showlegend": false,
        "template": {
         "data": {
          "bar": [
           {
            "error_x": {
             "color": "#f2f5fa"
            },
            "error_y": {
             "color": "#f2f5fa"
            },
            "marker": {
             "line": {
              "color": "rgb(17,17,17)",
              "width": 0.5
             }
            },
            "type": "bar"
           }
          ],
          "barpolar": [
           {
            "marker": {
             "line": {
              "color": "rgb(17,17,17)",
              "width": 0.5
             }
            },
            "type": "barpolar"
           }
          ],
          "carpet": [
           {
            "aaxis": {
             "endlinecolor": "#A2B1C6",
             "gridcolor": "#506784",
             "linecolor": "#506784",
             "minorgridcolor": "#506784",
             "startlinecolor": "#A2B1C6"
            },
            "baxis": {
             "endlinecolor": "#A2B1C6",
             "gridcolor": "#506784",
             "linecolor": "#506784",
             "minorgridcolor": "#506784",
             "startlinecolor": "#A2B1C6"
            },
            "type": "carpet"
           }
          ],
          "choropleth": [
           {
            "colorbar": {
             "outlinewidth": 0,
             "ticks": ""
            },
            "type": "choropleth"
           }
          ],
          "contour": [
           {
            "colorbar": {
             "outlinewidth": 0,
             "ticks": ""
            },
            "colorscale": [
             [
              0,
              "#0d0887"
             ],
             [
              0.1111111111111111,
              "#46039f"
             ],
             [
              0.2222222222222222,
              "#7201a8"
             ],
             [
              0.3333333333333333,
              "#9c179e"
             ],
             [
              0.4444444444444444,
              "#bd3786"
             ],
             [
              0.5555555555555556,
              "#d8576b"
             ],
             [
              0.6666666666666666,
              "#ed7953"
             ],
             [
              0.7777777777777778,
              "#fb9f3a"
             ],
             [
              0.8888888888888888,
              "#fdca26"
             ],
             [
              1,
              "#f0f921"
             ]
            ],
            "type": "contour"
           }
          ],
          "contourcarpet": [
           {
            "colorbar": {
             "outlinewidth": 0,
             "ticks": ""
            },
            "type": "contourcarpet"
           }
          ],
          "heatmap": [
           {
            "colorbar": {
             "outlinewidth": 0,
             "ticks": ""
            },
            "colorscale": [
             [
              0,
              "#0d0887"
             ],
             [
              0.1111111111111111,
              "#46039f"
             ],
             [
              0.2222222222222222,
              "#7201a8"
             ],
             [
              0.3333333333333333,
              "#9c179e"
             ],
             [
              0.4444444444444444,
              "#bd3786"
             ],
             [
              0.5555555555555556,
              "#d8576b"
             ],
             [
              0.6666666666666666,
              "#ed7953"
             ],
             [
              0.7777777777777778,
              "#fb9f3a"
             ],
             [
              0.8888888888888888,
              "#fdca26"
             ],
             [
              1,
              "#f0f921"
             ]
            ],
            "type": "heatmap"
           }
          ],
          "heatmapgl": [
           {
            "colorbar": {
             "outlinewidth": 0,
             "ticks": ""
            },
            "colorscale": [
             [
              0,
              "#0d0887"
             ],
             [
              0.1111111111111111,
              "#46039f"
             ],
             [
              0.2222222222222222,
              "#7201a8"
             ],
             [
              0.3333333333333333,
              "#9c179e"
             ],
             [
              0.4444444444444444,
              "#bd3786"
             ],
             [
              0.5555555555555556,
              "#d8576b"
             ],
             [
              0.6666666666666666,
              "#ed7953"
             ],
             [
              0.7777777777777778,
              "#fb9f3a"
             ],
             [
              0.8888888888888888,
              "#fdca26"
             ],
             [
              1,
              "#f0f921"
             ]
            ],
            "type": "heatmapgl"
           }
          ],
          "histogram": [
           {
            "marker": {
             "colorbar": {
              "outlinewidth": 0,
              "ticks": ""
             }
            },
            "type": "histogram"
           }
          ],
          "histogram2d": [
           {
            "colorbar": {
             "outlinewidth": 0,
             "ticks": ""
            },
            "colorscale": [
             [
              0,
              "#0d0887"
             ],
             [
              0.1111111111111111,
              "#46039f"
             ],
             [
              0.2222222222222222,
              "#7201a8"
             ],
             [
              0.3333333333333333,
              "#9c179e"
             ],
             [
              0.4444444444444444,
              "#bd3786"
             ],
             [
              0.5555555555555556,
              "#d8576b"
             ],
             [
              0.6666666666666666,
              "#ed7953"
             ],
             [
              0.7777777777777778,
              "#fb9f3a"
             ],
             [
              0.8888888888888888,
              "#fdca26"
             ],
             [
              1,
              "#f0f921"
             ]
            ],
            "type": "histogram2d"
           }
          ],
          "histogram2dcontour": [
           {
            "colorbar": {
             "outlinewidth": 0,
             "ticks": ""
            },
            "colorscale": [
             [
              0,
              "#0d0887"
             ],
             [
              0.1111111111111111,
              "#46039f"
             ],
             [
              0.2222222222222222,
              "#7201a8"
             ],
             [
              0.3333333333333333,
              "#9c179e"
             ],
             [
              0.4444444444444444,
              "#bd3786"
             ],
             [
              0.5555555555555556,
              "#d8576b"
             ],
             [
              0.6666666666666666,
              "#ed7953"
             ],
             [
              0.7777777777777778,
              "#fb9f3a"
             ],
             [
              0.8888888888888888,
              "#fdca26"
             ],
             [
              1,
              "#f0f921"
             ]
            ],
            "type": "histogram2dcontour"
           }
          ],
          "mesh3d": [
           {
            "colorbar": {
             "outlinewidth": 0,
             "ticks": ""
            },
            "type": "mesh3d"
           }
          ],
          "parcoords": [
           {
            "line": {
             "colorbar": {
              "outlinewidth": 0,
              "ticks": ""
             }
            },
            "type": "parcoords"
           }
          ],
          "pie": [
           {
            "automargin": true,
            "type": "pie"
           }
          ],
          "scatter": [
           {
            "marker": {
             "line": {
              "color": "#283442"
             }
            },
            "type": "scatter"
           }
          ],
          "scatter3d": [
           {
            "line": {
             "colorbar": {
              "outlinewidth": 0,
              "ticks": ""
             }
            },
            "marker": {
             "colorbar": {
              "outlinewidth": 0,
              "ticks": ""
             }
            },
            "type": "scatter3d"
           }
          ],
          "scattercarpet": [
           {
            "marker": {
             "colorbar": {
              "outlinewidth": 0,
              "ticks": ""
             }
            },
            "type": "scattercarpet"
           }
          ],
          "scattergeo": [
           {
            "marker": {
             "colorbar": {
              "outlinewidth": 0,
              "ticks": ""
             }
            },
            "type": "scattergeo"
           }
          ],
          "scattergl": [
           {
            "marker": {
             "line": {
              "color": "#283442"
             }
            },
            "type": "scattergl"
           }
          ],
          "scattermapbox": [
           {
            "marker": {
             "colorbar": {
              "outlinewidth": 0,
              "ticks": ""
             }
            },
            "type": "scattermapbox"
           }
          ],
          "scatterpolar": [
           {
            "marker": {
             "colorbar": {
              "outlinewidth": 0,
              "ticks": ""
             }
            },
            "type": "scatterpolar"
           }
          ],
          "scatterpolargl": [
           {
            "marker": {
             "colorbar": {
              "outlinewidth": 0,
              "ticks": ""
             }
            },
            "type": "scatterpolargl"
           }
          ],
          "scatterternary": [
           {
            "marker": {
             "colorbar": {
              "outlinewidth": 0,
              "ticks": ""
             }
            },
            "type": "scatterternary"
           }
          ],
          "surface": [
           {
            "colorbar": {
             "outlinewidth": 0,
             "ticks": ""
            },
            "colorscale": [
             [
              0,
              "#0d0887"
             ],
             [
              0.1111111111111111,
              "#46039f"
             ],
             [
              0.2222222222222222,
              "#7201a8"
             ],
             [
              0.3333333333333333,
              "#9c179e"
             ],
             [
              0.4444444444444444,
              "#bd3786"
             ],
             [
              0.5555555555555556,
              "#d8576b"
             ],
             [
              0.6666666666666666,
              "#ed7953"
             ],
             [
              0.7777777777777778,
              "#fb9f3a"
             ],
             [
              0.8888888888888888,
              "#fdca26"
             ],
             [
              1,
              "#f0f921"
             ]
            ],
            "type": "surface"
           }
          ],
          "table": [
           {
            "cells": {
             "fill": {
              "color": "#506784"
             },
             "line": {
              "color": "rgb(17,17,17)"
             }
            },
            "header": {
             "fill": {
              "color": "#2a3f5f"
             },
             "line": {
              "color": "rgb(17,17,17)"
             }
            },
            "type": "table"
           }
          ]
         },
         "layout": {
          "annotationdefaults": {
           "arrowcolor": "#f2f5fa",
           "arrowhead": 0,
           "arrowwidth": 1
          },
          "autotypenumbers": "strict",
          "coloraxis": {
           "colorbar": {
            "outlinewidth": 0,
            "ticks": ""
           }
          },
          "colorscale": {
           "diverging": [
            [
             0,
             "#8e0152"
            ],
            [
             0.1,
             "#c51b7d"
            ],
            [
             0.2,
             "#de77ae"
            ],
            [
             0.3,
             "#f1b6da"
            ],
            [
             0.4,
             "#fde0ef"
            ],
            [
             0.5,
             "#f7f7f7"
            ],
            [
             0.6,
             "#e6f5d0"
            ],
            [
             0.7,
             "#b8e186"
            ],
            [
             0.8,
             "#7fbc41"
            ],
            [
             0.9,
             "#4d9221"
            ],
            [
             1,
             "#276419"
            ]
           ],
           "sequential": [
            [
             0,
             "#0d0887"
            ],
            [
             0.1111111111111111,
             "#46039f"
            ],
            [
             0.2222222222222222,
             "#7201a8"
            ],
            [
             0.3333333333333333,
             "#9c179e"
            ],
            [
             0.4444444444444444,
             "#bd3786"
            ],
            [
             0.5555555555555556,
             "#d8576b"
            ],
            [
             0.6666666666666666,
             "#ed7953"
            ],
            [
             0.7777777777777778,
             "#fb9f3a"
            ],
            [
             0.8888888888888888,
             "#fdca26"
            ],
            [
             1,
             "#f0f921"
            ]
           ],
           "sequentialminus": [
            [
             0,
             "#0d0887"
            ],
            [
             0.1111111111111111,
             "#46039f"
            ],
            [
             0.2222222222222222,
             "#7201a8"
            ],
            [
             0.3333333333333333,
             "#9c179e"
            ],
            [
             0.4444444444444444,
             "#bd3786"
            ],
            [
             0.5555555555555556,
             "#d8576b"
            ],
            [
             0.6666666666666666,
             "#ed7953"
            ],
            [
             0.7777777777777778,
             "#fb9f3a"
            ],
            [
             0.8888888888888888,
             "#fdca26"
            ],
            [
             1,
             "#f0f921"
            ]
           ]
          },
          "colorway": [
           "#636efa",
           "#EF553B",
           "#00cc96",
           "#ab63fa",
           "#FFA15A",
           "#19d3f3",
           "#FF6692",
           "#B6E880",
           "#FF97FF",
           "#FECB52"
          ],
          "font": {
           "color": "#f2f5fa"
          },
          "geo": {
           "bgcolor": "rgb(17,17,17)",
           "lakecolor": "rgb(17,17,17)",
           "landcolor": "rgb(17,17,17)",
           "showlakes": true,
           "showland": true,
           "subunitcolor": "#506784"
          },
          "hoverlabel": {
           "align": "left"
          },
          "hovermode": "closest",
          "mapbox": {
           "style": "dark"
          },
          "paper_bgcolor": "rgb(17,17,17)",
          "plot_bgcolor": "rgb(17,17,17)",
          "polar": {
           "angularaxis": {
            "gridcolor": "#506784",
            "linecolor": "#506784",
            "ticks": ""
           },
           "bgcolor": "rgb(17,17,17)",
           "radialaxis": {
            "gridcolor": "#506784",
            "linecolor": "#506784",
            "ticks": ""
           }
          },
          "scene": {
           "xaxis": {
            "backgroundcolor": "rgb(17,17,17)",
            "gridcolor": "#506784",
            "gridwidth": 2,
            "linecolor": "#506784",
            "showbackground": true,
            "ticks": "",
            "zerolinecolor": "#C8D4E3"
           },
           "yaxis": {
            "backgroundcolor": "rgb(17,17,17)",
            "gridcolor": "#506784",
            "gridwidth": 2,
            "linecolor": "#506784",
            "showbackground": true,
            "ticks": "",
            "zerolinecolor": "#C8D4E3"
           },
           "zaxis": {
            "backgroundcolor": "rgb(17,17,17)",
            "gridcolor": "#506784",
            "gridwidth": 2,
            "linecolor": "#506784",
            "showbackground": true,
            "ticks": "",
            "zerolinecolor": "#C8D4E3"
           }
          },
          "shapedefaults": {
           "line": {
            "color": "#f2f5fa"
           }
          },
          "sliderdefaults": {
           "bgcolor": "#C8D4E3",
           "bordercolor": "rgb(17,17,17)",
           "borderwidth": 1,
           "tickwidth": 0
          },
          "ternary": {
           "aaxis": {
            "gridcolor": "#506784",
            "linecolor": "#506784",
            "ticks": ""
           },
           "baxis": {
            "gridcolor": "#506784",
            "linecolor": "#506784",
            "ticks": ""
           },
           "bgcolor": "rgb(17,17,17)",
           "caxis": {
            "gridcolor": "#506784",
            "linecolor": "#506784",
            "ticks": ""
           }
          },
          "title": {
           "x": 0.05
          },
          "updatemenudefaults": {
           "bgcolor": "#506784",
           "borderwidth": 0
          },
          "xaxis": {
           "automargin": true,
           "gridcolor": "#283442",
           "linecolor": "#506784",
           "ticks": "",
           "title": {
            "standoff": 15
           },
           "zerolinecolor": "#283442",
           "zerolinewidth": 2
          },
          "yaxis": {
           "automargin": true,
           "gridcolor": "#283442",
           "linecolor": "#506784",
           "ticks": "",
           "title": {
            "standoff": 15
           },
           "zerolinecolor": "#283442",
           "zerolinewidth": 2
          }
         }
        }
       }
      }
     },
     "metadata": {},
     "output_type": "display_data"
    }
   ],
   "source": [
    "pole_conv_win = go.Figure(go.Indicator(\n",
    "        domain={'x': [0, 1], 'y': [0, 1]},\n",
    "        value=final_polewin,\n",
    "        mode=\"gauge+number\",\n",
    "        gauge={'axis': {'range': [None, 100]}, 'bar': {'color': \"#e50000\"}}))\n",
    "pole_conv_win.update_layout(\n",
    "        height = 150,\n",
    "        margin=dict(l=10, r=10, t=40, b=10),\n",
    "        showlegend=False,\n",
    "        template=\"plotly_dark\",\n",
    "        plot_bgcolor = 'rgba(0, 0, 0, 0)',\n",
    "        paper_bgcolor = 'rgba(0, 0, 0, 0)',\n",
    "        font_color=\"white\",\n",
    "        font_size= 15\n",
    "    )"
   ]
  },
  {
   "cell_type": "code",
   "execution_count": null,
   "metadata": {},
   "outputs": [],
   "source": []
  }
 ],
 "metadata": {
  "interpreter": {
   "hash": "7c5bc60f1b709cc28d984b044e46a36e86d71fb0a6f2e3589923fa1d0135e80a"
  },
  "kernelspec": {
   "display_name": "Python 3.8.12 ('ML')",
   "language": "python",
   "name": "python3"
  },
  "language_info": {
   "codemirror_mode": {
    "name": "ipython",
    "version": 3
   },
   "file_extension": ".py",
   "mimetype": "text/x-python",
   "name": "python",
   "nbconvert_exporter": "python",
   "pygments_lexer": "ipython3",
   "version": "3.8.12"
  },
  "orig_nbformat": 4
 },
 "nbformat": 4,
 "nbformat_minor": 2
}
